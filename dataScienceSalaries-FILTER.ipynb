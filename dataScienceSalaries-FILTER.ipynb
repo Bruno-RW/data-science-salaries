{
 "cells": [
  {
   "cell_type": "markdown",
   "id": "d3a36de5-8344-44ee-93b2-6721588e9474",
   "metadata": {},
   "source": [
    "<div\n",
    "    align=\"center\"\n",
    "    style=\"\n",
    "        background-color: #082f49; \n",
    "        font-size: 30px; \n",
    "        font-family: 'Arial', sans-serif; \n",
    "        color: #F9F9F9; \n",
    "        padding: 10px; \n",
    "        line-height: 1.5; \n",
    "        border-radius: 15px;\n",
    "        margin: 10px 0;\n",
    "    \"\n",
    ">\n",
    "    <h1>Data Science Salaries Analysis</h1>\n",
    "</div>\n"
   ]
  },
  {
   "cell_type": "markdown",
   "id": "1be82c50-9eb4-47c5-89ca-4544f2b2f71a",
   "metadata": {},
   "source": [
    "<div \r\n",
    "    align=\"left\" \r\n",
    "    style=\"\r\n",
    "        background-color: #075985; \r\n",
    "        font-size: 24px; \r\n",
    "        font-family: 'Arial', sans-serif; \r\n",
    "        color: #F9F9F9; \r\n",
    "        padding: 10px; \r\n",
    "        line-height: 1; \r\n",
    "        border-radius: 15px;\r\n",
    "        margin: 10px 0;\r\n",
    "    >\r\n",
    ">\r\n",
    "    <h3s1 - General Setup</h3>\r\n",
    "</div>"
   ]
  },
  {
   "cell_type": "markdown",
   "id": "69b34fcf-0bf5-4772-9d99-24389c9c2774",
   "metadata": {
    "jp-MarkdownHeadingCollapsed": true
   },
   "source": [
    "<div \n",
    "    align=\"left\" \n",
    "    style=\"\n",
    "        background-color: #075985; \n",
    "        font-size: 24px; \n",
    "        font-family: 'Arial', sans-serif; \n",
    "        color: #F9F9F9; \n",
    "        padding: 10px; \n",
    "        line-height: 1; \n",
    "        border-radius: 15px;\n",
    "        margin: 10px 0;\n",
    "    \"\n",
    ">\n",
    "    <h3>1 - General setup</h3>\n",
    "</div>"
   ]
  },
  {
   "cell_type": "code",
   "execution_count": null,
   "id": "840635c5-02ce-4e2d-8160-76f059709eb2",
   "metadata": {},
   "outputs": [],
   "source": [
    "import os\n",
    "import warnings\n",
    "\n",
    "import numpy as np\n",
    "import pandas as pd\n",
    "import psycopg2\n",
    "\n",
    "import seaborn as sns\n",
    "import plotly.io as pio\n",
    "from skimpy import skim\n",
    "import matplotlib as mpl\n",
    "import matplotlib.pyplot as plt"
   ]
  },
  {
   "cell_type": "markdown",
   "id": "f0040306-8aca-4ad0-ab3d-31e11b795e30",
   "metadata": {
    "jp-MarkdownHeadingCollapsed": true
   },
   "source": [
    "<div \n",
    "    align=\"left\" \n",
    "    style=\"\n",
    "        background-color: #0284c7; \n",
    "        font-size: 20px; \n",
    "        font-family: 'Arial', sans-serif; \n",
    "        color: #F9F9F9; \n",
    "        padding: 5px; \n",
    "        line-height: 1; \n",
    "        border-radius: 15px;\n",
    "        margin: 5px 0;\n",
    "    \"\n",
    ">\n",
    "    <h4>1.2 - Visualization setup</h4>\n",
    "</div>"
   ]
  },
  {
   "cell_type": "code",
   "execution_count": null,
   "id": "fbeb4a76-aa1b-4beb-ada0-aaf2087f759a",
   "metadata": {},
   "outputs": [],
   "source": [
    "pio.renderers.default = 'notebook'\n",
    "\n",
    "%matplotlib inline \n",
    "# Charts displayed within cells\n",
    "sns.set_theme(style=\"dark\")\n",
    "plt.style.use('dark_background')\n",
    "\n",
    "# Modify display settings\n",
    "pd.set_option('display.float_format', '{:.0f}'.format)\n",
    "pd.set_option('display.max_columns', None)\n",
    "pd.set_option('display.max_rows', None)\n",
    "\n",
    "# Ignore warnings\n",
    "warnings.filterwarnings(\"ignore\")"
   ]
  },
  {
   "cell_type": "markdown",
   "id": "2b7dc304-8010-4bc8-894e-df7e5441943d",
   "metadata": {
    "jp-MarkdownHeadingCollapsed": true
   },
   "source": [
    "<div \n",
    "    align=\"left\" \n",
    "    style=\"\n",
    "        background-color: #0284c7; \n",
    "        font-size: 20px; \n",
    "        font-family: 'Arial', sans-serif; \n",
    "        color: #F9F9F9; \n",
    "        padding: 5px; \n",
    "        line-height: 1; \n",
    "        border-radius: 15px;\n",
    "        margin: 5px 0;\n",
    "    \"\n",
    ">\n",
    "    <h4>1.3 - General functions</h4>\n",
    "</div>"
   ]
  },
  {
   "cell_type": "code",
   "execution_count": null,
   "id": "2a499088-1402-480c-99d3-b70f70fd9c8c",
   "metadata": {},
   "outputs": [],
   "source": [
    "def styleDF(\n",
    "    df,\n",
    "    cmap_colors=[\"#e5e7eb\",\"#172554\"],\n",
    "    font_size=\"14pt\",\n",
    "    header_font_size=\"16pt\",\n",
    "    padding=\"8px\"\n",
    "):\n",
    "    # Create color map\n",
    "    customCMap = mpl.colors.LinearSegmentedColormap.from_list(\"customCMap\", cmap_colors)\n",
    "\n",
    "    # Style the DataFrame\n",
    "    return df.style\\\n",
    "        .set_properties(**{\n",
    "            'font-size': font_size,\n",
    "            'text-align': 'center',\n",
    "            'padding': padding\n",
    "        })\\\n",
    "        .set_table_styles(\n",
    "            [{\n",
    "                'selector': 'th', \n",
    "                'props': [\n",
    "                    ('font-size', header_font_size), \n",
    "                    ('text-align', 'center'), \n",
    "                    ('padding', padding)\n",
    "                ]\n",
    "            }]  \n",
    "        )\\\n",
    "        .background_gradient(cmap=customCMap)\n",
    "\n",
    "def createTable(cursor, tableName, df):\n",
    "    # Create column values\n",
    "    columns = \", \".join([f\"{col} TEXT\" for col in df.columns])\n",
    "    \n",
    "    createTableQuery = f\"\"\"\n",
    "        CREATE OR REPLACE TABLE {tableName} (\n",
    "            {columns}\n",
    "        );\n",
    "    \"\"\"\n",
    "    cursor.execute(createTableQuery)\n",
    "\n",
    "def insertRows():\n",
    "    insertRowsQuery = f\"\"\"\n",
    "        INSERT INTO {tableName} VALUES (%s, %s, %s);\n",
    "    \"\"\"\n",
    "    \n",
    "    for row in df.itertuples(index=False, name=None):\n",
    "        cursor.execute(insertRowsQuery, row)\n"
   ]
  },
  {
   "cell_type": "markdown",
   "id": "a94473f4-2068-4438-83a8-f6cdf3203856",
   "metadata": {
    "jp-MarkdownHeadingCollapsed": true
   },
   "source": [
    "<div \n",
    "    align=\"left\" \n",
    "    style=\"\n",
    "        background-color: #075985; \n",
    "        font-size: 24px; \n",
    "        font-family: 'Arial', sans-serif; \n",
    "        color: #F9F9F9; \n",
    "        padding: 10px; \n",
    "        line-height: 1; \n",
    "        border-radius: 15px;\n",
    "        margin: 10px 0;\n",
    "    \"\n",
    ">\n",
    "    <h3>2 - Initial data visualization and inspection</h3>\n",
    "</div>"
   ]
  },
  {
   "cell_type": "markdown",
   "id": "e703da24-91e0-47b4-be43-6a85d9e4aa59",
   "metadata": {
    "jp-MarkdownHeadingCollapsed": true
   },
   "source": [
    "<div \n",
    "    align=\"left\" \n",
    "    style=\"\n",
    "        background-color: #0284c7; \n",
    "        font-size: 20px; \n",
    "        font-family: 'Arial', sans-serif; \n",
    "        color: #F9F9F9; \n",
    "        padding: 5px; \n",
    "        line-height: 1; \n",
    "        border-radius: 15px;\n",
    "        margin: 5px 0;\n",
    "    \"\n",
    ">\n",
    "    <h4>2.1 - Load dataset</h4>\n",
    "</div>"
   ]
  },
  {
   "cell_type": "code",
   "execution_count": null,
   "id": "5fa3b559-f142-4e8b-b8da-33180c8060ea",
   "metadata": {},
   "outputs": [],
   "source": [
    "# Build dynamic file path\n",
    "homeDirectory = os.path.expanduser(\"~\")\n",
    "filePath = os.path.join(\n",
    "    homeDirectory,\n",
    "    r'Desktop\\Data Science Salaries\\DataScience_salaries_2024.csv'\n",
    ")\n",
    "\n",
    "# Load CSV file\n",
    "dfSalaries = pd.read_csv(filePath)"
   ]
  },
  {
   "cell_type": "markdown",
   "id": "c491fb86-4836-428b-ad0c-38641fa8221d",
   "metadata": {},
   "source": [
    "<div \n",
    "    align=\"left\" \n",
    "    style=\"\n",
    "        background-color: #0284c7; \n",
    "        font-size: 20px; \n",
    "        font-family: 'Arial', sans-serif; \n",
    "        color: #F9F9F9; \n",
    "        padding: 5px; \n",
    "        line-height: 1; \n",
    "        border-radius: 15px;\n",
    "        margin: 5px 0;\n",
    "    \"\n",
    ">\n",
    "    <h4>2.2 - Visualize data structure</h4>\n",
    "</div>"
   ]
  },
  {
   "cell_type": "code",
   "execution_count": null,
   "id": "09ba1ffc-2287-45c6-bb57-8bd5058159bd",
   "metadata": {},
   "outputs": [],
   "source": [
    "skim(dfSalaries)"
   ]
  },
  {
   "cell_type": "markdown",
   "id": "2243807d-1d59-4c5a-a50a-6dfcb0179695",
   "metadata": {},
   "source": [
    "<div \n",
    "    align=\"left\" \n",
    "    style=\"\n",
    "        background-color: #0284c7; \n",
    "        font-size: 20px; \n",
    "        font-family: 'Arial', sans-serif; \n",
    "        color: #F9F9F9; \n",
    "        padding: 5px; \n",
    "        line-height: 1; \n",
    "        border-radius: 15px;\n",
    "        margin: 5px 0;\n",
    "    \"\n",
    ">\n",
    "    <h4>2.3 - Visualize general data redundancy</h4>\n",
    "</div>"
   ]
  },
  {
   "cell_type": "code",
   "execution_count": null,
   "id": "81ef81cd-339b-4392-b578-b0c3677dbaa1",
   "metadata": {},
   "outputs": [],
   "source": [
    "pd.DataFrame({\n",
    "    'Count':dfSalaries.shape[0],\n",
    "    'Null':dfSalaries.isnull().sum(),\n",
    "    'Null %':dfSalaries.isnull().mean() * 100,\n",
    "    'Unique':dfSalaries.nunique(),\n",
    "    'Duplicated':(dfSalaries.duplicated() == True).sum()\n",
    "})"
   ]
  },
  {
   "cell_type": "markdown",
   "id": "7549ce52-ba88-4250-89c7-550b70ef62c7",
   "metadata": {
    "jp-MarkdownHeadingCollapsed": true
   },
   "source": [
    "<div \n",
    "    align=\"left\" \n",
    "    style=\"\n",
    "        background-color: #075985; \n",
    "        font-size: 24px; \n",
    "        font-family: 'Arial', sans-serif; \n",
    "        color: #F9F9F9; \n",
    "        padding: 10px; \n",
    "        line-height: 1; \n",
    "        border-radius: 15px;\n",
    "        margin: 10px 0;\n",
    "    \"\n",
    ">\n",
    "    <h3>3 - Data cleaning and transformation</h3>\n",
    "</div>"
   ]
  },
  {
   "cell_type": "markdown",
   "id": "862b7df9-924d-474f-88b7-afc254ac8fdc",
   "metadata": {
    "jp-MarkdownHeadingCollapsed": true
   },
   "source": [
    "<div \n",
    "    align=\"left\" \n",
    "    style=\"\n",
    "        background-color: #0284c7; \n",
    "        font-size: 20px; \n",
    "        font-family: 'Arial', sans-serif; \n",
    "        color: #F9F9F9; \n",
    "        padding: 5px; \n",
    "        line-height: 1; \n",
    "        border-radius: 15px;\n",
    "        margin: 5px 0;\n",
    "    \"\n",
    ">\n",
    "    <h4>3.1 - Detect outliers</h4>\n",
    "</div>"
   ]
  },
  {
   "cell_type": "code",
   "execution_count": null,
   "id": "065dd605-e234-4e06-ab7d-4a4d49caa24a",
   "metadata": {},
   "outputs": [],
   "source": [
    "# Find Q1, Q2, Q3 and calculate IQR, MIN, MAX\n",
    "Q1 = dfSalaries[\"salary_in_usd\"].quantile(0.25)\n",
    "Q2 = dfSalaries[\"salary_in_usd\"].quantile(0.50)\n",
    "Q3 = dfSalaries[\"salary_in_usd\"].quantile(0.75)\n",
    "print(f\"Q1={Q1}, Q2={Q2}, Q3={Q3}\\n\")\n",
    "\n",
    "IQR = Q3 - Q1\n",
    "print(f\"IQR={IQR}\\n\")\n",
    "\n",
    "lowerBound = Q1 - (1.5 * IQR)\n",
    "upperBound = Q3 + (1.5 * IQR)\n",
    "\n",
    "print(f\"MIN={lowerBound}, MAX={upperBound}\")"
   ]
  },
  {
   "cell_type": "markdown",
   "id": "fbb5b80c-a227-4f58-9dba-3f905896c77d",
   "metadata": {
    "jp-MarkdownHeadingCollapsed": true
   },
   "source": [
    "<div \n",
    "    align=\"left\" \n",
    "    style=\"\n",
    "        background-color: #0284c7; \n",
    "        font-size: 20px; \n",
    "        font-family: 'Arial', sans-serif; \n",
    "        color: #F9F9F9; \n",
    "        padding: 5px; \n",
    "        line-height: 1; \n",
    "        border-radius: 15px;\n",
    "        margin: 5px 0;\n",
    "    \"\n",
    ">\n",
    "    <h4>3.2 - Handle outliers</h4>\n",
    "</div>"
   ]
  },
  {
   "cell_type": "code",
   "execution_count": null,
   "id": "d5575bc0-ed76-4c54-a550-ff459125f30a",
   "metadata": {},
   "outputs": [],
   "source": [
    "# Detect outliers\n",
    "salaryData = dfSalaries['salary_in_usd']\n",
    "outliers = salaryData[(salaryData < lowerBound) | (salaryData > upperBound)]\n",
    "outliersCount = len(outliers)\n",
    "\n",
    "print(f\"Quantity of outliers: {outliersCount}\")\n",
    "\n",
    "# Delete outliers\n",
    "dfSalaries = dfSalaries[~dfSalaries['salary_in_usd'].isin(outliers)]"
   ]
  },
  {
   "cell_type": "markdown",
   "id": "d1e59354-c0d3-40d4-abad-61a819122a7a",
   "metadata": {
    "jp-MarkdownHeadingCollapsed": true
   },
   "source": [
    "<div \n",
    "    align=\"left\" \n",
    "    style=\"\n",
    "        background-color: #0284c7; \n",
    "        font-size: 20px; \n",
    "        font-family: 'Arial', sans-serif; \n",
    "        color: #F9F9F9; \n",
    "        padding: 5px; \n",
    "        line-height: 1; \n",
    "        border-radius: 15px;\n",
    "        margin: 5px 0;\n",
    "    \"\n",
    ">\n",
    "    <h4>3.3 - Rename experience levels</h4>\n",
    "</div>"
   ]
  },
  {
   "cell_type": "code",
   "execution_count": null,
   "id": "af8ae434-40e4-4c10-8045-1c911821c168",
   "metadata": {},
   "outputs": [],
   "source": [
    "def mapExpLevel(df, oldCol='experience_level', newCol='experience_level'):\n",
    "    expLevel = {\n",
    "        'EN': 'Junior',\n",
    "        'MI': 'Mid-Level',\n",
    "        'SE': 'Senior',\n",
    "        'EX': 'Expert'\n",
    "    }\n",
    "\n",
    "    df[newCol] = df[oldCol].replace(expLevel)\n",
    "    return df\n",
    "\n",
    "dfSalaries = mapExpLevel(dfSalaries)"
   ]
  },
  {
   "cell_type": "markdown",
   "id": "e094e502-0689-44cf-90fd-5c7e4402afc5",
   "metadata": {
    "jp-MarkdownHeadingCollapsed": true
   },
   "source": [
    "<div \n",
    "    align=\"left\" \n",
    "    style=\"\n",
    "        background-color: #0284c7; \n",
    "        font-size: 20px; \n",
    "        font-family: 'Arial', sans-serif; \n",
    "        color: #F9F9F9; \n",
    "        padding: 5px; \n",
    "        line-height: 1; \n",
    "        border-radius: 15px;\n",
    "        margin: 5px 0;\n",
    "    \"\n",
    ">\n",
    "    <h4>3.4 - Visualize new experience levels</h4>\n",
    "</div>"
   ]
  },
  {
   "cell_type": "code",
   "execution_count": null,
   "id": "cd59665e-70b1-40d3-846b-aa81d0561be9",
   "metadata": {},
   "outputs": [],
   "source": [
    "# Count each type\n",
    "empExpCounts = dfSalaries['experience_level'].value_counts()\n",
    "\n",
    "# Create dataframe\n",
    "dfEmpExpCounts = empExpCounts.reset_index()\n",
    "dfEmpExpCounts.columns = ['Experience Level', 'Count']\n",
    "\n",
    "# Create colors map\n",
    "dfEmpExpCountsColors = mpl.colors.LinearSegmentedColormap.from_list(\"custom_blue\", [\"#e5e7eb\", \"#172554\"])\n",
    "\n",
    "# Visualize new data\n",
    "styleDF(dfEmpExpCounts)"
   ]
  },
  {
   "cell_type": "markdown",
   "id": "a6d2f3cc-f1d5-4a7c-bd08-0bb35a54ffc9",
   "metadata": {
    "jp-MarkdownHeadingCollapsed": true
   },
   "source": [
    "<div \n",
    "    align=\"left\" \n",
    "    style=\"\n",
    "        background-color: #0284c7; \n",
    "        font-size: 20px; \n",
    "        font-family: 'Arial', sans-serif; \n",
    "        color: #F9F9F9; \n",
    "        padding: 5px; \n",
    "        line-height: 1; \n",
    "        border-radius: 15px;\n",
    "        margin: 5px 0;\n",
    "    \"\n",
    ">\n",
    "    <h4>3.5 - Rename employment types</h4>\n",
    "</div>"
   ]
  },
  {
   "cell_type": "code",
   "execution_count": null,
   "id": "4af031cb-0de0-498a-a1af-c48c27f17838",
   "metadata": {},
   "outputs": [],
   "source": [
    "def mapEmploymentType(df, oldCol='employment_type', newCol='employment_type'):\n",
    "    employmentType = {\n",
    "        'FT': 'Full-Time',\n",
    "        'PT': 'Part-Time',\n",
    "        'CT': 'Contract',\n",
    "        'FL': 'Freelance'\n",
    "    }\n",
    "\n",
    "    df[newCol] = df[oldCol]\\\n",
    "        .map(employmentType)\\\n",
    "        .fillna('Other')\n",
    "\n",
    "    return df\n",
    "\n",
    "dfSalaries = mapEmploymentType(dfSalaries)"
   ]
  },
  {
   "cell_type": "markdown",
   "id": "76b872b7-3934-4154-aa2e-d1d40e4385d9",
   "metadata": {
    "jp-MarkdownHeadingCollapsed": true
   },
   "source": [
    "<div \n",
    "    align=\"left\" \n",
    "    style=\"\n",
    "        background-color: #0284c7; \n",
    "        font-size: 20px; \n",
    "        font-family: 'Arial', sans-serif; \n",
    "        color: #F9F9F9; \n",
    "        padding: 5px; \n",
    "        line-height: 1; \n",
    "        border-radius: 15px;\n",
    "        margin: 5px 0;\n",
    "    \"\n",
    ">\n",
    "    <h4>3.6 - Visualize new employment types</h4>\n",
    "</div>"
   ]
  },
  {
   "cell_type": "code",
   "execution_count": null,
   "id": "72f5a1e0-3ecf-4ad0-82b8-b979dae144d2",
   "metadata": {},
   "outputs": [],
   "source": [
    "# Count each type\n",
    "empTypeCounts = dfSalaries['employment_type'].value_counts()\n",
    "\n",
    "# Create dataframe\n",
    "dfEmpTypeCounts = empTypeCounts.reset_index()\n",
    "dfEmpTypeCounts.columns = ['Employment Type', 'Count']\n",
    "\n",
    "# Create colors map\n",
    "dfEmpTypeCountsColors = mpl.colors.LinearSegmentedColormap.from_list(\"custom_blue\", [\"#e5e7eb\", \"#172554\"])\n",
    "\n",
    "# Visualize new data\n",
    "styleDF(dfEmpTypeCounts)"
   ]
  },
  {
   "cell_type": "markdown",
   "id": "9a2d4034-59f5-48fc-a044-507bfdd847bb",
   "metadata": {
    "jp-MarkdownHeadingCollapsed": true
   },
   "source": [
    "<div \n",
    "    align=\"left\" \n",
    "    style=\"\n",
    "        background-color: #0284c7; \n",
    "        font-size: 20px; \n",
    "        font-family: 'Arial', sans-serif; \n",
    "        color: #F9F9F9; \n",
    "        padding: 5px; \n",
    "        line-height: 1; \n",
    "        border-radius: 15px;\n",
    "        margin: 5px 0;\n",
    "    \"\n",
    ">\n",
    "    <h4>3.7 - Rename employment models</h4>\n",
    "</div>"
   ]
  },
  {
   "cell_type": "code",
   "execution_count": null,
   "id": "516fb4cb-4468-4106-9fd0-1470b4595733",
   "metadata": {},
   "outputs": [],
   "source": [
    "def mapEmploymentModel(df, oldCol='remote_ratio', newCol='employment_model'):\n",
    "\n",
    "    employmentModel = {\n",
    "        0: 'In-Person',\n",
    "        50: 'Hybrid',\n",
    "        100: 'Remote'\n",
    "    }\n",
    "\n",
    "    df[newCol] = df[oldCol].map(employmentModel).fillna('Other')\n",
    "\n",
    "    return df\n",
    "\n",
    "dfEmploymentModel = mapEmploymentModel(dfSalaries)"
   ]
  },
  {
   "cell_type": "markdown",
   "id": "3dea1cc8-fed8-47d4-b6af-b37faecf1487",
   "metadata": {
    "jp-MarkdownHeadingCollapsed": true
   },
   "source": [
    "<div \n",
    "    align=\"left\" \n",
    "    style=\"\n",
    "        background-color: #0284c7; \n",
    "        font-size: 20px; \n",
    "        font-family: 'Arial', sans-serif; \n",
    "        color: #F9F9F9; \n",
    "        padding: 5px; \n",
    "        line-height: 1; \n",
    "        border-radius: 15px;\n",
    "        margin: 5px 0;\n",
    "    \"\n",
    ">\n",
    "    <h4>3.8 - Visualize new employment models</h4>\n",
    "</div>"
   ]
  },
  {
   "cell_type": "code",
   "execution_count": null,
   "id": "9a04b6f9-3782-440d-b2b0-fc1b73cac1d1",
   "metadata": {},
   "outputs": [],
   "source": [
    "# Count each type\n",
    "empModelCounts = dfSalaries['employment_model'].value_counts()\n",
    "\n",
    "# Create dataframe\n",
    "dfEmpModelCounts = empModelCounts.reset_index()\n",
    "dfEmpModelCounts.columns = ['Employment Model', 'Count']\n",
    "\n",
    "# Create colors map\n",
    "dfEmpModelCountsColors = mpl.colors.LinearSegmentedColormap.from_list(\"custom_blue\", [\"#e5e7eb\", \"#172554\"])\n",
    "\n",
    "# Visualize new data\n",
    "styleDF(dfEmpModelCounts)"
   ]
  },
  {
   "cell_type": "markdown",
   "id": "25e07247-4f85-4f68-b3d5-3a1f92ad3dc5",
   "metadata": {
    "jp-MarkdownHeadingCollapsed": true
   },
   "source": [
    "<div \n",
    "    align=\"left\" \n",
    "    style=\"\n",
    "        background-color: #0284c7; \n",
    "        font-size: 20px; \n",
    "        font-family: 'Arial', sans-serif; \n",
    "        color: #F9F9F9; \n",
    "        padding: 5px; \n",
    "        line-height: 1; \n",
    "        border-radius: 15px;\n",
    "        margin: 5px 0;\n",
    "    \"\n",
    ">\n",
    "    <h4>3.9 - Add job category column</h4>\n",
    "</div>"
   ]
  },
  {
   "cell_type": "code",
   "execution_count": null,
   "id": "91fb763f-65c3-43f7-82f3-7de1fdbef4ab",
   "metadata": {},
   "outputs": [],
   "source": [
    "def mapJobCategory(df, oldCol='job_title', newCol='job_category'):\n",
    "    jobGroup = {\n",
    "        'data analyst': 'Data Analyst',\n",
    "        'bi analyst': 'Data Analyst',\n",
    "        'analytics': 'Data Analyst',\n",
    "        'data scientist': 'Data Scientist',\n",
    "        'data science': 'Data Scientist',\n",
    "        'decision scientist': 'Data Scientist',\n",
    "        'data engineer': 'Data Engineer',\n",
    "        'etl': 'Data Engineer',\n",
    "        'pipeline': 'Data Engineer',\n",
    "        'machine learning': 'ML Engineer',\n",
    "        'ml': 'ML Engineer',\n",
    "        'deep learning': 'ML Engineer',\n",
    "        'ai': 'ML Engineer',\n",
    "        'data architect': 'Data Engineer',\n",
    "        'big data': 'Data Engineer',\n",
    "        'cloud data': 'Data Engineer',\n",
    "        'data manager': 'Data Engineer',\n",
    "        'head of data': 'Data Engineer',\n",
    "        'director': 'Data Engineer',\n",
    "        'bi developer': 'Data Analyst',\n",
    "        'power bi': 'Data Analyst',\n",
    "        'business intelligence': 'Data Analyst',\n",
    "        'research scientist': 'Data Scientist',\n",
    "        'research engineer': 'Data Scientist',\n",
    "        'statistician': 'Data Analyst',\n",
    "        'quantitative': 'Data Analyst',\n",
    "        'computational biologist': 'Data Scientist',\n",
    "        'robotics': 'Data Engineer',\n",
    "        'nlp': 'Data Engineer',\n",
    "        'applied scientist': 'Data Scientist',\n",
    "        'research analyst': 'Data Analyst',\n",
    "        'data specialist ': 'Data Scientist',\n",
    "        'data modeler': 'Data Engineer',\n",
    "    }\n",
    "\n",
    "    df[newCol] = df[oldCol].str.lower().apply(\n",
    "        lambda title: next((v for k, v in jobGroup.items() if k in title), 'Data Scientist')\n",
    "    )\n",
    "    return df\n",
    "\n",
    "dfSalaries = mapJobCategory(dfSalaries)"
   ]
  },
  {
   "cell_type": "markdown",
   "id": "ca7db45b-188e-4be4-9535-e6a473eb7d51",
   "metadata": {
    "jp-MarkdownHeadingCollapsed": true
   },
   "source": [
    "<div \n",
    "    align=\"left\" \n",
    "    style=\"\n",
    "        background-color: #0284c7; \n",
    "        font-size: 20px; \n",
    "        font-family: 'Arial', sans-serif; \n",
    "        color: #F9F9F9; \n",
    "        padding: 5px; \n",
    "        line-height: 1; \n",
    "        border-radius: 15px;\n",
    "        margin: 5px 0;\n",
    "    \"\n",
    ">\n",
    "    <h4>3.10 - Visualize new job category column</h4>\n",
    "</div>"
   ]
  },
  {
   "cell_type": "code",
   "execution_count": null,
   "id": "4ac4b1b5-64d2-4c1f-8c7b-b63f528a5e23",
   "metadata": {},
   "outputs": [],
   "source": [
    "# Count each type\n",
    "jobCategoryCounts = dfSalaries['job_category'].value_counts()\n",
    "\n",
    "# Create dataframe\n",
    "dfJobCategoryCounts = jobCategoryCounts.reset_index()\n",
    "dfJobCategoryCounts.columns = ['Job Category', 'Count']\n",
    "\n",
    "# Create colors map\n",
    "dfJobCategoryCountsColors = mpl.colors.LinearSegmentedColormap.from_list(\"custom_blue\", [\"#e5e7eb\", \"#172554\"])\n",
    "\n",
    "# Visualize new data\n",
    "styleDF(dfJobCategoryCounts)"
   ]
  },
  {
   "cell_type": "markdown",
   "id": "0eda973a-d093-4c31-8b6f-e6f4800c48dc",
   "metadata": {
    "jp-MarkdownHeadingCollapsed": true
   },
   "source": [
    "<div \n",
    "    align=\"left\" \n",
    "    style=\"\n",
    "        background-color: #0284c7; \n",
    "        font-size: 20px; \n",
    "        font-family: 'Arial', sans-serif; \n",
    "        color: #F9F9F9; \n",
    "        padding: 5px; \n",
    "        line-height: 1; \n",
    "        border-radius: 15px;\n",
    "        margin: 5px 0;\n",
    "    \"\n",
    ">\n",
    "    <h4>3.11 - Remove unused columns</h4>\n",
    "</div>"
   ]
  },
  {
   "cell_type": "code",
   "execution_count": null,
   "id": "8974e387-5a37-42cd-86df-863c88cea968",
   "metadata": {},
   "outputs": [],
   "source": [
    "dfSalaries = dfSalaries.drop(columns=[\n",
    "    'remote_ratio',\n",
    "    'salary_currency',\n",
    "    'salary_in_usd'\n",
    "])\n",
    "\n",
    "print( dfSalaries.columns )"
   ]
  },
  {
   "cell_type": "markdown",
   "id": "7733a394-5c9a-4a79-ae4a-7c8c64d26aa8",
   "metadata": {},
   "source": [
    "<div \n",
    "    align=\"left\" \n",
    "    style=\"\n",
    "        background-color: #075985; \n",
    "        font-size: 24px; \n",
    "        font-family: 'Arial', sans-serif; \n",
    "        color: #F9F9F9; \n",
    "        padding: 10px; \n",
    "        line-height: 1; \n",
    "        border-radius: 15px;\n",
    "        margin: 10px 0;\n",
    "    \"\n",
    ">\n",
    "    <h3>4 - Data modeling and structuring</h3>\n",
    "</div>"
   ]
  },
  {
   "cell_type": "code",
   "execution_count": null,
   "id": "b2fe02bd-a4b2-43e5-bfd5-2ede529e924d",
   "metadata": {},
   "outputs": [],
   "source": [
    "# Save the DataFrame to a CSV file\n",
    "newFilePath = os.path.join(\n",
    "    homeDirectory,\n",
    "    r'Desktop\\Data Science Salaries\\salaries-filtered.csv'\n",
    ")\n",
    "dfSalaries.to_csv(newFilePath, index=False)"
   ]
  },
  {
   "cell_type": "markdown",
   "id": "93194ad7-e670-4d25-82e4-e823765485b9",
   "metadata": {
    "jp-MarkdownHeadingCollapsed": true
   },
   "source": [
    "<div \n",
    "    align=\"left\" \n",
    "    style=\"\n",
    "        background-color: #075985; \n",
    "        font-size: 24px; \n",
    "        font-family: 'Arial', sans-serif; \n",
    "        color: #F9F9F9; \n",
    "        padding: 10px; \n",
    "        line-height: 1; \n",
    "        border-radius: 15px;\n",
    "        margin: 10px 0;\n",
    "    \"\n",
    ">\n",
    "    <h3>5 - Save data in PostgreSQL database</h3>\n",
    "</div>"
   ]
  },
  {
   "cell_type": "markdown",
   "id": "4df2ed0a-6d4f-4412-b34b-c2b99739bf17",
   "metadata": {},
   "source": [
    "<div \n",
    "    align=\"left\" \n",
    "    style=\"\n",
    "        background-color: #0284c7; \n",
    "        font-size: 20px; \n",
    "        font-family: 'Arial', sans-serif; \n",
    "        color: #F9F9F9; \n",
    "        padding: 5px; \n",
    "        line-height: 1; \n",
    "        border-radius: 15px;\n",
    "        margin: 5px 0;\n",
    "    \"\n",
    ">\n",
    "    <h4>4.1 - Create connection parameters</h4>\n",
    "</div>"
   ]
  },
  {
   "cell_type": "code",
   "execution_count": null,
   "id": "73dac4ac-b019-4ff1-8d49-36442786b4b6",
   "metadata": {},
   "outputs": [],
   "source": [
    "cnxn = psycopg2.connect(\n",
    "    dbname='data-science-salaries',\n",
    "    user='postgres',\n",
    "    password='admin',\n",
    "    host='localhost',\n",
    "    port='5432'\n",
    ")\n",
    "\n",
    "cursor = cnxn.cursor()"
   ]
  },
  {
   "cell_type": "markdown",
   "id": "b80f3f52-73c5-4f19-a830-ac2f1718fed9",
   "metadata": {},
   "source": [
    "<div \n",
    "    align=\"left\" \n",
    "    style=\"\n",
    "        background-color: #0284c7; \n",
    "        font-size: 20px; \n",
    "        font-family: 'Arial', sans-serif; \n",
    "        color: #F9F9F9; \n",
    "        padding: 5px; \n",
    "        line-height: 1; \n",
    "        border-radius: 15px;\n",
    "        margin: 5px 0;\n",
    "    \"\n",
    ">\n",
    "    <h4>4.2 - Create database tables</h4>\n",
    "</div>"
   ]
  },
  {
   "cell_type": "code",
   "execution_count": null,
   "id": "496d85c7-8a06-4946-b404-77b585a1c36d",
   "metadata": {},
   "outputs": [],
   "source": [
    "# # Create employee\n",
    "# createTable(\n",
    "#     cursor=cursor,\n",
    "#     tableName=\"\",\n",
    "#     df=df\n",
    "# )\n",
    "\n",
    "# cnxn.commit()"
   ]
  },
  {
   "cell_type": "markdown",
   "id": "7c2077b7-134c-4e16-b179-3a6286be4280",
   "metadata": {},
   "source": [
    "<div \n",
    "    align=\"left\" \n",
    "    style=\"\n",
    "        background-color: #0284c7; \n",
    "        font-size: 20px; \n",
    "        font-family: 'Arial', sans-serif; \n",
    "        color: #F9F9F9; \n",
    "        padding: 5px; \n",
    "        line-height: 1; \n",
    "        border-radius: 15px;\n",
    "        margin: 5px 0;\n",
    "    \"\n",
    ">\n",
    "    <h4>4.3 - Insert rows on tables</h4>\n",
    "</div>"
   ]
  },
  {
   "cell_type": "code",
   "execution_count": null,
   "id": "cc719b64-3a4f-4b03-8acc-9ef0645d71c5",
   "metadata": {},
   "outputs": [],
   "source": [
    "# # Insert employee data\n",
    "# insertRows(\n",
    "#     cursor=cursor,\n",
    "#     tableName=\"\",\n",
    "#     df=df\n",
    "# )"
   ]
  },
  {
   "cell_type": "markdown",
   "id": "d77e5ad3-8c51-4b02-a8a7-3b7f45339e5b",
   "metadata": {},
   "source": [
    "<div \n",
    "    align=\"left\" \n",
    "    style=\"\n",
    "        background-color: #0284c7; \n",
    "        font-size: 20px; \n",
    "        font-family: 'Arial', sans-serif; \n",
    "        color: #F9F9F9; \n",
    "        padding: 5px; \n",
    "        line-height: 1; \n",
    "        border-radius: 15px;\n",
    "        margin: 5px 0;\n",
    "    \"\n",
    ">\n",
    "    <h4>4.4 - Close connection parameters</h4>\n",
    "</div>"
   ]
  },
  {
   "cell_type": "code",
   "execution_count": null,
   "id": "18d1ddf0-72d9-4e75-9c7e-79461ed2d5d1",
   "metadata": {},
   "outputs": [],
   "source": [
    "# cursor.close()\n",
    "# cnxn.close()"
   ]
  }
 ],
 "metadata": {
  "kernelspec": {
   "display_name": "Python 3 (ipykernel)",
   "language": "python",
   "name": "python3"
  },
  "language_info": {
   "codemirror_mode": {
    "name": "ipython",
    "version": 3
   },
   "file_extension": ".py",
   "mimetype": "text/x-python",
   "name": "python",
   "nbconvert_exporter": "python",
   "pygments_lexer": "ipython3",
   "version": "3.12.4"
  }
 },
 "nbformat": 4,
 "nbformat_minor": 5
}
