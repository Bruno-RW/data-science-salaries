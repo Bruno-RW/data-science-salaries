{
 "cells": [
  {
   "cell_type": "markdown",
   "id": "d3a36de5-8344-44ee-93b2-6721588e9474",
   "metadata": {},
   "source": [
    "<div\n",
    "    align=\"center\"\n",
    "    style=\"\n",
    "        background-color: #082f49; \n",
    "        font-size: 30px; \n",
    "        font-family: 'Arial', sans-serif; \n",
    "        color: #F9F9F9; \n",
    "        padding: 10px; \n",
    "        line-height: 1.5; \n",
    "        border-radius: 15px;\n",
    "        margin: 10px 0;\n",
    "    \"\n",
    ">\n",
    "    <h1>Data Science Salaries Analysis</h1>\n",
    "</div>\n"
   ]
  },
  {
   "cell_type": "markdown",
   "id": "1be82c50-9eb4-47c5-89ca-4544f2b2f71a",
   "metadata": {},
   "source": [
    "<div \n",
    "    align=\"left\" \n",
    "    style=\"\n",
    "        background-color: #075985; \n",
    "        font-size: 24px; \n",
    "        font-family: 'Arial', sans-serif; \n",
    "        color: #F9F9F9; \n",
    "        padding: 10px; \n",
    "        line-height: 1; \n",
    "        border-radius: 15px;\n",
    "        margin: 10px 0;\n",
    "    >\n",
    ">\n",
    "    <h3s1 - General Setup</h3>\n",
    "</div>"
   ]
  },
  {
   "cell_type": "markdown",
   "id": "69b34fcf-0bf5-4772-9d99-24389c9c2774",
   "metadata": {
    "jp-MarkdownHeadingCollapsed": true
   },
   "source": [
    "<div \n",
    "    align=\"left\" \n",
    "    style=\"\n",
    "        background-color: #075985; \n",
    "        font-size: 24px; \n",
    "        font-family: 'Arial', sans-serif; \n",
    "        color: #F9F9F9; \n",
    "        padding: 10px; \n",
    "        line-height: 1; \n",
    "        border-radius: 15px;\n",
    "        margin: 10px 0;\n",
    "    \"\n",
    ">\n",
    "    <h3>1 - General setup</h3>\n",
    "</div>"
   ]
  },
  {
   "cell_type": "markdown",
   "id": "ff17186a-1c56-4630-9cce-b412b05d0143",
   "metadata": {},
   "source": [
    "<div \n",
    "    align=\"left\" \n",
    "    style=\"\n",
    "        background-color: #0284c7; \n",
    "        font-size: 20px; \n",
    "        font-family: 'Arial', sans-serif; \n",
    "        color: #F9F9F9; \n",
    "        padding: 5px; \n",
    "        line-height: 1; \n",
    "        border-radius: 15px;\n",
    "        margin: 5px 0;\n",
    "    \"\n",
    ">\n",
    "    <h4>1.1 - Import libraries</h4>\n",
    "</div>"
   ]
  },
  {
   "cell_type": "code",
   "execution_count": 97,
   "id": "840635c5-02ce-4e2d-8160-76f059709eb2",
   "metadata": {},
   "outputs": [],
   "source": [
    "import os\n",
    "import warnings\n",
    "\n",
    "import numpy as np\n",
    "import pandas as pd\n",
    "\n",
    "import seaborn as sns\n",
    "import plotly.io as pio\n",
    "from skimpy import skim\n",
    "import matplotlib as mpl\n",
    "import matplotlib.pyplot as plt\n",
    "\n",
    "import psycopg2\n",
    "from psycopg2.extras import execute_batch\n",
    "\n",
    "import matplotlib as mpl\n",
    "import matplotlib.pyplot as plt\n",
    "from matplotlib.patches import FancyBboxPatch\n",
    "\n",
    "import plotly.express as px\n",
    "import plotly.graph_objects as go\n",
    "from plotly.subplots import make_subplots\n",
    "import plotly.figure_factory as ff\n",
    "\n",
    "import statsmodels.api as sm\n",
    "from wordcloud import WordCloud\n",
    "import nltk\n",
    "from sklearn.preprocessing import LabelEncoder"
   ]
  },
  {
   "cell_type": "markdown",
   "id": "f0040306-8aca-4ad0-ab3d-31e11b795e30",
   "metadata": {},
   "source": [
    "<div \n",
    "    align=\"left\" \n",
    "    style=\"\n",
    "        background-color: #0284c7; \n",
    "        font-size: 20px; \n",
    "        font-family: 'Arial', sans-serif; \n",
    "        color: #F9F9F9; \n",
    "        padding: 5px; \n",
    "        line-height: 1; \n",
    "        border-radius: 15px;\n",
    "        margin: 5px 0;\n",
    "    \"\n",
    ">\n",
    "    <h4>1.2 - Visualization setup</h4>\n",
    "</div>"
   ]
  },
  {
   "cell_type": "code",
   "execution_count": 101,
   "id": "fbeb4a76-aa1b-4beb-ada0-aaf2087f759a",
   "metadata": {},
   "outputs": [],
   "source": [
    "# pio.renderers.default = 'notebook'\n",
    "pio.renderers.default = 'jupyterlab'\n",
    "\n",
    "%matplotlib inline \n",
    "# Charts displayed within cells\n",
    "sns.set_theme(style=\"dark\")\n",
    "plt.style.use('dark_background')\n",
    "\n",
    "# Modify display settings\n",
    "pd.set_option('display.float_format', '{:.0f}'.format)\n",
    "pd.set_option('display.max_columns', None)\n",
    "pd.set_option('display.max_rows', None)\n",
    "\n",
    "# Ignore warnings\n",
    "warnings.filterwarnings(\"ignore\")"
   ]
  },
  {
   "cell_type": "markdown",
   "id": "2b7dc304-8010-4bc8-894e-df7e5441943d",
   "metadata": {},
   "source": [
    "<div \n",
    "    align=\"left\" \n",
    "    style=\"\n",
    "        background-color: #0284c7; \n",
    "        font-size: 20px; \n",
    "        font-family: 'Arial', sans-serif; \n",
    "        color: #F9F9F9; \n",
    "        padding: 5px; \n",
    "        line-height: 1; \n",
    "        border-radius: 15px;\n",
    "        margin: 5px 0;\n",
    "    \"\n",
    ">\n",
    "    <h4>1.3 - General functions</h4>\n",
    "</div>"
   ]
  },
  {
   "cell_type": "code",
   "execution_count": 63,
   "id": "2a499088-1402-480c-99d3-b70f70fd9c8c",
   "metadata": {},
   "outputs": [],
   "source": [
    "def styleDF(\n",
    "    df,\n",
    "    cmap_colors=[\"#e5e7eb\",\"#172554\"],\n",
    "    font_size=\"14pt\",\n",
    "    header_font_size=\"16pt\",\n",
    "    padding=\"8px\"\n",
    "):\n",
    "    \"\"\"\n",
    "    Apply custom styling to a pandas DataFrame for improved visualization in Jupyter Notebooks.\n",
    "\n",
    "    Parameters:\n",
    "        df (pd.DataFrame): The pandas DataFrame to style.\n",
    "        cmap_colors (list of str, optional): A list of two hex color codes to create a custom gradient colormap \n",
    "            for background styling. Default is [\"#e5e7eb\", \"#172554\"].\n",
    "        font_size (str, optional): The font size for the table cell text. Default is \"14pt\".\n",
    "        header_font_size (str, optional): The font size for the table header text. Default is \"16pt\".\n",
    "        padding (str, optional): The padding around table cell content. Default is \"8px\".\n",
    "\n",
    "    Returns:\n",
    "        pd.io.formats.style.Styler: A styled pandas DataFrame object, which can be displayed \n",
    "        in Jupyter Notebooks or converted to other formats.\n",
    "    \"\"\"\n",
    "    # Create color map\n",
    "    customCMap = mpl.colors.LinearSegmentedColormap.from_list(\"customCMap\", cmap_colors)\n",
    "\n",
    "    # Style the DataFrame\n",
    "    return df.style\\\n",
    "        .set_properties(**{\n",
    "            'font-size': font_size,\n",
    "            'text-align': 'center',\n",
    "            'padding': padding\n",
    "        })\\\n",
    "        .set_table_styles(\n",
    "            [{\n",
    "                'selector': 'th', \n",
    "                'props': [\n",
    "                    ('font-size', header_font_size), \n",
    "                    ('text-align', 'center'), \n",
    "                    ('padding', padding)\n",
    "                ]\n",
    "            }]  \n",
    "        )\\\n",
    "        .background_gradient(cmap=customCMap)\n",
    "\n",
    "def createTable(cursor, tableName, df):\n",
    "    \"\"\"\n",
    "    Creates a table based on a dataframe schema and inserts its rows into the table.\n",
    "\n",
    "    Args:\n",
    "        cursor: The database cursor for executing SQL commands.\n",
    "        tableName: The name of the table to create and populate.\n",
    "        df: The dataframe to use for table schema and data.\n",
    "    \"\"\"\n",
    "    # Infer column types from the dataframe\n",
    "    dataType = {\n",
    "        'int64': 'INTEGER',\n",
    "        'float64': 'FLOAT',\n",
    "        'object': 'TEXT',\n",
    "        'bool': 'BOOLEAN',\n",
    "        'datetime64[ns]': 'TIMESTAMP',\n",
    "    }\n",
    "    columnsTypes = {col: dataType[str(dtype)] for col, dtype in df.dtypes.items()}\n",
    "    \n",
    "    # Create column definitions for SQL\n",
    "    columns = \", \".join([f\"{col} {dtype}\" for col, dtype in columnsTypes.items()])\n",
    "    \n",
    "    # Create the table\n",
    "    queryCreateTable = f\"\"\"\n",
    "        CREATE TABLE IF NOT EXISTS {tableName} (\n",
    "            {columns}\n",
    "        );\n",
    "    \"\"\"\n",
    "    cursor.execute(queryCreateTable)\n",
    "    \n",
    "    # Insert rows into the table using batch insert\n",
    "    values = \", \".join([\"%s\"] * len(df.columns))\n",
    "    queryInsertRows = f\"INSERT INTO {tableName} VALUES ({values});\"\n",
    "    \n",
    "    # Convert the dataframe rows to tuples\n",
    "    rows = [tuple(row) for row in df.itertuples(index=False, name=None)]\n",
    "    \n",
    "    # Use execute_batch for better performance with many rows\n",
    "    execute_batch(cursor, queryInsertRows, rows)\n"
   ]
  },
  {
   "cell_type": "markdown",
   "id": "a94473f4-2068-4438-83a8-f6cdf3203856",
   "metadata": {
    "jp-MarkdownHeadingCollapsed": true
   },
   "source": [
    "<div \n",
    "    align=\"left\" \n",
    "    style=\"\n",
    "        background-color: #075985; \n",
    "        font-size: 24px; \n",
    "        font-family: 'Arial', sans-serif; \n",
    "        color: #F9F9F9; \n",
    "        padding: 10px; \n",
    "        line-height: 1; \n",
    "        border-radius: 15px;\n",
    "        margin: 10px 0;\n",
    "    \"\n",
    ">\n",
    "    <h3>2 - Initial data visualization and inspection</h3>\n",
    "</div>"
   ]
  },
  {
   "cell_type": "markdown",
   "id": "e703da24-91e0-47b4-be43-6a85d9e4aa59",
   "metadata": {},
   "source": [
    "<div \n",
    "    align=\"left\" \n",
    "    style=\"\n",
    "        background-color: #0284c7; \n",
    "        font-size: 20px; \n",
    "        font-family: 'Arial', sans-serif; \n",
    "        color: #F9F9F9; \n",
    "        padding: 5px; \n",
    "        line-height: 1; \n",
    "        border-radius: 15px;\n",
    "        margin: 5px 0;\n",
    "    \"\n",
    ">\n",
    "    <h4>2.1 - Load dataset</h4>\n",
    "</div>"
   ]
  },
  {
   "cell_type": "code",
   "execution_count": 64,
   "id": "5fa3b559-f142-4e8b-b8da-33180c8060ea",
   "metadata": {},
   "outputs": [],
   "source": [
    "# Build dynamic file path\n",
    "homeDirectory = os.path.expanduser(\"~\")\n",
    "filePath = os.path.join(\n",
    "    homeDirectory,\n",
    "    r'Desktop\\Data Science Salaries\\DataScience_salaries_2024.csv'\n",
    ")\n",
    "\n",
    "# Load CSV file\n",
    "dfSalaries = pd.read_csv(filePath)"
   ]
  },
  {
   "cell_type": "markdown",
   "id": "c491fb86-4836-428b-ad0c-38641fa8221d",
   "metadata": {},
   "source": [
    "<div \n",
    "    align=\"left\" \n",
    "    style=\"\n",
    "        background-color: #0284c7; \n",
    "        font-size: 20px; \n",
    "        font-family: 'Arial', sans-serif; \n",
    "        color: #F9F9F9; \n",
    "        padding: 5px; \n",
    "        line-height: 1; \n",
    "        border-radius: 15px;\n",
    "        margin: 5px 0;\n",
    "    \"\n",
    ">\n",
    "    <h4>2.2 - Visualize data structure</h4>\n",
    "</div>"
   ]
  },
  {
   "cell_type": "code",
   "execution_count": 65,
   "id": "09ba1ffc-2287-45c6-bb57-8bd5058159bd",
   "metadata": {},
   "outputs": [
    {
     "data": {
      "text/html": [
       "<pre style=\"white-space:pre;overflow-x:auto;line-height:normal;font-family:Menlo,'DejaVu Sans Mono',consolas,'Courier New',monospace\">╭──────────────────────────────────────────────── skimpy summary ─────────────────────────────────────────────────╮\n",
       "│ <span style=\"font-style: italic\">         Data Summary         </span> <span style=\"font-style: italic\">      Data Types       </span>                                                          │\n",
       "│ ┏━━━━━━━━━━━━━━━━━━━┳━━━━━━━━┓ ┏━━━━━━━━━━━━━┳━━━━━━━┓                                                          │\n",
       "│ ┃<span style=\"color: #008080; text-decoration-color: #008080; font-weight: bold\"> dataframe         </span>┃<span style=\"color: #008080; text-decoration-color: #008080; font-weight: bold\"> Values </span>┃ ┃<span style=\"color: #008080; text-decoration-color: #008080; font-weight: bold\"> Column Type </span>┃<span style=\"color: #008080; text-decoration-color: #008080; font-weight: bold\"> Count </span>┃                                                          │\n",
       "│ ┡━━━━━━━━━━━━━━━━━━━╇━━━━━━━━┩ ┡━━━━━━━━━━━━━╇━━━━━━━┩                                                          │\n",
       "│ │ Number of rows    │ 14838  │ │ string      │ 7     │                                                          │\n",
       "│ │ Number of columns │ 11     │ │ int32       │ 4     │                                                          │\n",
       "│ └───────────────────┴────────┘ └─────────────┴───────┘                                                          │\n",
       "│ <span style=\"font-style: italic\">                                                    number                                                    </span>  │\n",
       "│ ┏━━━━━━━━━━━━━━━━━┳━━━━━┳━━━━━━━┳━━━━━━━━━┳━━━━━━━━━┳━━━━━━━━┳━━━━━━━━━┳━━━━━━━━┳━━━━━━━━┳━━━━━━━━━━┳━━━━━━━━┓  │\n",
       "│ ┃<span style=\"font-weight: bold\"> column_name     </span>┃<span style=\"font-weight: bold\"> NA  </span>┃<span style=\"font-weight: bold\"> NA %  </span>┃<span style=\"font-weight: bold\"> mean    </span>┃<span style=\"font-weight: bold\"> sd      </span>┃<span style=\"font-weight: bold\"> p0     </span>┃<span style=\"font-weight: bold\"> p25     </span>┃<span style=\"font-weight: bold\"> p50    </span>┃<span style=\"font-weight: bold\"> p75    </span>┃<span style=\"font-weight: bold\"> p100     </span>┃<span style=\"font-weight: bold\"> hist   </span>┃  │\n",
       "│ ┡━━━━━━━━━━━━━━━━━╇━━━━━╇━━━━━━━╇━━━━━━━━━╇━━━━━━━━━╇━━━━━━━━╇━━━━━━━━━╇━━━━━━━━╇━━━━━━━━╇━━━━━━━━━━╇━━━━━━━━┩  │\n",
       "│ │ <span style=\"color: #af87ff; text-decoration-color: #af87ff\">work_year      </span> │ <span style=\"color: #008080; text-decoration-color: #008080\">  0</span> │ <span style=\"color: #008080; text-decoration-color: #008080\">    0</span> │ <span style=\"color: #008080; text-decoration-color: #008080\">   2023</span> │ <span style=\"color: #008080; text-decoration-color: #008080\"> 0.7008</span> │ <span style=\"color: #008080; text-decoration-color: #008080\">  2020</span> │ <span style=\"color: #008080; text-decoration-color: #008080\">   2023</span> │ <span style=\"color: #008080; text-decoration-color: #008080\">  2023</span> │ <span style=\"color: #008080; text-decoration-color: #008080\">  2024</span> │ <span style=\"color: #008080; text-decoration-color: #008080\">    2024</span> │ <span style=\"color: #008000; text-decoration-color: #008000\">   ▂▇▅</span> │  │\n",
       "│ │ <span style=\"color: #af87ff; text-decoration-color: #af87ff\">salary         </span> │ <span style=\"color: #008080; text-decoration-color: #008080\">  0</span> │ <span style=\"color: #008080; text-decoration-color: #008080\">    0</span> │ <span style=\"color: #008080; text-decoration-color: #008080\"> 165000</span> │ <span style=\"color: #008080; text-decoration-color: #008080\"> 356200</span> │ <span style=\"color: #008080; text-decoration-color: #008080\"> 14000</span> │ <span style=\"color: #008080; text-decoration-color: #008080\"> 102100</span> │ <span style=\"color: #008080; text-decoration-color: #008080\">142200</span> │ <span style=\"color: #008080; text-decoration-color: #008080\">187500</span> │ <span style=\"color: #008080; text-decoration-color: #008080\">30400000</span> │ <span style=\"color: #008000; text-decoration-color: #008000\">  ▇   </span> │  │\n",
       "│ │ <span style=\"color: #af87ff; text-decoration-color: #af87ff\">salary_in_usd  </span> │ <span style=\"color: #008080; text-decoration-color: #008080\">  0</span> │ <span style=\"color: #008080; text-decoration-color: #008080\">    0</span> │ <span style=\"color: #008080; text-decoration-color: #008080\"> 149900</span> │ <span style=\"color: #008080; text-decoration-color: #008080\">  69010</span> │ <span style=\"color: #008080; text-decoration-color: #008080\"> 15000</span> │ <span style=\"color: #008080; text-decoration-color: #008080\"> 102000</span> │ <span style=\"color: #008080; text-decoration-color: #008080\">141300</span> │ <span style=\"color: #008080; text-decoration-color: #008080\">185900</span> │ <span style=\"color: #008080; text-decoration-color: #008080\">  800000</span> │ <span style=\"color: #008000; text-decoration-color: #008000\"> ▇▆▁  </span> │  │\n",
       "│ │ <span style=\"color: #af87ff; text-decoration-color: #af87ff\">remote_ratio   </span> │ <span style=\"color: #008080; text-decoration-color: #008080\">  0</span> │ <span style=\"color: #008080; text-decoration-color: #008080\">    0</span> │ <span style=\"color: #008080; text-decoration-color: #008080\">  32.76</span> │ <span style=\"color: #008080; text-decoration-color: #008080\">  46.49</span> │ <span style=\"color: #008080; text-decoration-color: #008080\">     0</span> │ <span style=\"color: #008080; text-decoration-color: #008080\">      0</span> │ <span style=\"color: #008080; text-decoration-color: #008080\">     0</span> │ <span style=\"color: #008080; text-decoration-color: #008080\">   100</span> │ <span style=\"color: #008080; text-decoration-color: #008080\">     100</span> │ <span style=\"color: #008000; text-decoration-color: #008000\">▇    ▃</span> │  │\n",
       "│ └─────────────────┴─────┴───────┴─────────┴─────────┴────────┴─────────┴────────┴────────┴──────────┴────────┘  │\n",
       "│ <span style=\"font-style: italic\">                                                    string                                                    </span>  │\n",
       "│ ┏━━━━━━━━━━━━━━━━━━━━━━━━━━━━━━━━━━━━┳━━━━━━━━┳━━━━━━━━━━━┳━━━━━━━━━━━━━━━━━━━━━━━━━━━┳━━━━━━━━━━━━━━━━━━━━━━┓  │\n",
       "│ ┃<span style=\"font-weight: bold\"> column_name                        </span>┃<span style=\"font-weight: bold\"> NA     </span>┃<span style=\"font-weight: bold\"> NA %      </span>┃<span style=\"font-weight: bold\"> words per row             </span>┃<span style=\"font-weight: bold\"> total words          </span>┃  │\n",
       "│ ┡━━━━━━━━━━━━━━━━━━━━━━━━━━━━━━━━━━━━╇━━━━━━━━╇━━━━━━━━━━━╇━━━━━━━━━━━━━━━━━━━━━━━━━━━╇━━━━━━━━━━━━━━━━━━━━━━┩  │\n",
       "│ │ <span style=\"color: #af87ff; text-decoration-color: #af87ff\">experience_level                  </span> │ <span style=\"color: #008080; text-decoration-color: #008080\">     0</span> │ <span style=\"color: #008080; text-decoration-color: #008080\">        0</span> │ <span style=\"color: #008080; text-decoration-color: #008080\">                        1</span> │ <span style=\"color: #008080; text-decoration-color: #008080\">               14838</span> │  │\n",
       "│ │ <span style=\"color: #af87ff; text-decoration-color: #af87ff\">employment_type                   </span> │ <span style=\"color: #008080; text-decoration-color: #008080\">     0</span> │ <span style=\"color: #008080; text-decoration-color: #008080\">        0</span> │ <span style=\"color: #008080; text-decoration-color: #008080\">                        1</span> │ <span style=\"color: #008080; text-decoration-color: #008080\">               14838</span> │  │\n",
       "│ │ <span style=\"color: #af87ff; text-decoration-color: #af87ff\">job_title                         </span> │ <span style=\"color: #008080; text-decoration-color: #008080\">     0</span> │ <span style=\"color: #008080; text-decoration-color: #008080\">        0</span> │ <span style=\"color: #008080; text-decoration-color: #008080\">                      2.2</span> │ <span style=\"color: #008080; text-decoration-color: #008080\">               33024</span> │  │\n",
       "│ │ <span style=\"color: #af87ff; text-decoration-color: #af87ff\">salary_currency                   </span> │ <span style=\"color: #008080; text-decoration-color: #008080\">     0</span> │ <span style=\"color: #008080; text-decoration-color: #008080\">        0</span> │ <span style=\"color: #008080; text-decoration-color: #008080\">                        1</span> │ <span style=\"color: #008080; text-decoration-color: #008080\">               14838</span> │  │\n",
       "│ │ <span style=\"color: #af87ff; text-decoration-color: #af87ff\">employee_residence                </span> │ <span style=\"color: #008080; text-decoration-color: #008080\">     0</span> │ <span style=\"color: #008080; text-decoration-color: #008080\">        0</span> │ <span style=\"color: #008080; text-decoration-color: #008080\">                        1</span> │ <span style=\"color: #008080; text-decoration-color: #008080\">               14838</span> │  │\n",
       "│ │ <span style=\"color: #af87ff; text-decoration-color: #af87ff\">company_location                  </span> │ <span style=\"color: #008080; text-decoration-color: #008080\">     0</span> │ <span style=\"color: #008080; text-decoration-color: #008080\">        0</span> │ <span style=\"color: #008080; text-decoration-color: #008080\">                        1</span> │ <span style=\"color: #008080; text-decoration-color: #008080\">               14838</span> │  │\n",
       "│ │ <span style=\"color: #af87ff; text-decoration-color: #af87ff\">company_size                      </span> │ <span style=\"color: #008080; text-decoration-color: #008080\">     0</span> │ <span style=\"color: #008080; text-decoration-color: #008080\">        0</span> │ <span style=\"color: #008080; text-decoration-color: #008080\">                        1</span> │ <span style=\"color: #008080; text-decoration-color: #008080\">               14838</span> │  │\n",
       "│ └────────────────────────────────────┴────────┴───────────┴───────────────────────────┴──────────────────────┘  │\n",
       "╰────────────────────────────────────────────────────── End ──────────────────────────────────────────────────────╯\n",
       "</pre>\n"
      ],
      "text/plain": [
       "╭──────────────────────────────────────────────── skimpy summary ─────────────────────────────────────────────────╮\n",
       "│ \u001b[3m         Data Summary         \u001b[0m \u001b[3m      Data Types       \u001b[0m                                                          │\n",
       "│ ┏━━━━━━━━━━━━━━━━━━━┳━━━━━━━━┓ ┏━━━━━━━━━━━━━┳━━━━━━━┓                                                          │\n",
       "│ ┃\u001b[1;36m \u001b[0m\u001b[1;36mdataframe        \u001b[0m\u001b[1;36m \u001b[0m┃\u001b[1;36m \u001b[0m\u001b[1;36mValues\u001b[0m\u001b[1;36m \u001b[0m┃ ┃\u001b[1;36m \u001b[0m\u001b[1;36mColumn Type\u001b[0m\u001b[1;36m \u001b[0m┃\u001b[1;36m \u001b[0m\u001b[1;36mCount\u001b[0m\u001b[1;36m \u001b[0m┃                                                          │\n",
       "│ ┡━━━━━━━━━━━━━━━━━━━╇━━━━━━━━┩ ┡━━━━━━━━━━━━━╇━━━━━━━┩                                                          │\n",
       "│ │ Number of rows    │ 14838  │ │ string      │ 7     │                                                          │\n",
       "│ │ Number of columns │ 11     │ │ int32       │ 4     │                                                          │\n",
       "│ └───────────────────┴────────┘ └─────────────┴───────┘                                                          │\n",
       "│ \u001b[3m                                                    number                                                    \u001b[0m  │\n",
       "│ ┏━━━━━━━━━━━━━━━━━┳━━━━━┳━━━━━━━┳━━━━━━━━━┳━━━━━━━━━┳━━━━━━━━┳━━━━━━━━━┳━━━━━━━━┳━━━━━━━━┳━━━━━━━━━━┳━━━━━━━━┓  │\n",
       "│ ┃\u001b[1m \u001b[0m\u001b[1mcolumn_name    \u001b[0m\u001b[1m \u001b[0m┃\u001b[1m \u001b[0m\u001b[1mNA \u001b[0m\u001b[1m \u001b[0m┃\u001b[1m \u001b[0m\u001b[1mNA % \u001b[0m\u001b[1m \u001b[0m┃\u001b[1m \u001b[0m\u001b[1mmean   \u001b[0m\u001b[1m \u001b[0m┃\u001b[1m \u001b[0m\u001b[1msd     \u001b[0m\u001b[1m \u001b[0m┃\u001b[1m \u001b[0m\u001b[1mp0    \u001b[0m\u001b[1m \u001b[0m┃\u001b[1m \u001b[0m\u001b[1mp25    \u001b[0m\u001b[1m \u001b[0m┃\u001b[1m \u001b[0m\u001b[1mp50   \u001b[0m\u001b[1m \u001b[0m┃\u001b[1m \u001b[0m\u001b[1mp75   \u001b[0m\u001b[1m \u001b[0m┃\u001b[1m \u001b[0m\u001b[1mp100    \u001b[0m\u001b[1m \u001b[0m┃\u001b[1m \u001b[0m\u001b[1mhist  \u001b[0m\u001b[1m \u001b[0m┃  │\n",
       "│ ┡━━━━━━━━━━━━━━━━━╇━━━━━╇━━━━━━━╇━━━━━━━━━╇━━━━━━━━━╇━━━━━━━━╇━━━━━━━━━╇━━━━━━━━╇━━━━━━━━╇━━━━━━━━━━╇━━━━━━━━┩  │\n",
       "│ │ \u001b[38;5;141mwork_year      \u001b[0m │ \u001b[36m  0\u001b[0m │ \u001b[36m    0\u001b[0m │ \u001b[36m   2023\u001b[0m │ \u001b[36m 0.7008\u001b[0m │ \u001b[36m  2020\u001b[0m │ \u001b[36m   2023\u001b[0m │ \u001b[36m  2023\u001b[0m │ \u001b[36m  2024\u001b[0m │ \u001b[36m    2024\u001b[0m │ \u001b[32m   ▂▇▅\u001b[0m │  │\n",
       "│ │ \u001b[38;5;141msalary         \u001b[0m │ \u001b[36m  0\u001b[0m │ \u001b[36m    0\u001b[0m │ \u001b[36m 165000\u001b[0m │ \u001b[36m 356200\u001b[0m │ \u001b[36m 14000\u001b[0m │ \u001b[36m 102100\u001b[0m │ \u001b[36m142200\u001b[0m │ \u001b[36m187500\u001b[0m │ \u001b[36m30400000\u001b[0m │ \u001b[32m  ▇   \u001b[0m │  │\n",
       "│ │ \u001b[38;5;141msalary_in_usd  \u001b[0m │ \u001b[36m  0\u001b[0m │ \u001b[36m    0\u001b[0m │ \u001b[36m 149900\u001b[0m │ \u001b[36m  69010\u001b[0m │ \u001b[36m 15000\u001b[0m │ \u001b[36m 102000\u001b[0m │ \u001b[36m141300\u001b[0m │ \u001b[36m185900\u001b[0m │ \u001b[36m  800000\u001b[0m │ \u001b[32m ▇▆▁  \u001b[0m │  │\n",
       "│ │ \u001b[38;5;141mremote_ratio   \u001b[0m │ \u001b[36m  0\u001b[0m │ \u001b[36m    0\u001b[0m │ \u001b[36m  32.76\u001b[0m │ \u001b[36m  46.49\u001b[0m │ \u001b[36m     0\u001b[0m │ \u001b[36m      0\u001b[0m │ \u001b[36m     0\u001b[0m │ \u001b[36m   100\u001b[0m │ \u001b[36m     100\u001b[0m │ \u001b[32m▇    ▃\u001b[0m │  │\n",
       "│ └─────────────────┴─────┴───────┴─────────┴─────────┴────────┴─────────┴────────┴────────┴──────────┴────────┘  │\n",
       "│ \u001b[3m                                                    string                                                    \u001b[0m  │\n",
       "│ ┏━━━━━━━━━━━━━━━━━━━━━━━━━━━━━━━━━━━━┳━━━━━━━━┳━━━━━━━━━━━┳━━━━━━━━━━━━━━━━━━━━━━━━━━━┳━━━━━━━━━━━━━━━━━━━━━━┓  │\n",
       "│ ┃\u001b[1m \u001b[0m\u001b[1mcolumn_name                       \u001b[0m\u001b[1m \u001b[0m┃\u001b[1m \u001b[0m\u001b[1mNA    \u001b[0m\u001b[1m \u001b[0m┃\u001b[1m \u001b[0m\u001b[1mNA %     \u001b[0m\u001b[1m \u001b[0m┃\u001b[1m \u001b[0m\u001b[1mwords per row            \u001b[0m\u001b[1m \u001b[0m┃\u001b[1m \u001b[0m\u001b[1mtotal words         \u001b[0m\u001b[1m \u001b[0m┃  │\n",
       "│ ┡━━━━━━━━━━━━━━━━━━━━━━━━━━━━━━━━━━━━╇━━━━━━━━╇━━━━━━━━━━━╇━━━━━━━━━━━━━━━━━━━━━━━━━━━╇━━━━━━━━━━━━━━━━━━━━━━┩  │\n",
       "│ │ \u001b[38;5;141mexperience_level                  \u001b[0m │ \u001b[36m     0\u001b[0m │ \u001b[36m        0\u001b[0m │ \u001b[36m                        1\u001b[0m │ \u001b[36m               14838\u001b[0m │  │\n",
       "│ │ \u001b[38;5;141memployment_type                   \u001b[0m │ \u001b[36m     0\u001b[0m │ \u001b[36m        0\u001b[0m │ \u001b[36m                        1\u001b[0m │ \u001b[36m               14838\u001b[0m │  │\n",
       "│ │ \u001b[38;5;141mjob_title                         \u001b[0m │ \u001b[36m     0\u001b[0m │ \u001b[36m        0\u001b[0m │ \u001b[36m                      2.2\u001b[0m │ \u001b[36m               33024\u001b[0m │  │\n",
       "│ │ \u001b[38;5;141msalary_currency                   \u001b[0m │ \u001b[36m     0\u001b[0m │ \u001b[36m        0\u001b[0m │ \u001b[36m                        1\u001b[0m │ \u001b[36m               14838\u001b[0m │  │\n",
       "│ │ \u001b[38;5;141memployee_residence                \u001b[0m │ \u001b[36m     0\u001b[0m │ \u001b[36m        0\u001b[0m │ \u001b[36m                        1\u001b[0m │ \u001b[36m               14838\u001b[0m │  │\n",
       "│ │ \u001b[38;5;141mcompany_location                  \u001b[0m │ \u001b[36m     0\u001b[0m │ \u001b[36m        0\u001b[0m │ \u001b[36m                        1\u001b[0m │ \u001b[36m               14838\u001b[0m │  │\n",
       "│ │ \u001b[38;5;141mcompany_size                      \u001b[0m │ \u001b[36m     0\u001b[0m │ \u001b[36m        0\u001b[0m │ \u001b[36m                        1\u001b[0m │ \u001b[36m               14838\u001b[0m │  │\n",
       "│ └────────────────────────────────────┴────────┴───────────┴───────────────────────────┴──────────────────────┘  │\n",
       "╰────────────────────────────────────────────────────── End ──────────────────────────────────────────────────────╯\n"
      ]
     },
     "metadata": {},
     "output_type": "display_data"
    }
   ],
   "source": [
    "skim(dfSalaries)"
   ]
  },
  {
   "cell_type": "markdown",
   "id": "2243807d-1d59-4c5a-a50a-6dfcb0179695",
   "metadata": {},
   "source": [
    "<div \n",
    "    align=\"left\" \n",
    "    style=\"\n",
    "        background-color: #0284c7; \n",
    "        font-size: 20px; \n",
    "        font-family: 'Arial', sans-serif; \n",
    "        color: #F9F9F9; \n",
    "        padding: 5px; \n",
    "        line-height: 1; \n",
    "        border-radius: 15px;\n",
    "        margin: 5px 0;\n",
    "    \"\n",
    ">\n",
    "    <h4>2.3 - Visualize general data redundancy</h4>\n",
    "</div>"
   ]
  },
  {
   "cell_type": "code",
   "execution_count": 66,
   "id": "81ef81cd-339b-4392-b578-b0c3677dbaa1",
   "metadata": {},
   "outputs": [
    {
     "data": {
      "text/html": [
       "<div>\n",
       "<style scoped>\n",
       "    .dataframe tbody tr th:only-of-type {\n",
       "        vertical-align: middle;\n",
       "    }\n",
       "\n",
       "    .dataframe tbody tr th {\n",
       "        vertical-align: top;\n",
       "    }\n",
       "\n",
       "    .dataframe thead th {\n",
       "        text-align: right;\n",
       "    }\n",
       "</style>\n",
       "<table border=\"1\" class=\"dataframe\">\n",
       "  <thead>\n",
       "    <tr style=\"text-align: right;\">\n",
       "      <th></th>\n",
       "      <th>Count</th>\n",
       "      <th>Null</th>\n",
       "      <th>Null %</th>\n",
       "      <th>Unique</th>\n",
       "      <th>Duplicated</th>\n",
       "    </tr>\n",
       "  </thead>\n",
       "  <tbody>\n",
       "    <tr>\n",
       "      <th>work_year</th>\n",
       "      <td>14838</td>\n",
       "      <td>0</td>\n",
       "      <td>0</td>\n",
       "      <td>5</td>\n",
       "      <td>5711</td>\n",
       "    </tr>\n",
       "    <tr>\n",
       "      <th>experience_level</th>\n",
       "      <td>14838</td>\n",
       "      <td>0</td>\n",
       "      <td>0</td>\n",
       "      <td>4</td>\n",
       "      <td>5711</td>\n",
       "    </tr>\n",
       "    <tr>\n",
       "      <th>employment_type</th>\n",
       "      <td>14838</td>\n",
       "      <td>0</td>\n",
       "      <td>0</td>\n",
       "      <td>4</td>\n",
       "      <td>5711</td>\n",
       "    </tr>\n",
       "    <tr>\n",
       "      <th>job_title</th>\n",
       "      <td>14838</td>\n",
       "      <td>0</td>\n",
       "      <td>0</td>\n",
       "      <td>153</td>\n",
       "      <td>5711</td>\n",
       "    </tr>\n",
       "    <tr>\n",
       "      <th>salary</th>\n",
       "      <td>14838</td>\n",
       "      <td>0</td>\n",
       "      <td>0</td>\n",
       "      <td>2363</td>\n",
       "      <td>5711</td>\n",
       "    </tr>\n",
       "    <tr>\n",
       "      <th>salary_currency</th>\n",
       "      <td>14838</td>\n",
       "      <td>0</td>\n",
       "      <td>0</td>\n",
       "      <td>23</td>\n",
       "      <td>5711</td>\n",
       "    </tr>\n",
       "    <tr>\n",
       "      <th>salary_in_usd</th>\n",
       "      <td>14838</td>\n",
       "      <td>0</td>\n",
       "      <td>0</td>\n",
       "      <td>2730</td>\n",
       "      <td>5711</td>\n",
       "    </tr>\n",
       "    <tr>\n",
       "      <th>employee_residence</th>\n",
       "      <td>14838</td>\n",
       "      <td>0</td>\n",
       "      <td>0</td>\n",
       "      <td>88</td>\n",
       "      <td>5711</td>\n",
       "    </tr>\n",
       "    <tr>\n",
       "      <th>remote_ratio</th>\n",
       "      <td>14838</td>\n",
       "      <td>0</td>\n",
       "      <td>0</td>\n",
       "      <td>3</td>\n",
       "      <td>5711</td>\n",
       "    </tr>\n",
       "    <tr>\n",
       "      <th>company_location</th>\n",
       "      <td>14838</td>\n",
       "      <td>0</td>\n",
       "      <td>0</td>\n",
       "      <td>77</td>\n",
       "      <td>5711</td>\n",
       "    </tr>\n",
       "    <tr>\n",
       "      <th>company_size</th>\n",
       "      <td>14838</td>\n",
       "      <td>0</td>\n",
       "      <td>0</td>\n",
       "      <td>3</td>\n",
       "      <td>5711</td>\n",
       "    </tr>\n",
       "  </tbody>\n",
       "</table>\n",
       "</div>"
      ],
      "text/plain": [
       "                    Count  Null  Null %  Unique  Duplicated\n",
       "work_year           14838     0       0       5        5711\n",
       "experience_level    14838     0       0       4        5711\n",
       "employment_type     14838     0       0       4        5711\n",
       "job_title           14838     0       0     153        5711\n",
       "salary              14838     0       0    2363        5711\n",
       "salary_currency     14838     0       0      23        5711\n",
       "salary_in_usd       14838     0       0    2730        5711\n",
       "employee_residence  14838     0       0      88        5711\n",
       "remote_ratio        14838     0       0       3        5711\n",
       "company_location    14838     0       0      77        5711\n",
       "company_size        14838     0       0       3        5711"
      ]
     },
     "execution_count": 66,
     "metadata": {},
     "output_type": "execute_result"
    }
   ],
   "source": [
    "pd.DataFrame({\n",
    "    'Count':dfSalaries.shape[0],\n",
    "    'Null':dfSalaries.isnull().sum(),\n",
    "    'Null %':dfSalaries.isnull().mean() * 100,\n",
    "    'Unique':dfSalaries.nunique(),\n",
    "    'Duplicated':(dfSalaries.duplicated() == True).sum()\n",
    "})"
   ]
  },
  {
   "cell_type": "markdown",
   "id": "7549ce52-ba88-4250-89c7-550b70ef62c7",
   "metadata": {
    "jp-MarkdownHeadingCollapsed": true
   },
   "source": [
    "<div \n",
    "    align=\"left\" \n",
    "    style=\"\n",
    "        background-color: #075985; \n",
    "        font-size: 24px; \n",
    "        font-family: 'Arial', sans-serif; \n",
    "        color: #F9F9F9; \n",
    "        padding: 10px; \n",
    "        line-height: 1; \n",
    "        border-radius: 15px;\n",
    "        margin: 10px 0;\n",
    "    \"\n",
    ">\n",
    "    <h3>3 - Data cleaning and transformation</h3>\n",
    "</div>"
   ]
  },
  {
   "cell_type": "markdown",
   "id": "862b7df9-924d-474f-88b7-afc254ac8fdc",
   "metadata": {},
   "source": [
    "<div \n",
    "    align=\"left\" \n",
    "    style=\"\n",
    "        background-color: #0284c7; \n",
    "        font-size: 20px; \n",
    "        font-family: 'Arial', sans-serif; \n",
    "        color: #F9F9F9; \n",
    "        padding: 5px; \n",
    "        line-height: 1; \n",
    "        border-radius: 15px;\n",
    "        margin: 5px 0;\n",
    "    \"\n",
    ">\n",
    "    <h4>3.1 - Detect outliers</h4>\n",
    "</div>"
   ]
  },
  {
   "cell_type": "code",
   "execution_count": 67,
   "id": "065dd605-e234-4e06-ab7d-4a4d49caa24a",
   "metadata": {},
   "outputs": [
    {
     "name": "stdout",
     "output_type": "stream",
     "text": [
      "Q1=102000.0, Q2=141300.0, Q3=185900.0\n",
      "\n",
      "IQR=83900.0\n",
      "\n",
      "MIN=-23850.0, MAX=311750.0\n"
     ]
    }
   ],
   "source": [
    "# Find Q1, Q2, Q3 and calculate IQR, MIN, MAX\n",
    "Q1 = dfSalaries[\"salary_in_usd\"].quantile(0.25)\n",
    "Q2 = dfSalaries[\"salary_in_usd\"].quantile(0.50)\n",
    "Q3 = dfSalaries[\"salary_in_usd\"].quantile(0.75)\n",
    "print(f\"Q1={Q1}, Q2={Q2}, Q3={Q3}\\n\")\n",
    "\n",
    "IQR = Q3 - Q1\n",
    "print(f\"IQR={IQR}\\n\")\n",
    "\n",
    "lowerBound = Q1 - (1.5 * IQR)\n",
    "upperBound = Q3 + (1.5 * IQR)\n",
    "\n",
    "print(f\"MIN={lowerBound}, MAX={upperBound}\")"
   ]
  },
  {
   "cell_type": "markdown",
   "id": "fbb5b80c-a227-4f58-9dba-3f905896c77d",
   "metadata": {},
   "source": [
    "<div \n",
    "    align=\"left\" \n",
    "    style=\"\n",
    "        background-color: #0284c7; \n",
    "        font-size: 20px; \n",
    "        font-family: 'Arial', sans-serif; \n",
    "        color: #F9F9F9; \n",
    "        padding: 5px; \n",
    "        line-height: 1; \n",
    "        border-radius: 15px;\n",
    "        margin: 5px 0;\n",
    "    \"\n",
    ">\n",
    "    <h4>3.2 - Handle outliers</h4>\n",
    "</div>"
   ]
  },
  {
   "cell_type": "code",
   "execution_count": 68,
   "id": "d5575bc0-ed76-4c54-a550-ff459125f30a",
   "metadata": {},
   "outputs": [
    {
     "name": "stdout",
     "output_type": "stream",
     "text": [
      "Quantity of outliers: 270\n"
     ]
    }
   ],
   "source": [
    "# Detect outliers\n",
    "salaryData = dfSalaries['salary_in_usd']\n",
    "outliers = salaryData[(salaryData < lowerBound) | (salaryData > upperBound)]\n",
    "outliersCount = len(outliers)\n",
    "\n",
    "print(f\"Quantity of outliers: {outliersCount}\")\n",
    "\n",
    "# Delete outliers\n",
    "dfSalaries = dfSalaries[~dfSalaries['salary_in_usd'].isin(outliers)]"
   ]
  },
  {
   "cell_type": "markdown",
   "id": "d1e59354-c0d3-40d4-abad-61a819122a7a",
   "metadata": {},
   "source": [
    "<div \n",
    "    align=\"left\" \n",
    "    style=\"\n",
    "        background-color: #0284c7; \n",
    "        font-size: 20px; \n",
    "        font-family: 'Arial', sans-serif; \n",
    "        color: #F9F9F9; \n",
    "        padding: 5px; \n",
    "        line-height: 1; \n",
    "        border-radius: 15px;\n",
    "        margin: 5px 0;\n",
    "    \"\n",
    ">\n",
    "    <h4>3.3 - Rename experience levels</h4>\n",
    "</div>"
   ]
  },
  {
   "cell_type": "code",
   "execution_count": 69,
   "id": "af8ae434-40e4-4c10-8045-1c911821c168",
   "metadata": {},
   "outputs": [],
   "source": [
    "def mapExpLevel(df, oldCol='experience_level', newCol='experience_level'):\n",
    "    expLevel = {\n",
    "        'EN': 'Junior',\n",
    "        'MI': 'Mid-Level',\n",
    "        'SE': 'Senior',\n",
    "        'EX': 'Expert'\n",
    "    }\n",
    "\n",
    "    df[newCol] = df[oldCol].replace(expLevel)\n",
    "    return df\n",
    "\n",
    "dfSalaries = mapExpLevel(dfSalaries)"
   ]
  },
  {
   "cell_type": "markdown",
   "id": "e094e502-0689-44cf-90fd-5c7e4402afc5",
   "metadata": {},
   "source": [
    "<div \n",
    "    align=\"left\" \n",
    "    style=\"\n",
    "        background-color: #0284c7; \n",
    "        font-size: 20px; \n",
    "        font-family: 'Arial', sans-serif; \n",
    "        color: #F9F9F9; \n",
    "        padding: 5px; \n",
    "        line-height: 1; \n",
    "        border-radius: 15px;\n",
    "        margin: 5px 0;\n",
    "    \"\n",
    ">\n",
    "    <h4>3.4 - Visualize new experience levels</h4>\n",
    "</div>"
   ]
  },
  {
   "cell_type": "code",
   "execution_count": 102,
   "id": "cd59665e-70b1-40d3-846b-aa81d0561be9",
   "metadata": {},
   "outputs": [
    {
     "data": {
      "text/html": [
       "<style type=\"text/css\">\n",
       "#T_e0a94 th {\n",
       "  font-size: 16pt;\n",
       "  text-align: center;\n",
       "  padding: 8px;\n",
       "}\n",
       "#T_e0a94_row0_col0, #T_e0a94_row1_col0, #T_e0a94_row2_col0, #T_e0a94_row3_col0 {\n",
       "  font-size: 14pt;\n",
       "  text-align: center;\n",
       "  padding: 8px;\n",
       "}\n",
       "#T_e0a94_row0_col1 {\n",
       "  font-size: 14pt;\n",
       "  text-align: center;\n",
       "  padding: 8px;\n",
       "  background-color: #172554;\n",
       "  color: #f1f1f1;\n",
       "}\n",
       "#T_e0a94_row1_col1 {\n",
       "  font-size: 14pt;\n",
       "  text-align: center;\n",
       "  padding: 8px;\n",
       "  background-color: #9fa5b7;\n",
       "  color: #f1f1f1;\n",
       "}\n",
       "#T_e0a94_row2_col1 {\n",
       "  font-size: 14pt;\n",
       "  text-align: center;\n",
       "  padding: 8px;\n",
       "  background-color: #d5d8df;\n",
       "  color: #000000;\n",
       "}\n",
       "#T_e0a94_row3_col1 {\n",
       "  font-size: 14pt;\n",
       "  text-align: center;\n",
       "  padding: 8px;\n",
       "  background-color: #e5e7eb;\n",
       "  color: #000000;\n",
       "}\n",
       "</style>\n",
       "<table id=\"T_e0a94\">\n",
       "  <thead>\n",
       "    <tr>\n",
       "      <th class=\"blank level0\" >&nbsp;</th>\n",
       "      <th id=\"T_e0a94_level0_col0\" class=\"col_heading level0 col0\" >Experience Level</th>\n",
       "      <th id=\"T_e0a94_level0_col1\" class=\"col_heading level0 col1\" >Count</th>\n",
       "    </tr>\n",
       "  </thead>\n",
       "  <tbody>\n",
       "    <tr>\n",
       "      <th id=\"T_e0a94_level0_row0\" class=\"row_heading level0 row0\" >0</th>\n",
       "      <td id=\"T_e0a94_row0_col0\" class=\"data row0 col0\" >Senior</td>\n",
       "      <td id=\"T_e0a94_row0_col1\" class=\"data row0 col1\" >9496</td>\n",
       "    </tr>\n",
       "    <tr>\n",
       "      <th id=\"T_e0a94_level0_row1\" class=\"row_heading level0 row1\" >1</th>\n",
       "      <td id=\"T_e0a94_row1_col0\" class=\"data row1 col0\" >Mid-Level</td>\n",
       "      <td id=\"T_e0a94_row1_col1\" class=\"data row1 col1\" >3514</td>\n",
       "    </tr>\n",
       "    <tr>\n",
       "      <th id=\"T_e0a94_level0_row2\" class=\"row_heading level0 row2\" >2</th>\n",
       "      <td id=\"T_e0a94_row2_col0\" class=\"data row2 col0\" >Junior</td>\n",
       "      <td id=\"T_e0a94_row2_col1\" class=\"data row2 col1\" >1146</td>\n",
       "    </tr>\n",
       "    <tr>\n",
       "      <th id=\"T_e0a94_level0_row3\" class=\"row_heading level0 row3\" >3</th>\n",
       "      <td id=\"T_e0a94_row3_col0\" class=\"data row3 col0\" >Expert</td>\n",
       "      <td id=\"T_e0a94_row3_col1\" class=\"data row3 col1\" >412</td>\n",
       "    </tr>\n",
       "  </tbody>\n",
       "</table>\n"
      ],
      "text/plain": [
       "<pandas.io.formats.style.Styler at 0x2287172e540>"
      ]
     },
     "execution_count": 102,
     "metadata": {},
     "output_type": "execute_result"
    }
   ],
   "source": [
    "# Count each type\n",
    "empExpCounts = dfSalaries['experience_level'].value_counts()\n",
    "\n",
    "# Create dataframe\n",
    "dfEmpExpCounts = empExpCounts.reset_index()\n",
    "dfEmpExpCounts.columns = ['Experience Level', 'Count']\n",
    "\n",
    "# Create colors map\n",
    "dfEmpExpCountsColors = mpl.colors.LinearSegmentedColormap.from_list(\"custom_blue\", [\"#e5e7eb\", \"#172554\"])\n",
    "\n",
    "# Visualize new data\n",
    "styleDF(dfEmpExpCounts)"
   ]
  },
  {
   "cell_type": "markdown",
   "id": "a6d2f3cc-f1d5-4a7c-bd08-0bb35a54ffc9",
   "metadata": {},
   "source": [
    "<div \n",
    "    align=\"left\" \n",
    "    style=\"\n",
    "        background-color: #0284c7; \n",
    "        font-size: 20px; \n",
    "        font-family: 'Arial', sans-serif; \n",
    "        color: #F9F9F9; \n",
    "        padding: 5px; \n",
    "        line-height: 1; \n",
    "        border-radius: 15px;\n",
    "        margin: 5px 0;\n",
    "    \"\n",
    ">\n",
    "    <h4>3.5 - Rename employment types</h4>\n",
    "</div>"
   ]
  },
  {
   "cell_type": "code",
   "execution_count": 71,
   "id": "4af031cb-0de0-498a-a1af-c48c27f17838",
   "metadata": {},
   "outputs": [],
   "source": [
    "def mapEmploymentType(df, oldCol='employment_type', newCol='employment_type'):\n",
    "    employmentType = {\n",
    "        'FT': 'Full-Time',\n",
    "        'PT': 'Part-Time',\n",
    "        'CT': 'Contract',\n",
    "        'FL': 'Freelance'\n",
    "    }\n",
    "\n",
    "    df[newCol] = df[oldCol]\\\n",
    "        .map(employmentType)\\\n",
    "        .fillna('Other')\n",
    "\n",
    "    return df\n",
    "\n",
    "dfSalaries = mapEmploymentType(dfSalaries)"
   ]
  },
  {
   "cell_type": "markdown",
   "id": "76b872b7-3934-4154-aa2e-d1d40e4385d9",
   "metadata": {},
   "source": [
    "<div \n",
    "    align=\"left\" \n",
    "    style=\"\n",
    "        background-color: #0284c7; \n",
    "        font-size: 20px; \n",
    "        font-family: 'Arial', sans-serif; \n",
    "        color: #F9F9F9; \n",
    "        padding: 5px; \n",
    "        line-height: 1; \n",
    "        border-radius: 15px;\n",
    "        margin: 5px 0;\n",
    "    \"\n",
    ">\n",
    "    <h4>3.6 - Visualize new employment types</h4>\n",
    "</div>"
   ]
  },
  {
   "cell_type": "code",
   "execution_count": 72,
   "id": "72f5a1e0-3ecf-4ad0-82b8-b979dae144d2",
   "metadata": {},
   "outputs": [
    {
     "data": {
      "text/html": [
       "<style type=\"text/css\">\n",
       "#T_e8bd8 th {\n",
       "  font-size: 16pt;\n",
       "  text-align: center;\n",
       "  padding: 8px;\n",
       "}\n",
       "#T_e8bd8_row0_col0, #T_e8bd8_row1_col0, #T_e8bd8_row2_col0, #T_e8bd8_row3_col0 {\n",
       "  font-size: 14pt;\n",
       "  text-align: center;\n",
       "  padding: 8px;\n",
       "}\n",
       "#T_e8bd8_row0_col1 {\n",
       "  font-size: 14pt;\n",
       "  text-align: center;\n",
       "  padding: 8px;\n",
       "  background-color: #172554;\n",
       "  color: #f1f1f1;\n",
       "}\n",
       "#T_e8bd8_row1_col1, #T_e8bd8_row2_col1, #T_e8bd8_row3_col1 {\n",
       "  font-size: 14pt;\n",
       "  text-align: center;\n",
       "  padding: 8px;\n",
       "  background-color: #e5e7eb;\n",
       "  color: #000000;\n",
       "}\n",
       "</style>\n",
       "<table id=\"T_e8bd8\">\n",
       "  <thead>\n",
       "    <tr>\n",
       "      <th class=\"blank level0\" >&nbsp;</th>\n",
       "      <th id=\"T_e8bd8_level0_col0\" class=\"col_heading level0 col0\" >Employment Type</th>\n",
       "      <th id=\"T_e8bd8_level0_col1\" class=\"col_heading level0 col1\" >Count</th>\n",
       "    </tr>\n",
       "  </thead>\n",
       "  <tbody>\n",
       "    <tr>\n",
       "      <th id=\"T_e8bd8_level0_row0\" class=\"row_heading level0 row0\" >0</th>\n",
       "      <td id=\"T_e8bd8_row0_col0\" class=\"data row0 col0\" >Full-Time</td>\n",
       "      <td id=\"T_e8bd8_row0_col1\" class=\"data row0 col1\" >14504</td>\n",
       "    </tr>\n",
       "    <tr>\n",
       "      <th id=\"T_e8bd8_level0_row1\" class=\"row_heading level0 row1\" >1</th>\n",
       "      <td id=\"T_e8bd8_row1_col0\" class=\"data row1 col0\" >Part-Time</td>\n",
       "      <td id=\"T_e8bd8_row1_col1\" class=\"data row1 col1\" >27</td>\n",
       "    </tr>\n",
       "    <tr>\n",
       "      <th id=\"T_e8bd8_level0_row2\" class=\"row_heading level0 row2\" >2</th>\n",
       "      <td id=\"T_e8bd8_row2_col0\" class=\"data row2 col0\" >Contract</td>\n",
       "      <td id=\"T_e8bd8_row2_col1\" class=\"data row2 col1\" >24</td>\n",
       "    </tr>\n",
       "    <tr>\n",
       "      <th id=\"T_e8bd8_level0_row3\" class=\"row_heading level0 row3\" >3</th>\n",
       "      <td id=\"T_e8bd8_row3_col0\" class=\"data row3 col0\" >Freelance</td>\n",
       "      <td id=\"T_e8bd8_row3_col1\" class=\"data row3 col1\" >13</td>\n",
       "    </tr>\n",
       "  </tbody>\n",
       "</table>\n"
      ],
      "text/plain": [
       "<pandas.io.formats.style.Styler at 0x2287173e6f0>"
      ]
     },
     "execution_count": 72,
     "metadata": {},
     "output_type": "execute_result"
    }
   ],
   "source": [
    "# Count each type\n",
    "empTypeCounts = dfSalaries['employment_type'].value_counts()\n",
    "\n",
    "# Create dataframe\n",
    "dfEmpTypeCounts = empTypeCounts.reset_index()\n",
    "dfEmpTypeCounts.columns = ['Employment Type', 'Count']\n",
    "\n",
    "# Create colors map\n",
    "dfEmpTypeCountsColors = mpl.colors.LinearSegmentedColormap.from_list(\"custom_blue\", [\"#e5e7eb\", \"#172554\"])\n",
    "\n",
    "# Visualize new data\n",
    "styleDF(dfEmpTypeCounts)"
   ]
  },
  {
   "cell_type": "markdown",
   "id": "9a2d4034-59f5-48fc-a044-507bfdd847bb",
   "metadata": {},
   "source": [
    "<div \n",
    "    align=\"left\" \n",
    "    style=\"\n",
    "        background-color: #0284c7; \n",
    "        font-size: 20px; \n",
    "        font-family: 'Arial', sans-serif; \n",
    "        color: #F9F9F9; \n",
    "        padding: 5px; \n",
    "        line-height: 1; \n",
    "        border-radius: 15px;\n",
    "        margin: 5px 0;\n",
    "    \"\n",
    ">\n",
    "    <h4>3.7 - Rename employment models</h4>\n",
    "</div>"
   ]
  },
  {
   "cell_type": "code",
   "execution_count": 73,
   "id": "516fb4cb-4468-4106-9fd0-1470b4595733",
   "metadata": {},
   "outputs": [],
   "source": [
    "def mapEmploymentModel(df, oldCol='remote_ratio', newCol='employment_model'):\n",
    "\n",
    "    employmentModel = {\n",
    "        0: 'In-Person',\n",
    "        50: 'Hybrid',\n",
    "        100: 'Remote'\n",
    "    }\n",
    "\n",
    "    df[newCol] = df[oldCol].map(employmentModel).fillna('Other')\n",
    "\n",
    "    return df\n",
    "\n",
    "dfEmploymentModel = mapEmploymentModel(dfSalaries)"
   ]
  },
  {
   "cell_type": "markdown",
   "id": "3dea1cc8-fed8-47d4-b6af-b37faecf1487",
   "metadata": {},
   "source": [
    "<div \n",
    "    align=\"left\" \n",
    "    style=\"\n",
    "        background-color: #0284c7; \n",
    "        font-size: 20px; \n",
    "        font-family: 'Arial', sans-serif; \n",
    "        color: #F9F9F9; \n",
    "        padding: 5px; \n",
    "        line-height: 1; \n",
    "        border-radius: 15px;\n",
    "        margin: 5px 0;\n",
    "    \"\n",
    ">\n",
    "    <h4>3.8 - Visualize new employment models</h4>\n",
    "</div>"
   ]
  },
  {
   "cell_type": "code",
   "execution_count": 74,
   "id": "9a04b6f9-3782-440d-b2b0-fc1b73cac1d1",
   "metadata": {},
   "outputs": [
    {
     "data": {
      "text/html": [
       "<style type=\"text/css\">\n",
       "#T_97788 th {\n",
       "  font-size: 16pt;\n",
       "  text-align: center;\n",
       "  padding: 8px;\n",
       "}\n",
       "#T_97788_row0_col0, #T_97788_row1_col0, #T_97788_row2_col0 {\n",
       "  font-size: 14pt;\n",
       "  text-align: center;\n",
       "  padding: 8px;\n",
       "}\n",
       "#T_97788_row0_col1 {\n",
       "  font-size: 14pt;\n",
       "  text-align: center;\n",
       "  padding: 8px;\n",
       "  background-color: #172554;\n",
       "  color: #f1f1f1;\n",
       "}\n",
       "#T_97788_row1_col1 {\n",
       "  font-size: 14pt;\n",
       "  text-align: center;\n",
       "  padding: 8px;\n",
       "  background-color: #838ba3;\n",
       "  color: #f1f1f1;\n",
       "}\n",
       "#T_97788_row2_col1 {\n",
       "  font-size: 14pt;\n",
       "  text-align: center;\n",
       "  padding: 8px;\n",
       "  background-color: #e5e7eb;\n",
       "  color: #000000;\n",
       "}\n",
       "</style>\n",
       "<table id=\"T_97788\">\n",
       "  <thead>\n",
       "    <tr>\n",
       "      <th class=\"blank level0\" >&nbsp;</th>\n",
       "      <th id=\"T_97788_level0_col0\" class=\"col_heading level0 col0\" >Employment Model</th>\n",
       "      <th id=\"T_97788_level0_col1\" class=\"col_heading level0 col1\" >Count</th>\n",
       "    </tr>\n",
       "  </thead>\n",
       "  <tbody>\n",
       "    <tr>\n",
       "      <th id=\"T_97788_level0_row0\" class=\"row_heading level0 row0\" >0</th>\n",
       "      <td id=\"T_97788_row0_col0\" class=\"data row0 col0\" >In-Person</td>\n",
       "      <td id=\"T_97788_row0_col1\" class=\"data row0 col1\" >9638</td>\n",
       "    </tr>\n",
       "    <tr>\n",
       "      <th id=\"T_97788_level0_row1\" class=\"row_heading level0 row1\" >1</th>\n",
       "      <td id=\"T_97788_row1_col0\" class=\"data row1 col0\" >Remote</td>\n",
       "      <td id=\"T_97788_row1_col1\" class=\"data row1 col1\" >4686</td>\n",
       "    </tr>\n",
       "    <tr>\n",
       "      <th id=\"T_97788_level0_row2\" class=\"row_heading level0 row2\" >2</th>\n",
       "      <td id=\"T_97788_row2_col0\" class=\"data row2 col0\" >Hybrid</td>\n",
       "      <td id=\"T_97788_row2_col1\" class=\"data row2 col1\" >244</td>\n",
       "    </tr>\n",
       "  </tbody>\n",
       "</table>\n"
      ],
      "text/plain": [
       "<pandas.io.formats.style.Styler at 0x2286a0afd70>"
      ]
     },
     "execution_count": 74,
     "metadata": {},
     "output_type": "execute_result"
    }
   ],
   "source": [
    "# Count each type\n",
    "empModelCounts = dfSalaries['employment_model'].value_counts()\n",
    "\n",
    "# Create dataframe\n",
    "dfEmpModelCounts = empModelCounts.reset_index()\n",
    "dfEmpModelCounts.columns = ['Employment Model', 'Count']\n",
    "\n",
    "# Create colors map\n",
    "dfEmpModelCountsColors = mpl.colors.LinearSegmentedColormap.from_list(\"custom_blue\", [\"#e5e7eb\", \"#172554\"])\n",
    "\n",
    "# Visualize new data\n",
    "styleDF(dfEmpModelCounts)"
   ]
  },
  {
   "cell_type": "markdown",
   "id": "25e07247-4f85-4f68-b3d5-3a1f92ad3dc5",
   "metadata": {},
   "source": [
    "<div \n",
    "    align=\"left\" \n",
    "    style=\"\n",
    "        background-color: #0284c7; \n",
    "        font-size: 20px; \n",
    "        font-family: 'Arial', sans-serif; \n",
    "        color: #F9F9F9; \n",
    "        padding: 5px; \n",
    "        line-height: 1; \n",
    "        border-radius: 15px;\n",
    "        margin: 5px 0;\n",
    "    \"\n",
    ">\n",
    "    <h4>3.9 - Add job category column</h4>\n",
    "</div>"
   ]
  },
  {
   "cell_type": "code",
   "execution_count": 75,
   "id": "91fb763f-65c3-43f7-82f3-7de1fdbef4ab",
   "metadata": {},
   "outputs": [],
   "source": [
    "def mapJobCategory(df, oldCol='job_title', newCol='job_category'):\n",
    "    jobGroup = {\n",
    "        'data analyst': 'Data Analyst',\n",
    "        'bi analyst': 'Data Analyst',\n",
    "        'analytics': 'Data Analyst',\n",
    "        'data scientist': 'Data Scientist',\n",
    "        'data science': 'Data Scientist',\n",
    "        'decision scientist': 'Data Scientist',\n",
    "        'data engineer': 'Data Engineer',\n",
    "        'etl': 'Data Engineer',\n",
    "        'pipeline': 'Data Engineer',\n",
    "        'machine learning': 'ML Engineer',\n",
    "        'ml': 'ML Engineer',\n",
    "        'deep learning': 'ML Engineer',\n",
    "        'ai': 'ML Engineer',\n",
    "        'data architect': 'Data Engineer',\n",
    "        'big data': 'Data Engineer',\n",
    "        'cloud data': 'Data Engineer',\n",
    "        'data manager': 'Data Engineer',\n",
    "        'head of data': 'Data Engineer',\n",
    "        'director': 'Data Engineer',\n",
    "        'bi developer': 'Data Analyst',\n",
    "        'power bi': 'Data Analyst',\n",
    "        'business intelligence': 'Data Analyst',\n",
    "        'research scientist': 'Data Scientist',\n",
    "        'research engineer': 'Data Scientist',\n",
    "        'statistician': 'Data Analyst',\n",
    "        'quantitative': 'Data Analyst',\n",
    "        'computational biologist': 'Data Scientist',\n",
    "        'robotics': 'Data Engineer',\n",
    "        'nlp': 'Data Engineer',\n",
    "        'applied scientist': 'Data Scientist',\n",
    "        'research analyst': 'Data Analyst',\n",
    "        'data specialist ': 'Data Scientist',\n",
    "        'data modeler': 'Data Engineer',\n",
    "    }\n",
    "\n",
    "    df[newCol] = df[oldCol].str.lower().apply(\n",
    "        lambda title: next((v for k, v in jobGroup.items() if k in title), 'Data Scientist')\n",
    "    )\n",
    "    return df\n",
    "\n",
    "dfSalaries = mapJobCategory(dfSalaries)"
   ]
  },
  {
   "cell_type": "markdown",
   "id": "ca7db45b-188e-4be4-9535-e6a473eb7d51",
   "metadata": {},
   "source": [
    "<div \n",
    "    align=\"left\" \n",
    "    style=\"\n",
    "        background-color: #0284c7; \n",
    "        font-size: 20px; \n",
    "        font-family: 'Arial', sans-serif; \n",
    "        color: #F9F9F9; \n",
    "        padding: 5px; \n",
    "        line-height: 1; \n",
    "        border-radius: 15px;\n",
    "        margin: 5px 0;\n",
    "    \"\n",
    ">\n",
    "    <h4>3.10 - Visualize new job category column</h4>\n",
    "</div>"
   ]
  },
  {
   "cell_type": "code",
   "execution_count": 76,
   "id": "4ac4b1b5-64d2-4c1f-8c7b-b63f528a5e23",
   "metadata": {},
   "outputs": [
    {
     "data": {
      "text/html": [
       "<style type=\"text/css\">\n",
       "#T_99d09 th {\n",
       "  font-size: 16pt;\n",
       "  text-align: center;\n",
       "  padding: 8px;\n",
       "}\n",
       "#T_99d09_row0_col0, #T_99d09_row1_col0, #T_99d09_row2_col0, #T_99d09_row3_col0 {\n",
       "  font-size: 14pt;\n",
       "  text-align: center;\n",
       "  padding: 8px;\n",
       "}\n",
       "#T_99d09_row0_col1 {\n",
       "  font-size: 14pt;\n",
       "  text-align: center;\n",
       "  padding: 8px;\n",
       "  background-color: #172554;\n",
       "  color: #f1f1f1;\n",
       "}\n",
       "#T_99d09_row1_col1 {\n",
       "  font-size: 14pt;\n",
       "  text-align: center;\n",
       "  padding: 8px;\n",
       "  background-color: #697390;\n",
       "  color: #f1f1f1;\n",
       "}\n",
       "#T_99d09_row2_col1 {\n",
       "  font-size: 14pt;\n",
       "  text-align: center;\n",
       "  padding: 8px;\n",
       "  background-color: #868ea6;\n",
       "  color: #f1f1f1;\n",
       "}\n",
       "#T_99d09_row3_col1 {\n",
       "  font-size: 14pt;\n",
       "  text-align: center;\n",
       "  padding: 8px;\n",
       "  background-color: #e5e7eb;\n",
       "  color: #000000;\n",
       "}\n",
       "</style>\n",
       "<table id=\"T_99d09\">\n",
       "  <thead>\n",
       "    <tr>\n",
       "      <th class=\"blank level0\" >&nbsp;</th>\n",
       "      <th id=\"T_99d09_level0_col0\" class=\"col_heading level0 col0\" >Job Category</th>\n",
       "      <th id=\"T_99d09_level0_col1\" class=\"col_heading level0 col1\" >Count</th>\n",
       "    </tr>\n",
       "  </thead>\n",
       "  <tbody>\n",
       "    <tr>\n",
       "      <th id=\"T_99d09_level0_row0\" class=\"row_heading level0 row0\" >0</th>\n",
       "      <td id=\"T_99d09_row0_col0\" class=\"data row0 col0\" >Data Scientist</td>\n",
       "      <td id=\"T_99d09_row0_col1\" class=\"data row0 col1\" >5101</td>\n",
       "    </tr>\n",
       "    <tr>\n",
       "      <th id=\"T_99d09_level0_row1\" class=\"row_heading level0 row1\" >1</th>\n",
       "      <td id=\"T_99d09_row1_col0\" class=\"data row1 col0\" >Data Engineer</td>\n",
       "      <td id=\"T_99d09_row1_col1\" class=\"data row1 col1\" >3896</td>\n",
       "    </tr>\n",
       "    <tr>\n",
       "      <th id=\"T_99d09_level0_row2\" class=\"row_heading level0 row2\" >2</th>\n",
       "      <td id=\"T_99d09_row2_col0\" class=\"data row2 col0\" >Data Analyst</td>\n",
       "      <td id=\"T_99d09_row2_col1\" class=\"data row2 col1\" >3478</td>\n",
       "    </tr>\n",
       "    <tr>\n",
       "      <th id=\"T_99d09_level0_row3\" class=\"row_heading level0 row3\" >3</th>\n",
       "      <td id=\"T_99d09_row3_col0\" class=\"data row3 col0\" >ML Engineer</td>\n",
       "      <td id=\"T_99d09_row3_col1\" class=\"data row3 col1\" >2093</td>\n",
       "    </tr>\n",
       "  </tbody>\n",
       "</table>\n"
      ],
      "text/plain": [
       "<pandas.io.formats.style.Styler at 0x2287174e6f0>"
      ]
     },
     "execution_count": 76,
     "metadata": {},
     "output_type": "execute_result"
    }
   ],
   "source": [
    "# Count each type\n",
    "jobCategoryCounts = dfSalaries['job_category'].value_counts()\n",
    "\n",
    "# Create dataframe\n",
    "dfJobCategoryCounts = jobCategoryCounts.reset_index()\n",
    "dfJobCategoryCounts.columns = ['Job Category', 'Count']\n",
    "\n",
    "# Create colors map\n",
    "dfJobCategoryCountsColors = mpl.colors.LinearSegmentedColormap.from_list(\"custom_blue\", [\"#e5e7eb\", \"#172554\"])\n",
    "\n",
    "# Visualize new data\n",
    "styleDF(dfJobCategoryCounts)"
   ]
  },
  {
   "cell_type": "markdown",
   "id": "0eda973a-d093-4c31-8b6f-e6f4800c48dc",
   "metadata": {},
   "source": [
    "<div \n",
    "    align=\"left\" \n",
    "    style=\"\n",
    "        background-color: #0284c7; \n",
    "        font-size: 20px; \n",
    "        font-family: 'Arial', sans-serif; \n",
    "        color: #F9F9F9; \n",
    "        padding: 5px; \n",
    "        line-height: 1; \n",
    "        border-radius: 15px;\n",
    "        margin: 5px 0;\n",
    "    \"\n",
    ">\n",
    "    <h4>3.11 - Remove unused columns</h4>\n",
    "</div>"
   ]
  },
  {
   "cell_type": "code",
   "execution_count": 77,
   "id": "8974e387-5a37-42cd-86df-863c88cea968",
   "metadata": {},
   "outputs": [
    {
     "name": "stdout",
     "output_type": "stream",
     "text": [
      "Index(['work_year', 'experience_level', 'employment_type', 'job_title',\n",
      "       'salary_in_usd', 'employee_residence', 'company_location',\n",
      "       'company_size', 'employment_model', 'job_category'],\n",
      "      dtype='object')\n"
     ]
    }
   ],
   "source": [
    "dfSalaries = dfSalaries.drop(columns=[\n",
    "    'remote_ratio',\n",
    "    'salary_currency',\n",
    "    'salary'\n",
    "])\n",
    "\n",
    "print( dfSalaries.columns )"
   ]
  },
  {
   "cell_type": "markdown",
   "id": "7733a394-5c9a-4a79-ae4a-7c8c64d26aa8",
   "metadata": {},
   "source": [
    "<div \n",
    "    align=\"left\" \n",
    "    style=\"\n",
    "        background-color: #075985; \n",
    "        font-size: 24px; \n",
    "        font-family: 'Arial', sans-serif; \n",
    "        color: #F9F9F9; \n",
    "        padding: 10px; \n",
    "        line-height: 1; \n",
    "        border-radius: 15px;\n",
    "        margin: 10px 0;\n",
    "    \"\n",
    ">\n",
    "    <h3>4 - Data modeling and structuring</h3>\n",
    "</div>"
   ]
  },
  {
   "cell_type": "markdown",
   "id": "7f399ef8-6f53-426a-b81e-d467afffe53d",
   "metadata": {
    "jp-MarkdownHeadingCollapsed": true
   },
   "source": [
    "<div \n",
    "    align=\"left\" \n",
    "    style=\"\n",
    "        background-color: #0284c7; \n",
    "        font-size: 20px; \n",
    "        font-family: 'Arial', sans-serif; \n",
    "        color: #F9F9F9; \n",
    "        padding: 5px; \n",
    "        line-height: 1; \n",
    "        border-radius: 15px;\n",
    "        margin: 5px 0;\n",
    "    \"\n",
    ">\n",
    "    <h4>4.1 - Create employee dataframe</h4>\n",
    "</div>"
   ]
  },
  {
   "cell_type": "code",
   "execution_count": 78,
   "id": "c325f634-7c96-4418-8ce3-8716dda38440",
   "metadata": {},
   "outputs": [
    {
     "name": "stdout",
     "output_type": "stream",
     "text": [
      "Employee Table\n",
      "   work_year experience_level employee_residence  employee_id\n",
      "0       2021        Mid-Level                 CL            1\n",
      "1       2021        Mid-Level                 HU            2\n",
      "2       2020        Mid-Level                 HU            3\n",
      "3       2021        Mid-Level                 JP            4\n",
      "4       2022           Senior                 IN            5\n",
      "5       2021           Senior                 IN            6\n",
      "6       2022           Junior                 HU            7\n",
      "7       2022           Expert                 IN            8\n",
      "8       2022           Junior                 JP            9\n",
      "9       2023        Mid-Level                 IN           10\n"
     ]
    }
   ],
   "source": [
    "# Create Employee dataframe\n",
    "dfEmployee = dfSalaries[['work_year', 'experience_level', 'employee_residence']].drop_duplicates().reset_index(drop=True)\n",
    "dfEmployee['employee_id'] = range(1, len(dfEmployee) + 1)\n",
    "\n",
    "# Display Employee dataframe\n",
    "print(\"Employee Table\")\n",
    "print(dfEmployee.head(10))"
   ]
  },
  {
   "cell_type": "markdown",
   "id": "ba98ed6a-a133-42c2-a858-ce9210ec18a1",
   "metadata": {
    "jp-MarkdownHeadingCollapsed": true
   },
   "source": [
    "<div \n",
    "    align=\"left\" \n",
    "    style=\"\n",
    "        background-color: #0284c7; \n",
    "        font-size: 20px; \n",
    "        font-family: 'Arial', sans-serif; \n",
    "        color: #F9F9F9; \n",
    "        padding: 5px; \n",
    "        line-height: 1; \n",
    "        border-radius: 15px;\n",
    "        margin: 5px 0;\n",
    "    \"\n",
    ">\n",
    "    <h4>4.2 - Create job dataframe</h4>\n",
    "</div>"
   ]
  },
  {
   "cell_type": "code",
   "execution_count": 79,
   "id": "a97dc550-49c2-4eb3-9647-0003cf93d1e1",
   "metadata": {},
   "outputs": [
    {
     "name": "stdout",
     "output_type": "stream",
     "text": [
      "\n",
      "Job Table\n",
      "                        job_title    job_category employment_type  \\\n",
      "0                  Data Scientist  Data Scientist       Full-Time   \n",
      "1                 BI Data Analyst    Data Analyst       Full-Time   \n",
      "2                  Data Scientist  Data Scientist       Full-Time   \n",
      "3                     ML Engineer     ML Engineer       Full-Time   \n",
      "4  Lead Machine Learning Engineer     ML Engineer       Full-Time   \n",
      "5            Data Science Manager  Data Scientist       Full-Time   \n",
      "6        Head of Machine Learning     ML Engineer       Full-Time   \n",
      "7               Research Engineer  Data Scientist       Full-Time   \n",
      "8            Head of Data Science  Data Scientist       Full-Time   \n",
      "9                   AI Programmer     ML Engineer       Full-Time   \n",
      "\n",
      "  employment_model  job_id  \n",
      "0           Remote       1  \n",
      "1           Hybrid       2  \n",
      "2           Hybrid       3  \n",
      "3           Hybrid       4  \n",
      "4           Hybrid       5  \n",
      "5           Hybrid       6  \n",
      "6           Hybrid       7  \n",
      "7           Hybrid       8  \n",
      "8           Hybrid       9  \n",
      "9        In-Person      10  \n"
     ]
    }
   ],
   "source": [
    "# Create Job dataframe\n",
    "dfJob = dfSalaries[['job_title', 'job_category', 'employment_type', 'employment_model']].drop_duplicates().reset_index(drop=True)\n",
    "dfJob['job_id'] = range(1, len(dfJob) + 1)\n",
    "\n",
    "# Display Job dataframe\n",
    "print(\"\\nJob Table\")\n",
    "print(dfJob.head(10))"
   ]
  },
  {
   "cell_type": "markdown",
   "id": "c86ed483-bc44-4e0a-9304-8599c220d88e",
   "metadata": {},
   "source": [
    "<div \n",
    "    align=\"left\" \n",
    "    style=\"\n",
    "        background-color: #0284c7; \n",
    "        font-size: 20px; \n",
    "        font-family: 'Arial', sans-serif; \n",
    "        color: #F9F9F9; \n",
    "        padding: 5px; \n",
    "        line-height: 1; \n",
    "        border-radius: 15px;\n",
    "        margin: 5px 0;\n",
    "    \"\n",
    ">\n",
    "    <h4>4.3 - Create company dataframe</h4>\n",
    "</div>"
   ]
  },
  {
   "cell_type": "code",
   "execution_count": 80,
   "id": "ea6b11ec-519c-437a-b544-5fbba7c2b535",
   "metadata": {},
   "outputs": [
    {
     "name": "stdout",
     "output_type": "stream",
     "text": [
      "\n",
      "Company Table\n",
      "  company_location company_size  company_id\n",
      "0               CL            L           1\n",
      "1               US            L           2\n",
      "2               HU            L           3\n",
      "3               JP            S           4\n",
      "4               IN            L           5\n",
      "5               HU            M           6\n",
      "6               JP            L           7\n",
      "7               IN            S           8\n",
      "8               ID            L           9\n",
      "9               DE            L          10\n"
     ]
    }
   ],
   "source": [
    "# Create Company dataframe\n",
    "dfCompany = dfSalaries[['company_location', 'company_size']].drop_duplicates().reset_index(drop=True)\n",
    "dfCompany['company_id'] = range(1, len(dfCompany) + 1)\n",
    "\n",
    "# Display Company dataframe\n",
    "print(\"\\nCompany Table\")\n",
    "print(dfCompany.head(10))"
   ]
  },
  {
   "cell_type": "markdown",
   "id": "6a49fd58-8107-4785-b77e-dc4066185ff2",
   "metadata": {},
   "source": [
    "<div \n",
    "    align=\"left\" \n",
    "    style=\"\n",
    "        background-color: #0284c7; \n",
    "        font-size: 20px; \n",
    "        font-family: 'Arial', sans-serif; \n",
    "        color: #F9F9F9; \n",
    "        padding: 5px; \n",
    "        line-height: 1; \n",
    "        border-radius: 15px;\n",
    "        margin: 5px 0;\n",
    "    \"\n",
    ">\n",
    "    <h4>4.4 - Create salary dataframe</h4>\n",
    "</div>"
   ]
  },
  {
   "cell_type": "code",
   "execution_count": 81,
   "id": "95efeb67-e49b-4df6-8ada-6f068f6e9311",
   "metadata": {},
   "outputs": [
    {
     "name": "stdout",
     "output_type": "stream",
     "text": [
      "\n",
      "Salary Table\n",
      "   salary_in_usd  job_id  company_id  salary_id\n",
      "0          40038       1           1          1\n",
      "1          40038       3           1          2\n",
      "2          40038      21           1          3\n",
      "3          40038     153           1          4\n",
      "4          40038     218           1          5\n",
      "5          40038     240           1          6\n",
      "6          40038     248           1          7\n",
      "7          40038     249           1          8\n",
      "8          36259       2           2          9\n",
      "9          36259       2          12         10\n"
     ]
    }
   ],
   "source": [
    "# Create Salary dataframe\n",
    "dfSalary = dfSalaries[['job_title', 'company_location', 'salary_in_usd']].copy()\n",
    "dfSalary = dfSalary.merge(dfJob[['job_title', 'job_id']], on='job_title')\n",
    "dfSalary = dfSalary.merge(dfCompany[['company_location', 'company_id']], on='company_location')\n",
    "dfSalary = dfSalary[['salary_in_usd', 'job_id', 'company_id']]\n",
    "dfSalary['salary_id'] = range(1, len(dfSalary) + 1)\n",
    "\n",
    "# Display Salary dataframe\n",
    "print(\"\\nSalary Table\")\n",
    "print(dfSalary.head(10))"
   ]
  },
  {
   "cell_type": "markdown",
   "id": "93194ad7-e670-4d25-82e4-e823765485b9",
   "metadata": {},
   "source": [
    "<div \n",
    "    align=\"left\" \n",
    "    style=\"\n",
    "        background-color: #075985; \n",
    "        font-size: 24px; \n",
    "        font-family: 'Arial', sans-serif; \n",
    "        color: #F9F9F9; \n",
    "        padding: 10px; \n",
    "        line-height: 1; \n",
    "        border-radius: 15px;\n",
    "        margin: 10px 0;\n",
    "    \"\n",
    ">\n",
    "    <h3>5 - Save data in PostgreSQL database</h3>\n",
    "</div>"
   ]
  },
  {
   "cell_type": "markdown",
   "id": "4df2ed0a-6d4f-4412-b34b-c2b99739bf17",
   "metadata": {},
   "source": [
    "<div \n",
    "    align=\"left\" \n",
    "    style=\"\n",
    "        background-color: #0284c7; \n",
    "        font-size: 20px; \n",
    "        font-family: 'Arial', sans-serif; \n",
    "        color: #F9F9F9; \n",
    "        padding: 5px; \n",
    "        line-height: 1; \n",
    "        border-radius: 15px;\n",
    "        margin: 5px 0;\n",
    "    \"\n",
    ">\n",
    "    <h4>5.1 - Create connection parameters</h4>\n",
    "</div>"
   ]
  },
  {
   "cell_type": "code",
   "execution_count": 82,
   "id": "73dac4ac-b019-4ff1-8d49-36442786b4b6",
   "metadata": {},
   "outputs": [],
   "source": [
    "cnxn = psycopg2.connect(\n",
    "    dbname='data-science-salaries',\n",
    "    user='postgres',\n",
    "    password='admin',\n",
    "    host='localhost',\n",
    "    port='5432'\n",
    ")\n",
    "\n",
    "cursor = cnxn.cursor()"
   ]
  },
  {
   "cell_type": "markdown",
   "id": "b80f3f52-73c5-4f19-a830-ac2f1718fed9",
   "metadata": {},
   "source": [
    "<div \n",
    "    align=\"left\" \n",
    "    style=\"\n",
    "        background-color: #0284c7; \n",
    "        font-size: 20px; \n",
    "        font-family: 'Arial', sans-serif; \n",
    "        color: #F9F9F9; \n",
    "        padding: 5px; \n",
    "        line-height: 1; \n",
    "        border-radius: 15px;\n",
    "        margin: 5px 0;\n",
    "    \"\n",
    ">\n",
    "    <h4>5.2 - Create database tables</h4>\n",
    "</div>"
   ]
  },
  {
   "cell_type": "code",
   "execution_count": 83,
   "id": "496d85c7-8a06-4946-b404-77b585a1c36d",
   "metadata": {},
   "outputs": [],
   "source": [
    "# Create employee (funcionario) table\n",
    "createTable(\n",
    "    cursor=cursor,\n",
    "    tableName=\"funcionario\",\n",
    "    df=dfEmployee\n",
    ")\n",
    "\n",
    "# Create job (emprego) table\n",
    "createTable(\n",
    "    cursor=cursor,\n",
    "    tableName=\"emprego\",\n",
    "    df=dfJob\n",
    ")\n",
    "\n",
    "# Create company (empresa) table\n",
    "createTable(\n",
    "    cursor=cursor,\n",
    "    tableName=\"empresa\",\n",
    "    df=dfCompany\n",
    ")\n",
    "\n",
    "# Create salary (salario) table\n",
    "createTable(\n",
    "    cursor=cursor,\n",
    "    tableName=\"salario\",\n",
    "    df=dfSalary\n",
    ")\n",
    "\n",
    "cnxn.commit()"
   ]
  },
  {
   "cell_type": "markdown",
   "id": "d77e5ad3-8c51-4b02-a8a7-3b7f45339e5b",
   "metadata": {},
   "source": [
    "<div \n",
    "    align=\"left\" \n",
    "    style=\"\n",
    "        background-color: #0284c7; \n",
    "        font-size: 20px; \n",
    "        font-family: 'Arial', sans-serif; \n",
    "        color: #F9F9F9; \n",
    "        padding: 5px; \n",
    "        line-height: 1; \n",
    "        border-radius: 15px;\n",
    "        margin: 5px 0;\n",
    "    \"\n",
    ">\n",
    "    <h4>5.3 - Close connection parameters</h4>\n",
    "</div>"
   ]
  },
  {
   "cell_type": "code",
   "execution_count": 84,
   "id": "18d1ddf0-72d9-4e75-9c7e-79461ed2d5d1",
   "metadata": {},
   "outputs": [],
   "source": [
    "cursor.close()\n",
    "cnxn.close()"
   ]
  },
  {
   "cell_type": "markdown",
   "id": "d5971329-f0f9-41fe-8ea3-f073ee3ad391",
   "metadata": {},
   "source": [
    "<div \n",
    "    align=\"left\" \n",
    "    style=\"\n",
    "        background-color: #075985; \n",
    "        font-size: 24px; \n",
    "        font-family: 'Arial', sans-serif; \n",
    "        color: #F9F9F9; \n",
    "        padding: 10px; \n",
    "        line-height: 1; \n",
    "        border-radius: 15px;\n",
    "        margin: 10px 0;\n",
    "    \"\n",
    ">\n",
    "    <h3>6 - Showing data</h3>\n",
    "</div>"
   ]
  },
  {
   "cell_type": "code",
   "execution_count": 103,
   "id": "aae86df9-76f5-474c-9e83-36c7e3d7965a",
   "metadata": {},
   "outputs": [
    {
     "data": {
      "application/vnd.plotly.v1+json": {
       "config": {
        "plotlyServerURL": "https://plot.ly"
       },
       "data": [
        {
         "hovertemplate": "work_year=%{x}<br>salary_in_usd=%{y}<extra></extra>",
         "legendgroup": "",
         "line": {
          "color": "#636efa",
          "dash": "solid"
         },
         "marker": {
          "symbol": "circle"
         },
         "mode": "lines+markers",
         "name": "",
         "orientation": "v",
         "showlegend": false,
         "type": "scatter",
         "x": [
          2020,
          2021,
          2022,
          2023,
          2024
         ],
         "xaxis": "x",
         "y": [
          90025.20833333333,
          96963.01851851853,
          133131.44248326233,
          150392.68840925352,
          143760.2385321101
         ],
         "yaxis": "y"
        },
        {
         "hovertemplate": "job_category=Data Analyst<br>work_year=%{x}<br>salary_in_usd=%{y}<extra></extra>",
         "legendgroup": "Data Analyst",
         "line": {
          "color": "#636efa",
          "dash": "solid"
         },
         "marker": {
          "symbol": "circle"
         },
         "mode": "lines+markers",
         "name": "Data Analyst",
         "orientation": "v",
         "showlegend": true,
         "type": "scatter",
         "x": [
          2020,
          2021,
          2022,
          2023,
          2024
         ],
         "xaxis": "x2",
         "y": [
          68014.66666666667,
          85159.1081081081,
          110980.63387978142,
          117625.25433231397,
          113570.35154826958
         ],
         "yaxis": "y2"
        },
        {
         "hovertemplate": "job_category=Data Engineer<br>work_year=%{x}<br>salary_in_usd=%{y}<extra></extra>",
         "legendgroup": "Data Engineer",
         "line": {
          "color": "#EF553B",
          "dash": "solid"
         },
         "marker": {
          "symbol": "circle"
         },
         "mode": "lines+markers",
         "name": "Data Engineer",
         "orientation": "v",
         "showlegend": true,
         "type": "scatter",
         "x": [
          2020,
          2021,
          2022,
          2023,
          2024
         ],
         "xaxis": "x2",
         "y": [
          88578.36842105263,
          111089.45614035087,
          139836.2450805009,
          147180.15703573005,
          144745.0060362173
         ],
         "yaxis": "y2"
        },
        {
         "hovertemplate": "job_category=Data Scientist<br>work_year=%{x}<br>salary_in_usd=%{y}<extra></extra>",
         "legendgroup": "Data Scientist",
         "line": {
          "color": "#00cc96",
          "dash": "solid"
         },
         "marker": {
          "symbol": "circle"
         },
         "mode": "lines+markers",
         "name": "Data Scientist",
         "orientation": "v",
         "showlegend": true,
         "type": "scatter",
         "x": [
          2020,
          2021,
          2022,
          2023,
          2024
         ],
         "xaxis": "x2",
         "y": [
          93304.89655172414,
          93844.7816091954,
          138339.6409774436,
          162491.54473229707,
          150187.5706033376
         ],
         "yaxis": "y2"
        },
        {
         "hovertemplate": "job_category=ML Engineer<br>work_year=%{x}<br>salary_in_usd=%{y}<extra></extra>",
         "legendgroup": "ML Engineer",
         "line": {
          "color": "#ab63fa",
          "dash": "solid"
         },
         "marker": {
          "symbol": "circle"
         },
         "mode": "lines+markers",
         "name": "ML Engineer",
         "orientation": "v",
         "showlegend": true,
         "type": "scatter",
         "visible": true,
         "x": [
          2020,
          2021,
          2022,
          2023,
          2024
         ],
         "xaxis": "x2",
         "y": [
          119196,
          94186.57142857143,
          141671.49462365592,
          179351.74167987323,
          180625.21963394343
         ],
         "yaxis": "y2"
        },
        {
         "hovertemplate": "work_year=%{x}<br>count=%{y}<extra></extra>",
         "legendgroup": "",
         "line": {
          "color": "#636efa",
          "dash": "solid"
         },
         "marker": {
          "symbol": "circle"
         },
         "mode": "lines+markers",
         "name": "",
         "orientation": "v",
         "showlegend": false,
         "type": "scatter",
         "x": [
          2020,
          2021,
          2022,
          2023,
          2024
         ],
         "xaxis": "x3",
         "y": [
          72,
          216,
          1643,
          8386,
          4251
         ],
         "yaxis": "y3"
        },
        {
         "hovertemplate": "job_category=Data Analyst<br>work_year=%{x}<br>count=%{y}<extra></extra>",
         "legendgroup": "Data Analyst",
         "line": {
          "color": "#636efa",
          "dash": "solid"
         },
         "marker": {
          "symbol": "circle"
         },
         "mode": "lines+markers",
         "name": "Data Analyst",
         "orientation": "v",
         "showlegend": true,
         "type": "scatter",
         "x": [
          2020,
          2021,
          2022,
          2023,
          2024
         ],
         "xaxis": "x4",
         "y": [
          15,
          37,
          366,
          1962,
          1098
         ],
         "yaxis": "y4"
        },
        {
         "hovertemplate": "job_category=Data Engineer<br>work_year=%{x}<br>count=%{y}<extra></extra>",
         "legendgroup": "Data Engineer",
         "line": {
          "color": "#EF553B",
          "dash": "solid"
         },
         "marker": {
          "symbol": "circle"
         },
         "mode": "lines+markers",
         "name": "Data Engineer",
         "orientation": "v",
         "showlegend": true,
         "type": "scatter",
         "x": [
          2020,
          2021,
          2022,
          2023,
          2024
         ],
         "xaxis": "x4",
         "y": [
          19,
          57,
          559,
          2267,
          994
         ],
         "yaxis": "y4"
        },
        {
         "hovertemplate": "job_category=Data Scientist<br>work_year=%{x}<br>count=%{y}<extra></extra>",
         "legendgroup": "Data Scientist",
         "line": {
          "color": "#00cc96",
          "dash": "solid"
         },
         "marker": {
          "symbol": "circle"
         },
         "mode": "lines+markers",
         "name": "Data Scientist",
         "orientation": "v",
         "showlegend": true,
         "type": "scatter",
         "x": [
          2020,
          2021,
          2022,
          2023,
          2024
         ],
         "xaxis": "x4",
         "y": [
          29,
          87,
          532,
          2895,
          1558
         ],
         "yaxis": "y4"
        },
        {
         "hovertemplate": "job_category=ML Engineer<br>work_year=%{x}<br>count=%{y}<extra></extra>",
         "legendgroup": "ML Engineer",
         "line": {
          "color": "#ab63fa",
          "dash": "solid"
         },
         "marker": {
          "symbol": "circle"
         },
         "mode": "lines+markers",
         "name": "ML Engineer",
         "orientation": "v",
         "showlegend": true,
         "type": "scatter",
         "visible": true,
         "x": [
          2020,
          2021,
          2022,
          2023,
          2024
         ],
         "xaxis": "x4",
         "y": [
          9,
          35,
          186,
          1262,
          601
         ],
         "yaxis": "y4"
        }
       ],
       "layout": {
        "annotations": [
         {
          "font": {
           "size": 16
          },
          "showarrow": false,
          "text": "Salary Trends Over Time",
          "x": 0.225,
          "xanchor": "center",
          "xref": "paper",
          "y": 1,
          "yanchor": "bottom",
          "yref": "paper"
         },
         {
          "font": {
           "size": 16
          },
          "showarrow": false,
          "text": "Salary Trends by Job Category",
          "x": 0.775,
          "xanchor": "center",
          "xref": "paper",
          "y": 1,
          "yanchor": "bottom",
          "yref": "paper"
         },
         {
          "font": {
           "size": 16
          },
          "showarrow": false,
          "text": "Job Postings Over Time",
          "x": 0.225,
          "xanchor": "center",
          "xref": "paper",
          "y": 0.375,
          "yanchor": "bottom",
          "yref": "paper"
         },
         {
          "font": {
           "size": 16
          },
          "showarrow": false,
          "text": "Job Postings by Job Category",
          "x": 0.775,
          "xanchor": "center",
          "xref": "paper",
          "y": 0.375,
          "yanchor": "bottom",
          "yref": "paper"
         }
        ],
        "font": {
         "family": "Franklin Gothic",
         "size": 17
        },
        "height": 800,
        "paper_bgcolor": "#000000",
        "plot_bgcolor": "#000000",
        "template": {
         "data": {
          "bar": [
           {
            "error_x": {
             "color": "#f2f5fa"
            },
            "error_y": {
             "color": "#f2f5fa"
            },
            "marker": {
             "line": {
              "color": "rgb(17,17,17)",
              "width": 0.5
             },
             "pattern": {
              "fillmode": "overlay",
              "size": 10,
              "solidity": 0.2
             }
            },
            "type": "bar"
           }
          ],
          "barpolar": [
           {
            "marker": {
             "line": {
              "color": "rgb(17,17,17)",
              "width": 0.5
             },
             "pattern": {
              "fillmode": "overlay",
              "size": 10,
              "solidity": 0.2
             }
            },
            "type": "barpolar"
           }
          ],
          "carpet": [
           {
            "aaxis": {
             "endlinecolor": "#A2B1C6",
             "gridcolor": "#506784",
             "linecolor": "#506784",
             "minorgridcolor": "#506784",
             "startlinecolor": "#A2B1C6"
            },
            "baxis": {
             "endlinecolor": "#A2B1C6",
             "gridcolor": "#506784",
             "linecolor": "#506784",
             "minorgridcolor": "#506784",
             "startlinecolor": "#A2B1C6"
            },
            "type": "carpet"
           }
          ],
          "choropleth": [
           {
            "colorbar": {
             "outlinewidth": 0,
             "ticks": ""
            },
            "type": "choropleth"
           }
          ],
          "contour": [
           {
            "colorbar": {
             "outlinewidth": 0,
             "ticks": ""
            },
            "colorscale": [
             [
              0,
              "#0d0887"
             ],
             [
              0.1111111111111111,
              "#46039f"
             ],
             [
              0.2222222222222222,
              "#7201a8"
             ],
             [
              0.3333333333333333,
              "#9c179e"
             ],
             [
              0.4444444444444444,
              "#bd3786"
             ],
             [
              0.5555555555555556,
              "#d8576b"
             ],
             [
              0.6666666666666666,
              "#ed7953"
             ],
             [
              0.7777777777777778,
              "#fb9f3a"
             ],
             [
              0.8888888888888888,
              "#fdca26"
             ],
             [
              1,
              "#f0f921"
             ]
            ],
            "type": "contour"
           }
          ],
          "contourcarpet": [
           {
            "colorbar": {
             "outlinewidth": 0,
             "ticks": ""
            },
            "type": "contourcarpet"
           }
          ],
          "heatmap": [
           {
            "colorbar": {
             "outlinewidth": 0,
             "ticks": ""
            },
            "colorscale": [
             [
              0,
              "#0d0887"
             ],
             [
              0.1111111111111111,
              "#46039f"
             ],
             [
              0.2222222222222222,
              "#7201a8"
             ],
             [
              0.3333333333333333,
              "#9c179e"
             ],
             [
              0.4444444444444444,
              "#bd3786"
             ],
             [
              0.5555555555555556,
              "#d8576b"
             ],
             [
              0.6666666666666666,
              "#ed7953"
             ],
             [
              0.7777777777777778,
              "#fb9f3a"
             ],
             [
              0.8888888888888888,
              "#fdca26"
             ],
             [
              1,
              "#f0f921"
             ]
            ],
            "type": "heatmap"
           }
          ],
          "heatmapgl": [
           {
            "colorbar": {
             "outlinewidth": 0,
             "ticks": ""
            },
            "colorscale": [
             [
              0,
              "#0d0887"
             ],
             [
              0.1111111111111111,
              "#46039f"
             ],
             [
              0.2222222222222222,
              "#7201a8"
             ],
             [
              0.3333333333333333,
              "#9c179e"
             ],
             [
              0.4444444444444444,
              "#bd3786"
             ],
             [
              0.5555555555555556,
              "#d8576b"
             ],
             [
              0.6666666666666666,
              "#ed7953"
             ],
             [
              0.7777777777777778,
              "#fb9f3a"
             ],
             [
              0.8888888888888888,
              "#fdca26"
             ],
             [
              1,
              "#f0f921"
             ]
            ],
            "type": "heatmapgl"
           }
          ],
          "histogram": [
           {
            "marker": {
             "pattern": {
              "fillmode": "overlay",
              "size": 10,
              "solidity": 0.2
             }
            },
            "type": "histogram"
           }
          ],
          "histogram2d": [
           {
            "colorbar": {
             "outlinewidth": 0,
             "ticks": ""
            },
            "colorscale": [
             [
              0,
              "#0d0887"
             ],
             [
              0.1111111111111111,
              "#46039f"
             ],
             [
              0.2222222222222222,
              "#7201a8"
             ],
             [
              0.3333333333333333,
              "#9c179e"
             ],
             [
              0.4444444444444444,
              "#bd3786"
             ],
             [
              0.5555555555555556,
              "#d8576b"
             ],
             [
              0.6666666666666666,
              "#ed7953"
             ],
             [
              0.7777777777777778,
              "#fb9f3a"
             ],
             [
              0.8888888888888888,
              "#fdca26"
             ],
             [
              1,
              "#f0f921"
             ]
            ],
            "type": "histogram2d"
           }
          ],
          "histogram2dcontour": [
           {
            "colorbar": {
             "outlinewidth": 0,
             "ticks": ""
            },
            "colorscale": [
             [
              0,
              "#0d0887"
             ],
             [
              0.1111111111111111,
              "#46039f"
             ],
             [
              0.2222222222222222,
              "#7201a8"
             ],
             [
              0.3333333333333333,
              "#9c179e"
             ],
             [
              0.4444444444444444,
              "#bd3786"
             ],
             [
              0.5555555555555556,
              "#d8576b"
             ],
             [
              0.6666666666666666,
              "#ed7953"
             ],
             [
              0.7777777777777778,
              "#fb9f3a"
             ],
             [
              0.8888888888888888,
              "#fdca26"
             ],
             [
              1,
              "#f0f921"
             ]
            ],
            "type": "histogram2dcontour"
           }
          ],
          "mesh3d": [
           {
            "colorbar": {
             "outlinewidth": 0,
             "ticks": ""
            },
            "type": "mesh3d"
           }
          ],
          "parcoords": [
           {
            "line": {
             "colorbar": {
              "outlinewidth": 0,
              "ticks": ""
             }
            },
            "type": "parcoords"
           }
          ],
          "pie": [
           {
            "automargin": true,
            "type": "pie"
           }
          ],
          "scatter": [
           {
            "marker": {
             "line": {
              "color": "#283442"
             }
            },
            "type": "scatter"
           }
          ],
          "scatter3d": [
           {
            "line": {
             "colorbar": {
              "outlinewidth": 0,
              "ticks": ""
             }
            },
            "marker": {
             "colorbar": {
              "outlinewidth": 0,
              "ticks": ""
             }
            },
            "type": "scatter3d"
           }
          ],
          "scattercarpet": [
           {
            "marker": {
             "colorbar": {
              "outlinewidth": 0,
              "ticks": ""
             }
            },
            "type": "scattercarpet"
           }
          ],
          "scattergeo": [
           {
            "marker": {
             "colorbar": {
              "outlinewidth": 0,
              "ticks": ""
             }
            },
            "type": "scattergeo"
           }
          ],
          "scattergl": [
           {
            "marker": {
             "line": {
              "color": "#283442"
             }
            },
            "type": "scattergl"
           }
          ],
          "scattermapbox": [
           {
            "marker": {
             "colorbar": {
              "outlinewidth": 0,
              "ticks": ""
             }
            },
            "type": "scattermapbox"
           }
          ],
          "scatterpolar": [
           {
            "marker": {
             "colorbar": {
              "outlinewidth": 0,
              "ticks": ""
             }
            },
            "type": "scatterpolar"
           }
          ],
          "scatterpolargl": [
           {
            "marker": {
             "colorbar": {
              "outlinewidth": 0,
              "ticks": ""
             }
            },
            "type": "scatterpolargl"
           }
          ],
          "scatterternary": [
           {
            "marker": {
             "colorbar": {
              "outlinewidth": 0,
              "ticks": ""
             }
            },
            "type": "scatterternary"
           }
          ],
          "surface": [
           {
            "colorbar": {
             "outlinewidth": 0,
             "ticks": ""
            },
            "colorscale": [
             [
              0,
              "#0d0887"
             ],
             [
              0.1111111111111111,
              "#46039f"
             ],
             [
              0.2222222222222222,
              "#7201a8"
             ],
             [
              0.3333333333333333,
              "#9c179e"
             ],
             [
              0.4444444444444444,
              "#bd3786"
             ],
             [
              0.5555555555555556,
              "#d8576b"
             ],
             [
              0.6666666666666666,
              "#ed7953"
             ],
             [
              0.7777777777777778,
              "#fb9f3a"
             ],
             [
              0.8888888888888888,
              "#fdca26"
             ],
             [
              1,
              "#f0f921"
             ]
            ],
            "type": "surface"
           }
          ],
          "table": [
           {
            "cells": {
             "fill": {
              "color": "#506784"
             },
             "line": {
              "color": "rgb(17,17,17)"
             }
            },
            "header": {
             "fill": {
              "color": "#2a3f5f"
             },
             "line": {
              "color": "rgb(17,17,17)"
             }
            },
            "type": "table"
           }
          ]
         },
         "layout": {
          "annotationdefaults": {
           "arrowcolor": "#f2f5fa",
           "arrowhead": 0,
           "arrowwidth": 1
          },
          "autotypenumbers": "strict",
          "coloraxis": {
           "colorbar": {
            "outlinewidth": 0,
            "ticks": ""
           }
          },
          "colorscale": {
           "diverging": [
            [
             0,
             "#8e0152"
            ],
            [
             0.1,
             "#c51b7d"
            ],
            [
             0.2,
             "#de77ae"
            ],
            [
             0.3,
             "#f1b6da"
            ],
            [
             0.4,
             "#fde0ef"
            ],
            [
             0.5,
             "#f7f7f7"
            ],
            [
             0.6,
             "#e6f5d0"
            ],
            [
             0.7,
             "#b8e186"
            ],
            [
             0.8,
             "#7fbc41"
            ],
            [
             0.9,
             "#4d9221"
            ],
            [
             1,
             "#276419"
            ]
           ],
           "sequential": [
            [
             0,
             "#0d0887"
            ],
            [
             0.1111111111111111,
             "#46039f"
            ],
            [
             0.2222222222222222,
             "#7201a8"
            ],
            [
             0.3333333333333333,
             "#9c179e"
            ],
            [
             0.4444444444444444,
             "#bd3786"
            ],
            [
             0.5555555555555556,
             "#d8576b"
            ],
            [
             0.6666666666666666,
             "#ed7953"
            ],
            [
             0.7777777777777778,
             "#fb9f3a"
            ],
            [
             0.8888888888888888,
             "#fdca26"
            ],
            [
             1,
             "#f0f921"
            ]
           ],
           "sequentialminus": [
            [
             0,
             "#0d0887"
            ],
            [
             0.1111111111111111,
             "#46039f"
            ],
            [
             0.2222222222222222,
             "#7201a8"
            ],
            [
             0.3333333333333333,
             "#9c179e"
            ],
            [
             0.4444444444444444,
             "#bd3786"
            ],
            [
             0.5555555555555556,
             "#d8576b"
            ],
            [
             0.6666666666666666,
             "#ed7953"
            ],
            [
             0.7777777777777778,
             "#fb9f3a"
            ],
            [
             0.8888888888888888,
             "#fdca26"
            ],
            [
             1,
             "#f0f921"
            ]
           ]
          },
          "colorway": [
           "#636efa",
           "#EF553B",
           "#00cc96",
           "#ab63fa",
           "#FFA15A",
           "#19d3f3",
           "#FF6692",
           "#B6E880",
           "#FF97FF",
           "#FECB52"
          ],
          "font": {
           "color": "#f2f5fa"
          },
          "geo": {
           "bgcolor": "rgb(17,17,17)",
           "lakecolor": "rgb(17,17,17)",
           "landcolor": "rgb(17,17,17)",
           "showlakes": true,
           "showland": true,
           "subunitcolor": "#506784"
          },
          "hoverlabel": {
           "align": "left"
          },
          "hovermode": "closest",
          "mapbox": {
           "style": "dark"
          },
          "paper_bgcolor": "rgb(17,17,17)",
          "plot_bgcolor": "rgb(17,17,17)",
          "polar": {
           "angularaxis": {
            "gridcolor": "#506784",
            "linecolor": "#506784",
            "ticks": ""
           },
           "bgcolor": "rgb(17,17,17)",
           "radialaxis": {
            "gridcolor": "#506784",
            "linecolor": "#506784",
            "ticks": ""
           }
          },
          "scene": {
           "xaxis": {
            "backgroundcolor": "rgb(17,17,17)",
            "gridcolor": "#506784",
            "gridwidth": 2,
            "linecolor": "#506784",
            "showbackground": true,
            "ticks": "",
            "zerolinecolor": "#C8D4E3"
           },
           "yaxis": {
            "backgroundcolor": "rgb(17,17,17)",
            "gridcolor": "#506784",
            "gridwidth": 2,
            "linecolor": "#506784",
            "showbackground": true,
            "ticks": "",
            "zerolinecolor": "#C8D4E3"
           },
           "zaxis": {
            "backgroundcolor": "rgb(17,17,17)",
            "gridcolor": "#506784",
            "gridwidth": 2,
            "linecolor": "#506784",
            "showbackground": true,
            "ticks": "",
            "zerolinecolor": "#C8D4E3"
           }
          },
          "shapedefaults": {
           "line": {
            "color": "#f2f5fa"
           }
          },
          "sliderdefaults": {
           "bgcolor": "#C8D4E3",
           "bordercolor": "rgb(17,17,17)",
           "borderwidth": 1,
           "tickwidth": 0
          },
          "ternary": {
           "aaxis": {
            "gridcolor": "#506784",
            "linecolor": "#506784",
            "ticks": ""
           },
           "baxis": {
            "gridcolor": "#506784",
            "linecolor": "#506784",
            "ticks": ""
           },
           "bgcolor": "rgb(17,17,17)",
           "caxis": {
            "gridcolor": "#506784",
            "linecolor": "#506784",
            "ticks": ""
           }
          },
          "title": {
           "x": 0.05
          },
          "updatemenudefaults": {
           "bgcolor": "#506784",
           "borderwidth": 0
          },
          "xaxis": {
           "automargin": true,
           "gridcolor": "#283442",
           "linecolor": "#506784",
           "ticks": "",
           "title": {
            "standoff": 15
           },
           "zerolinecolor": "#283442",
           "zerolinewidth": 2
          },
          "yaxis": {
           "automargin": true,
           "gridcolor": "#283442",
           "linecolor": "#506784",
           "ticks": "",
           "title": {
            "standoff": 15
           },
           "zerolinecolor": "#283442",
           "zerolinewidth": 2
          }
         }
        },
        "title": {
         "text": "Overview: Salary and Job Postings Trends"
        },
        "width": 1000,
        "xaxis": {
         "anchor": "y",
         "autorange": true,
         "domain": [
          0,
          0.45
         ],
         "matches": "x3",
         "range": [
          2019.7210537063509,
          2024.2789462936491
         ],
         "showticklabels": false,
         "type": "linear"
        },
        "xaxis2": {
         "anchor": "y2",
         "autorange": true,
         "domain": [
          0.55,
          1
         ],
         "matches": "x4",
         "range": [
          2019.7210537063509,
          2024.2789462936491
         ],
         "showticklabels": false,
         "type": "linear"
        },
        "xaxis3": {
         "anchor": "y3",
         "autorange": true,
         "domain": [
          0,
          0.45
         ],
         "range": [
          2019.7210537063509,
          2024.2789462936491
         ],
         "type": "linear"
        },
        "xaxis4": {
         "anchor": "y4",
         "autorange": true,
         "domain": [
          0.55,
          1
         ],
         "range": [
          2019.7210537063509,
          2024.2789462936491
         ],
         "type": "linear"
        },
        "yaxis": {
         "anchor": "x",
         "autorange": true,
         "domain": [
          0.625,
          1
         ],
         "range": [
          85424.71263981525,
          154993.1841027716
         ],
         "type": "linear"
        },
        "yaxis2": {
         "anchor": "x2",
         "autorange": true,
         "domain": [
          0.625,
          1
         ],
         "range": [
          59432.82155206008,
          189207.06474855
         ],
         "type": "linear"
        },
        "yaxis3": {
         "anchor": "x3",
         "autorange": true,
         "domain": [
          0,
          0.375
         ],
         "range": [
          -561.5947955390335,
          9019.594795539033
         ],
         "type": "linear"
        },
        "yaxis4": {
         "anchor": "x4",
         "autorange": true,
         "domain": [
          0,
          0.375
         ],
         "range": [
          -210.9368029739777,
          3114.9368029739776
         ],
         "type": "linear"
        }
       }
      },
      "image/png": "[encoded data removed]"
     },
     "metadata": {},
     "output_type": "display_data"
    }
   ],
   "source": [
    "# 1st Chart: Salary Trends Over Time\n",
    "salary_trends = dfSalaries.groupby(['work_year'])['salary_in_usd'].mean().reset_index()\n",
    "fig1 = px.line(\n",
    "    salary_trends, x='work_year', y='salary_in_usd',\n",
    "    title='Salary Trends Over Time',\n",
    "    markers=True, template='plotly_dark'\n",
    ")\n",
    "\n",
    "fig1.update_xaxes(tickvals=salary_trends['work_year'].unique(), tickformat='%Y')\n",
    "\n",
    "# 2nd Chart: Salary Trends Over Time by Job Category\n",
    "salary_trends_by_category = dfSalaries.groupby(['work_year', 'job_category'])['salary_in_usd'].mean().reset_index()\n",
    "fig2 = px.line(\n",
    "    salary_trends_by_category, x='work_year', y='salary_in_usd',\n",
    "    color='job_category', title='Salary Trends Over Time by Job Category',\n",
    "    markers=True, template='plotly_dark'\n",
    ")\n",
    "\n",
    "fig2.update_xaxes(tickvals=salary_trends_by_category['work_year'].unique(), tickformat='%Y')\n",
    "\n",
    "# 3rd Chart: Job Postings Over Time\n",
    "job_postings_over_time = dfSalaries.groupby(['work_year'])['job_category'].count().reset_index(name='count')\n",
    "fig3 = px.line(\n",
    "    job_postings_over_time, x='work_year', y='count',\n",
    "    title='Job Postings Over Time',\n",
    "    markers=True, template='plotly_dark'\n",
    ")\n",
    "\n",
    "fig3.update_xaxes(tickvals=job_postings_over_time['work_year'].unique(), tickformat='%Y')\n",
    "\n",
    "# 4th Chart: Job Postings Over Time by Job Category\n",
    "job_postings_by_category = dfSalaries.groupby(['work_year', 'job_category']).size().reset_index(name='count')\n",
    "fig4 = px.line(\n",
    "    job_postings_by_category, x='work_year', y='count',\n",
    "    color='job_category', title='Job Postings Over Time by Job Category',\n",
    "    markers=True, template='plotly_dark'\n",
    ")\n",
    "\n",
    "fig4.update_xaxes(tickvals=job_postings_by_category['work_year'].unique(), tickformat='%Y')\n",
    "\n",
    "fig = make_subplots(\n",
    "    rows=2, cols=2, \n",
    "    subplot_titles=(\n",
    "        'Salary Trends Over Time', 'Salary Trends by Job Category',\n",
    "        'Job Postings Over Time', 'Job Postings by Job Category'\n",
    "    ),  \n",
    "    shared_xaxes=True,  \n",
    "    shared_yaxes=False \n",
    ")\n",
    "\n",
    "# Add chart data to the subplots\n",
    "for trace in fig1.data:\n",
    "    fig.add_trace(trace, row=1, col=1)\n",
    "\n",
    "for trace in fig2.data:\n",
    "    fig.add_trace(trace, row=1, col=2)\n",
    "\n",
    "for trace in fig3.data:\n",
    "    fig.add_trace(trace, row=2, col=1)\n",
    "\n",
    "for trace in fig4.data:\n",
    "    fig.add_trace(trace, row=2, col=2)\n",
    "\n",
    "# General layout settings\n",
    "fig.update_layout(\n",
    "    title='Overview: Salary and Job Postings Trends', \n",
    "    width=1000, height=800,  \n",
    "    legend_title_text=None,  \n",
    "    font=dict(size=17, family='Franklin Gothic'),  \n",
    "    template='plotly_dark', \n",
    "    plot_bgcolor='#000000', paper_bgcolor='#000000', \n",
    ")\n",
    "\n",
    "# Display the chart\n",
    "fig.show()"
   ]
  },
  {
   "cell_type": "code",
   "execution_count": 114,
   "id": "26a49aef-6f28-4ab9-a8fd-075d15c53e9c",
   "metadata": {},
   "outputs": [
    {
     "data": {
      "application/vnd.plotly.v1+json": {
       "config": {
        "plotlyServerURL": "https://plot.ly"
       },
       "data": [
        {
         "alignmentgroup": "True",
         "hovertemplate": "job_posting_count=%{text}<br>job_category=%{y}<br>avg_salary=%{marker.color}<extra></extra>",
         "legendgroup": "",
         "marker": {
          "color": [
           115086.54801610121,
           144691.3503593429,
           154650.51636933934,
           174686.02341137125
          ],
          "coloraxis": "coloraxis",
          "pattern": {
           "shape": ""
          }
         },
         "name": "",
         "offsetgroup": "",
         "orientation": "h",
         "showlegend": false,
         "text": [
          3478,
          3896,
          5101,
          2093
         ],
         "textfont": {
          "size": 14
         },
         "textposition": "outside",
         "texttemplate": "%{text}",
         "type": "bar",
         "x": [
          3478,
          3896,
          5101,
          2093
         ],
         "xaxis": "x",
         "y": [
          "Data Analyst",
          "Data Engineer",
          "Data Scientist",
          "ML Engineer"
         ],
         "yaxis": "y"
        }
       ],
       "layout": {
        "barmode": "relative",
        "coloraxis": {
         "colorbar": {
          "title": {
           "text": "avg_salary"
          }
         },
         "colorscale": [
          [
           0,
           "rgb(247,251,255)"
          ],
          [
           0.125,
           "rgb(222,235,247)"
          ],
          [
           0.25,
           "rgb(198,219,239)"
          ],
          [
           0.375,
           "rgb(158,202,225)"
          ],
          [
           0.5,
           "rgb(107,174,214)"
          ],
          [
           0.625,
           "rgb(66,146,198)"
          ],
          [
           0.75,
           "rgb(33,113,181)"
          ],
          [
           0.875,
           "rgb(8,81,156)"
          ],
          [
           1,
           "rgb(8,48,107)"
          ]
         ]
        },
        "height": 600,
        "legend": {
         "tracegroupgap": 0
        },
        "template": {
         "data": {
          "bar": [
           {
            "error_x": {
             "color": "#f2f5fa"
            },
            "error_y": {
             "color": "#f2f5fa"
            },
            "marker": {
             "line": {
              "color": "rgb(17,17,17)",
              "width": 0.5
             },
             "pattern": {
              "fillmode": "overlay",
              "size": 10,
              "solidity": 0.2
             }
            },
            "type": "bar"
           }
          ],
          "barpolar": [
           {
            "marker": {
             "line": {
              "color": "rgb(17,17,17)",
              "width": 0.5
             },
             "pattern": {
              "fillmode": "overlay",
              "size": 10,
              "solidity": 0.2
             }
            },
            "type": "barpolar"
           }
          ],
          "carpet": [
           {
            "aaxis": {
             "endlinecolor": "#A2B1C6",
             "gridcolor": "#506784",
             "linecolor": "#506784",
             "minorgridcolor": "#506784",
             "startlinecolor": "#A2B1C6"
            },
            "baxis": {
             "endlinecolor": "#A2B1C6",
             "gridcolor": "#506784",
             "linecolor": "#506784",
             "minorgridcolor": "#506784",
             "startlinecolor": "#A2B1C6"
            },
            "type": "carpet"
           }
          ],
          "choropleth": [
           {
            "colorbar": {
             "outlinewidth": 0,
             "ticks": ""
            },
            "type": "choropleth"
           }
          ],
          "contour": [
           {
            "colorbar": {
             "outlinewidth": 0,
             "ticks": ""
            },
            "colorscale": [
             [
              0,
              "#0d0887"
             ],
             [
              0.1111111111111111,
              "#46039f"
             ],
             [
              0.2222222222222222,
              "#7201a8"
             ],
             [
              0.3333333333333333,
              "#9c179e"
             ],
             [
              0.4444444444444444,
              "#bd3786"
             ],
             [
              0.5555555555555556,
              "#d8576b"
             ],
             [
              0.6666666666666666,
              "#ed7953"
             ],
             [
              0.7777777777777778,
              "#fb9f3a"
             ],
             [
              0.8888888888888888,
              "#fdca26"
             ],
             [
              1,
              "#f0f921"
             ]
            ],
            "type": "contour"
           }
          ],
          "contourcarpet": [
           {
            "colorbar": {
             "outlinewidth": 0,
             "ticks": ""
            },
            "type": "contourcarpet"
           }
          ],
          "heatmap": [
           {
            "colorbar": {
             "outlinewidth": 0,
             "ticks": ""
            },
            "colorscale": [
             [
              0,
              "#0d0887"
             ],
             [
              0.1111111111111111,
              "#46039f"
             ],
             [
              0.2222222222222222,
              "#7201a8"
             ],
             [
              0.3333333333333333,
              "#9c179e"
             ],
             [
              0.4444444444444444,
              "#bd3786"
             ],
             [
              0.5555555555555556,
              "#d8576b"
             ],
             [
              0.6666666666666666,
              "#ed7953"
             ],
             [
              0.7777777777777778,
              "#fb9f3a"
             ],
             [
              0.8888888888888888,
              "#fdca26"
             ],
             [
              1,
              "#f0f921"
             ]
            ],
            "type": "heatmap"
           }
          ],
          "heatmapgl": [
           {
            "colorbar": {
             "outlinewidth": 0,
             "ticks": ""
            },
            "colorscale": [
             [
              0,
              "#0d0887"
             ],
             [
              0.1111111111111111,
              "#46039f"
             ],
             [
              0.2222222222222222,
              "#7201a8"
             ],
             [
              0.3333333333333333,
              "#9c179e"
             ],
             [
              0.4444444444444444,
              "#bd3786"
             ],
             [
              0.5555555555555556,
              "#d8576b"
             ],
             [
              0.6666666666666666,
              "#ed7953"
             ],
             [
              0.7777777777777778,
              "#fb9f3a"
             ],
             [
              0.8888888888888888,
              "#fdca26"
             ],
             [
              1,
              "#f0f921"
             ]
            ],
            "type": "heatmapgl"
           }
          ],
          "histogram": [
           {
            "marker": {
             "pattern": {
              "fillmode": "overlay",
              "size": 10,
              "solidity": 0.2
             }
            },
            "type": "histogram"
           }
          ],
          "histogram2d": [
           {
            "colorbar": {
             "outlinewidth": 0,
             "ticks": ""
            },
            "colorscale": [
             [
              0,
              "#0d0887"
             ],
             [
              0.1111111111111111,
              "#46039f"
             ],
             [
              0.2222222222222222,
              "#7201a8"
             ],
             [
              0.3333333333333333,
              "#9c179e"
             ],
             [
              0.4444444444444444,
              "#bd3786"
             ],
             [
              0.5555555555555556,
              "#d8576b"
             ],
             [
              0.6666666666666666,
              "#ed7953"
             ],
             [
              0.7777777777777778,
              "#fb9f3a"
             ],
             [
              0.8888888888888888,
              "#fdca26"
             ],
             [
              1,
              "#f0f921"
             ]
            ],
            "type": "histogram2d"
           }
          ],
          "histogram2dcontour": [
           {
            "colorbar": {
             "outlinewidth": 0,
             "ticks": ""
            },
            "colorscale": [
             [
              0,
              "#0d0887"
             ],
             [
              0.1111111111111111,
              "#46039f"
             ],
             [
              0.2222222222222222,
              "#7201a8"
             ],
             [
              0.3333333333333333,
              "#9c179e"
             ],
             [
              0.4444444444444444,
              "#bd3786"
             ],
             [
              0.5555555555555556,
              "#d8576b"
             ],
             [
              0.6666666666666666,
              "#ed7953"
             ],
             [
              0.7777777777777778,
              "#fb9f3a"
             ],
             [
              0.8888888888888888,
              "#fdca26"
             ],
             [
              1,
              "#f0f921"
             ]
            ],
            "type": "histogram2dcontour"
           }
          ],
          "mesh3d": [
           {
            "colorbar": {
             "outlinewidth": 0,
             "ticks": ""
            },
            "type": "mesh3d"
           }
          ],
          "parcoords": [
           {
            "line": {
             "colorbar": {
              "outlinewidth": 0,
              "ticks": ""
             }
            },
            "type": "parcoords"
           }
          ],
          "pie": [
           {
            "automargin": true,
            "type": "pie"
           }
          ],
          "scatter": [
           {
            "marker": {
             "line": {
              "color": "#283442"
             }
            },
            "type": "scatter"
           }
          ],
          "scatter3d": [
           {
            "line": {
             "colorbar": {
              "outlinewidth": 0,
              "ticks": ""
             }
            },
            "marker": {
             "colorbar": {
              "outlinewidth": 0,
              "ticks": ""
             }
            },
            "type": "scatter3d"
           }
          ],
          "scattercarpet": [
           {
            "marker": {
             "colorbar": {
              "outlinewidth": 0,
              "ticks": ""
             }
            },
            "type": "scattercarpet"
           }
          ],
          "scattergeo": [
           {
            "marker": {
             "colorbar": {
              "outlinewidth": 0,
              "ticks": ""
             }
            },
            "type": "scattergeo"
           }
          ],
          "scattergl": [
           {
            "marker": {
             "line": {
              "color": "#283442"
             }
            },
            "type": "scattergl"
           }
          ],
          "scattermapbox": [
           {
            "marker": {
             "colorbar": {
              "outlinewidth": 0,
              "ticks": ""
             }
            },
            "type": "scattermapbox"
           }
          ],
          "scatterpolar": [
           {
            "marker": {
             "colorbar": {
              "outlinewidth": 0,
              "ticks": ""
             }
            },
            "type": "scatterpolar"
           }
          ],
          "scatterpolargl": [
           {
            "marker": {
             "colorbar": {
              "outlinewidth": 0,
              "ticks": ""
             }
            },
            "type": "scatterpolargl"
           }
          ],
          "scatterternary": [
           {
            "marker": {
             "colorbar": {
              "outlinewidth": 0,
              "ticks": ""
             }
            },
            "type": "scatterternary"
           }
          ],
          "surface": [
           {
            "colorbar": {
             "outlinewidth": 0,
             "ticks": ""
            },
            "colorscale": [
             [
              0,
              "#0d0887"
             ],
             [
              0.1111111111111111,
              "#46039f"
             ],
             [
              0.2222222222222222,
              "#7201a8"
             ],
             [
              0.3333333333333333,
              "#9c179e"
             ],
             [
              0.4444444444444444,
              "#bd3786"
             ],
             [
              0.5555555555555556,
              "#d8576b"
             ],
             [
              0.6666666666666666,
              "#ed7953"
             ],
             [
              0.7777777777777778,
              "#fb9f3a"
             ],
             [
              0.8888888888888888,
              "#fdca26"
             ],
             [
              1,
              "#f0f921"
             ]
            ],
            "type": "surface"
           }
          ],
          "table": [
           {
            "cells": {
             "fill": {
              "color": "#506784"
             },
             "line": {
              "color": "rgb(17,17,17)"
             }
            },
            "header": {
             "fill": {
              "color": "#2a3f5f"
             },
             "line": {
              "color": "rgb(17,17,17)"
             }
            },
            "type": "table"
           }
          ]
         },
         "layout": {
          "annotationdefaults": {
           "arrowcolor": "#f2f5fa",
           "arrowhead": 0,
           "arrowwidth": 1
          },
          "autotypenumbers": "strict",
          "coloraxis": {
           "colorbar": {
            "outlinewidth": 0,
            "ticks": ""
           }
          },
          "colorscale": {
           "diverging": [
            [
             0,
             "#8e0152"
            ],
            [
             0.1,
             "#c51b7d"
            ],
            [
             0.2,
             "#de77ae"
            ],
            [
             0.3,
             "#f1b6da"
            ],
            [
             0.4,
             "#fde0ef"
            ],
            [
             0.5,
             "#f7f7f7"
            ],
            [
             0.6,
             "#e6f5d0"
            ],
            [
             0.7,
             "#b8e186"
            ],
            [
             0.8,
             "#7fbc41"
            ],
            [
             0.9,
             "#4d9221"
            ],
            [
             1,
             "#276419"
            ]
           ],
           "sequential": [
            [
             0,
             "#0d0887"
            ],
            [
             0.1111111111111111,
             "#46039f"
            ],
            [
             0.2222222222222222,
             "#7201a8"
            ],
            [
             0.3333333333333333,
             "#9c179e"
            ],
            [
             0.4444444444444444,
             "#bd3786"
            ],
            [
             0.5555555555555556,
             "#d8576b"
            ],
            [
             0.6666666666666666,
             "#ed7953"
            ],
            [
             0.7777777777777778,
             "#fb9f3a"
            ],
            [
             0.8888888888888888,
             "#fdca26"
            ],
            [
             1,
             "#f0f921"
            ]
           ],
           "sequentialminus": [
            [
             0,
             "#0d0887"
            ],
            [
             0.1111111111111111,
             "#46039f"
            ],
            [
             0.2222222222222222,
             "#7201a8"
            ],
            [
             0.3333333333333333,
             "#9c179e"
            ],
            [
             0.4444444444444444,
             "#bd3786"
            ],
            [
             0.5555555555555556,
             "#d8576b"
            ],
            [
             0.6666666666666666,
             "#ed7953"
            ],
            [
             0.7777777777777778,
             "#fb9f3a"
            ],
            [
             0.8888888888888888,
             "#fdca26"
            ],
            [
             1,
             "#f0f921"
            ]
           ]
          },
          "colorway": [
           "#636efa",
           "#EF553B",
           "#00cc96",
           "#ab63fa",
           "#FFA15A",
           "#19d3f3",
           "#FF6692",
           "#B6E880",
           "#FF97FF",
           "#FECB52"
          ],
          "font": {
           "color": "#f2f5fa"
          },
          "geo": {
           "bgcolor": "rgb(17,17,17)",
           "lakecolor": "rgb(17,17,17)",
           "landcolor": "rgb(17,17,17)",
           "showlakes": true,
           "showland": true,
           "subunitcolor": "#506784"
          },
          "hoverlabel": {
           "align": "left"
          },
          "hovermode": "closest",
          "mapbox": {
           "style": "dark"
          },
          "paper_bgcolor": "rgb(17,17,17)",
          "plot_bgcolor": "rgb(17,17,17)",
          "polar": {
           "angularaxis": {
            "gridcolor": "#506784",
            "linecolor": "#506784",
            "ticks": ""
           },
           "bgcolor": "rgb(17,17,17)",
           "radialaxis": {
            "gridcolor": "#506784",
            "linecolor": "#506784",
            "ticks": ""
           }
          },
          "scene": {
           "xaxis": {
            "backgroundcolor": "rgb(17,17,17)",
            "gridcolor": "#506784",
            "gridwidth": 2,
            "linecolor": "#506784",
            "showbackground": true,
            "ticks": "",
            "zerolinecolor": "#C8D4E3"
           },
           "yaxis": {
            "backgroundcolor": "rgb(17,17,17)",
            "gridcolor": "#506784",
            "gridwidth": 2,
            "linecolor": "#506784",
            "showbackground": true,
            "ticks": "",
            "zerolinecolor": "#C8D4E3"
           },
           "zaxis": {
            "backgroundcolor": "rgb(17,17,17)",
            "gridcolor": "#506784",
            "gridwidth": 2,
            "linecolor": "#506784",
            "showbackground": true,
            "ticks": "",
            "zerolinecolor": "#C8D4E3"
           }
          },
          "shapedefaults": {
           "line": {
            "color": "#f2f5fa"
           }
          },
          "sliderdefaults": {
           "bgcolor": "#C8D4E3",
           "bordercolor": "rgb(17,17,17)",
           "borderwidth": 1,
           "tickwidth": 0
          },
          "ternary": {
           "aaxis": {
            "gridcolor": "#506784",
            "linecolor": "#506784",
            "ticks": ""
           },
           "baxis": {
            "gridcolor": "#506784",
            "linecolor": "#506784",
            "ticks": ""
           },
           "bgcolor": "rgb(17,17,17)",
           "caxis": {
            "gridcolor": "#506784",
            "linecolor": "#506784",
            "ticks": ""
           }
          },
          "title": {
           "x": 0.05
          },
          "updatemenudefaults": {
           "bgcolor": "#506784",
           "borderwidth": 0
          },
          "xaxis": {
           "automargin": true,
           "gridcolor": "#283442",
           "linecolor": "#506784",
           "ticks": "",
           "title": {
            "standoff": 15
           },
           "zerolinecolor": "#283442",
           "zerolinewidth": 2
          },
          "yaxis": {
           "automargin": true,
           "gridcolor": "#283442",
           "linecolor": "#506784",
           "ticks": "",
           "title": {
            "standoff": 15
           },
           "zerolinecolor": "#283442",
           "zerolinewidth": 2
          }
         }
        },
        "title": {
         "font": {
          "size": 24
         },
         "text": "Job Comparison by Job Category",
         "x": 0.5
        },
        "width": 1000,
        "xaxis": {
         "anchor": "y",
         "autorange": true,
         "domain": [
          0,
          1
         ],
         "range": [
          0,
          5369.473684210527
         ],
         "title": {
          "text": "Job Count"
         },
         "type": "linear"
        },
        "yaxis": {
         "anchor": "x",
         "autorange": true,
         "domain": [
          0,
          1
         ],
         "range": [
          -0.5,
          3.5
         ],
         "title": {
          "text": "Job Category"
         },
         "type": "category"
        }
       }
      },
      "image/png": "[encoded data removed]"
     },
     "metadata": {},
     "output_type": "display_data"
    }
   ],
   "source": [
    "# Prepare the data: Group by job category and calculate the number of postings and average salary\n",
    "job_postings_and_salary = (\n",
    "    dfSalaries.groupby('job_category')\n",
    "    .agg(\n",
    "        job_posting_count=('job_category', 'size'),\n",
    "        avg_salary=('salary_in_usd', 'mean')\n",
    "    )\n",
    "    .reset_index()\n",
    ")\n",
    "\n",
    "# Create the bar chart\n",
    "fig = px.bar(\n",
    "    job_postings_and_salary,\n",
    "    x='job_posting_count', \n",
    "    y='job_category', \n",
    "    color='avg_salary', \n",
    "    color_continuous_scale='Blues',\n",
    "    title='Job Comparison by Job Category', \n",
    "    text='job_posting_count', \n",
    "    width=1000, height=600,\n",
    "    template='plotly_dark'\n",
    ")\n",
    "\n",
    "# Layout settings: Background and axis titles\n",
    "fig.update_layout(\n",
    "    xaxis_title='Job Count',  \n",
    "    yaxis_title='Job Category', \n",
    "    title={'x': 0.5, 'font_size': 24}\n",
    ")\n",
    "\n",
    "# Adjust text size and position on bars\n",
    "fig.update_traces(\n",
    "    texttemplate='%{text}',  \n",
    "    textposition='outside', \n",
    "    textfont_size=14  \n",
    ")\n",
    "\n",
    "# Display the chart\n",
    "fig.show()"
   ]
  },
  {
   "cell_type": "code",
   "execution_count": 105,
   "id": "74ee9d19-2a18-4b15-a507-20d198d0ac19",
   "metadata": {},
   "outputs": [
    {
     "data": {
      "application/vnd.plotly.v1+json": {
       "config": {
        "plotlyServerURL": "https://plot.ly"
       },
       "data": [
        {
         "alignmentgroup": "True",
         "hovertemplate": "employment_model=Hybrid<br>Job Category=%{x}<br>Number of Jobs=%{y}<extra></extra>",
         "legendgroup": "Hybrid",
         "marker": {
          "color": "#636efa",
          "pattern": {
           "shape": ""
          }
         },
         "name": "Hybrid",
         "offsetgroup": "Hybrid",
         "orientation": "v",
         "showlegend": true,
         "textfont": {
          "size": 14
         },
         "textposition": "outside",
         "texttemplate": "%{y}",
         "type": "bar",
         "visible": true,
         "x": [
          "Data Analyst",
          "Data Engineer",
          "Data Scientist",
          "ML Engineer"
         ],
         "xaxis": "x",
         "y": [
          42,
          36,
          100,
          53
         ],
         "yaxis": "y"
        },
        {
         "alignmentgroup": "True",
         "hovertemplate": "employment_model=In-Person<br>Job Category=%{x}<br>Number of Jobs=%{y}<extra></extra>",
         "legendgroup": "In-Person",
         "marker": {
          "color": "#EF553B",
          "pattern": {
           "shape": ""
          }
         },
         "name": "In-Person",
         "offsetgroup": "In-Person",
         "orientation": "v",
         "showlegend": true,
         "textfont": {
          "size": 14
         },
         "textposition": "outside",
         "texttemplate": "%{y}",
         "type": "bar",
         "x": [
          "Data Analyst",
          "Data Engineer",
          "Data Scientist",
          "ML Engineer"
         ],
         "xaxis": "x",
         "y": [
          2192,
          2526,
          3492,
          1408
         ],
         "yaxis": "y"
        },
        {
         "alignmentgroup": "True",
         "hovertemplate": "employment_model=Remote<br>Job Category=%{x}<br>Number of Jobs=%{y}<extra></extra>",
         "legendgroup": "Remote",
         "marker": {
          "color": "#00cc96",
          "pattern": {
           "shape": ""
          }
         },
         "name": "Remote",
         "offsetgroup": "Remote",
         "orientation": "v",
         "showlegend": true,
         "textfont": {
          "size": 14
         },
         "textposition": "outside",
         "texttemplate": "%{y}",
         "type": "bar",
         "x": [
          "Data Analyst",
          "Data Engineer",
          "Data Scientist",
          "ML Engineer"
         ],
         "xaxis": "x",
         "y": [
          1225,
          1324,
          1489,
          617
         ],
         "yaxis": "y"
        }
       ],
       "layout": {
        "barmode": "group",
        "height": 800,
        "legend": {
         "title": {
          "text": "Work Model"
         },
         "tracegroupgap": 0
        },
        "margin": {
         "b": 100,
         "l": 50,
         "r": 50,
         "t": 50
        },
        "template": {
         "data": {
          "bar": [
           {
            "error_x": {
             "color": "#f2f5fa"
            },
            "error_y": {
             "color": "#f2f5fa"
            },
            "marker": {
             "line": {
              "color": "rgb(17,17,17)",
              "width": 0.5
             },
             "pattern": {
              "fillmode": "overlay",
              "size": 10,
              "solidity": 0.2
             }
            },
            "type": "bar"
           }
          ],
          "barpolar": [
           {
            "marker": {
             "line": {
              "color": "rgb(17,17,17)",
              "width": 0.5
             },
             "pattern": {
              "fillmode": "overlay",
              "size": 10,
              "solidity": 0.2
             }
            },
            "type": "barpolar"
           }
          ],
          "carpet": [
           {
            "aaxis": {
             "endlinecolor": "#A2B1C6",
             "gridcolor": "#506784",
             "linecolor": "#506784",
             "minorgridcolor": "#506784",
             "startlinecolor": "#A2B1C6"
            },
            "baxis": {
             "endlinecolor": "#A2B1C6",
             "gridcolor": "#506784",
             "linecolor": "#506784",
             "minorgridcolor": "#506784",
             "startlinecolor": "#A2B1C6"
            },
            "type": "carpet"
           }
          ],
          "choropleth": [
           {
            "colorbar": {
             "outlinewidth": 0,
             "ticks": ""
            },
            "type": "choropleth"
           }
          ],
          "contour": [
           {
            "colorbar": {
             "outlinewidth": 0,
             "ticks": ""
            },
            "colorscale": [
             [
              0,
              "#0d0887"
             ],
             [
              0.1111111111111111,
              "#46039f"
             ],
             [
              0.2222222222222222,
              "#7201a8"
             ],
             [
              0.3333333333333333,
              "#9c179e"
             ],
             [
              0.4444444444444444,
              "#bd3786"
             ],
             [
              0.5555555555555556,
              "#d8576b"
             ],
             [
              0.6666666666666666,
              "#ed7953"
             ],
             [
              0.7777777777777778,
              "#fb9f3a"
             ],
             [
              0.8888888888888888,
              "#fdca26"
             ],
             [
              1,
              "#f0f921"
             ]
            ],
            "type": "contour"
           }
          ],
          "contourcarpet": [
           {
            "colorbar": {
             "outlinewidth": 0,
             "ticks": ""
            },
            "type": "contourcarpet"
           }
          ],
          "heatmap": [
           {
            "colorbar": {
             "outlinewidth": 0,
             "ticks": ""
            },
            "colorscale": [
             [
              0,
              "#0d0887"
             ],
             [
              0.1111111111111111,
              "#46039f"
             ],
             [
              0.2222222222222222,
              "#7201a8"
             ],
             [
              0.3333333333333333,
              "#9c179e"
             ],
             [
              0.4444444444444444,
              "#bd3786"
             ],
             [
              0.5555555555555556,
              "#d8576b"
             ],
             [
              0.6666666666666666,
              "#ed7953"
             ],
             [
              0.7777777777777778,
              "#fb9f3a"
             ],
             [
              0.8888888888888888,
              "#fdca26"
             ],
             [
              1,
              "#f0f921"
             ]
            ],
            "type": "heatmap"
           }
          ],
          "heatmapgl": [
           {
            "colorbar": {
             "outlinewidth": 0,
             "ticks": ""
            },
            "colorscale": [
             [
              0,
              "#0d0887"
             ],
             [
              0.1111111111111111,
              "#46039f"
             ],
             [
              0.2222222222222222,
              "#7201a8"
             ],
             [
              0.3333333333333333,
              "#9c179e"
             ],
             [
              0.4444444444444444,
              "#bd3786"
             ],
             [
              0.5555555555555556,
              "#d8576b"
             ],
             [
              0.6666666666666666,
              "#ed7953"
             ],
             [
              0.7777777777777778,
              "#fb9f3a"
             ],
             [
              0.8888888888888888,
              "#fdca26"
             ],
             [
              1,
              "#f0f921"
             ]
            ],
            "type": "heatmapgl"
           }
          ],
          "histogram": [
           {
            "marker": {
             "pattern": {
              "fillmode": "overlay",
              "size": 10,
              "solidity": 0.2
             }
            },
            "type": "histogram"
           }
          ],
          "histogram2d": [
           {
            "colorbar": {
             "outlinewidth": 0,
             "ticks": ""
            },
            "colorscale": [
             [
              0,
              "#0d0887"
             ],
             [
              0.1111111111111111,
              "#46039f"
             ],
             [
              0.2222222222222222,
              "#7201a8"
             ],
             [
              0.3333333333333333,
              "#9c179e"
             ],
             [
              0.4444444444444444,
              "#bd3786"
             ],
             [
              0.5555555555555556,
              "#d8576b"
             ],
             [
              0.6666666666666666,
              "#ed7953"
             ],
             [
              0.7777777777777778,
              "#fb9f3a"
             ],
             [
              0.8888888888888888,
              "#fdca26"
             ],
             [
              1,
              "#f0f921"
             ]
            ],
            "type": "histogram2d"
           }
          ],
          "histogram2dcontour": [
           {
            "colorbar": {
             "outlinewidth": 0,
             "ticks": ""
            },
            "colorscale": [
             [
              0,
              "#0d0887"
             ],
             [
              0.1111111111111111,
              "#46039f"
             ],
             [
              0.2222222222222222,
              "#7201a8"
             ],
             [
              0.3333333333333333,
              "#9c179e"
             ],
             [
              0.4444444444444444,
              "#bd3786"
             ],
             [
              0.5555555555555556,
              "#d8576b"
             ],
             [
              0.6666666666666666,
              "#ed7953"
             ],
             [
              0.7777777777777778,
              "#fb9f3a"
             ],
             [
              0.8888888888888888,
              "#fdca26"
             ],
             [
              1,
              "#f0f921"
             ]
            ],
            "type": "histogram2dcontour"
           }
          ],
          "mesh3d": [
           {
            "colorbar": {
             "outlinewidth": 0,
             "ticks": ""
            },
            "type": "mesh3d"
           }
          ],
          "parcoords": [
           {
            "line": {
             "colorbar": {
              "outlinewidth": 0,
              "ticks": ""
             }
            },
            "type": "parcoords"
           }
          ],
          "pie": [
           {
            "automargin": true,
            "type": "pie"
           }
          ],
          "scatter": [
           {
            "marker": {
             "line": {
              "color": "#283442"
             }
            },
            "type": "scatter"
           }
          ],
          "scatter3d": [
           {
            "line": {
             "colorbar": {
              "outlinewidth": 0,
              "ticks": ""
             }
            },
            "marker": {
             "colorbar": {
              "outlinewidth": 0,
              "ticks": ""
             }
            },
            "type": "scatter3d"
           }
          ],
          "scattercarpet": [
           {
            "marker": {
             "colorbar": {
              "outlinewidth": 0,
              "ticks": ""
             }
            },
            "type": "scattercarpet"
           }
          ],
          "scattergeo": [
           {
            "marker": {
             "colorbar": {
              "outlinewidth": 0,
              "ticks": ""
             }
            },
            "type": "scattergeo"
           }
          ],
          "scattergl": [
           {
            "marker": {
             "line": {
              "color": "#283442"
             }
            },
            "type": "scattergl"
           }
          ],
          "scattermapbox": [
           {
            "marker": {
             "colorbar": {
              "outlinewidth": 0,
              "ticks": ""
             }
            },
            "type": "scattermapbox"
           }
          ],
          "scatterpolar": [
           {
            "marker": {
             "colorbar": {
              "outlinewidth": 0,
              "ticks": ""
             }
            },
            "type": "scatterpolar"
           }
          ],
          "scatterpolargl": [
           {
            "marker": {
             "colorbar": {
              "outlinewidth": 0,
              "ticks": ""
             }
            },
            "type": "scatterpolargl"
           }
          ],
          "scatterternary": [
           {
            "marker": {
             "colorbar": {
              "outlinewidth": 0,
              "ticks": ""
             }
            },
            "type": "scatterternary"
           }
          ],
          "surface": [
           {
            "colorbar": {
             "outlinewidth": 0,
             "ticks": ""
            },
            "colorscale": [
             [
              0,
              "#0d0887"
             ],
             [
              0.1111111111111111,
              "#46039f"
             ],
             [
              0.2222222222222222,
              "#7201a8"
             ],
             [
              0.3333333333333333,
              "#9c179e"
             ],
             [
              0.4444444444444444,
              "#bd3786"
             ],
             [
              0.5555555555555556,
              "#d8576b"
             ],
             [
              0.6666666666666666,
              "#ed7953"
             ],
             [
              0.7777777777777778,
              "#fb9f3a"
             ],
             [
              0.8888888888888888,
              "#fdca26"
             ],
             [
              1,
              "#f0f921"
             ]
            ],
            "type": "surface"
           }
          ],
          "table": [
           {
            "cells": {
             "fill": {
              "color": "#506784"
             },
             "line": {
              "color": "rgb(17,17,17)"
             }
            },
            "header": {
             "fill": {
              "color": "#2a3f5f"
             },
             "line": {
              "color": "rgb(17,17,17)"
             }
            },
            "type": "table"
           }
          ]
         },
         "layout": {
          "annotationdefaults": {
           "arrowcolor": "#f2f5fa",
           "arrowhead": 0,
           "arrowwidth": 1
          },
          "autotypenumbers": "strict",
          "coloraxis": {
           "colorbar": {
            "outlinewidth": 0,
            "ticks": ""
           }
          },
          "colorscale": {
           "diverging": [
            [
             0,
             "#8e0152"
            ],
            [
             0.1,
             "#c51b7d"
            ],
            [
             0.2,
             "#de77ae"
            ],
            [
             0.3,
             "#f1b6da"
            ],
            [
             0.4,
             "#fde0ef"
            ],
            [
             0.5,
             "#f7f7f7"
            ],
            [
             0.6,
             "#e6f5d0"
            ],
            [
             0.7,
             "#b8e186"
            ],
            [
             0.8,
             "#7fbc41"
            ],
            [
             0.9,
             "#4d9221"
            ],
            [
             1,
             "#276419"
            ]
           ],
           "sequential": [
            [
             0,
             "#0d0887"
            ],
            [
             0.1111111111111111,
             "#46039f"
            ],
            [
             0.2222222222222222,
             "#7201a8"
            ],
            [
             0.3333333333333333,
             "#9c179e"
            ],
            [
             0.4444444444444444,
             "#bd3786"
            ],
            [
             0.5555555555555556,
             "#d8576b"
            ],
            [
             0.6666666666666666,
             "#ed7953"
            ],
            [
             0.7777777777777778,
             "#fb9f3a"
            ],
            [
             0.8888888888888888,
             "#fdca26"
            ],
            [
             1,
             "#f0f921"
            ]
           ],
           "sequentialminus": [
            [
             0,
             "#0d0887"
            ],
            [
             0.1111111111111111,
             "#46039f"
            ],
            [
             0.2222222222222222,
             "#7201a8"
            ],
            [
             0.3333333333333333,
             "#9c179e"
            ],
            [
             0.4444444444444444,
             "#bd3786"
            ],
            [
             0.5555555555555556,
             "#d8576b"
            ],
            [
             0.6666666666666666,
             "#ed7953"
            ],
            [
             0.7777777777777778,
             "#fb9f3a"
            ],
            [
             0.8888888888888888,
             "#fdca26"
            ],
            [
             1,
             "#f0f921"
            ]
           ]
          },
          "colorway": [
           "#636efa",
           "#EF553B",
           "#00cc96",
           "#ab63fa",
           "#FFA15A",
           "#19d3f3",
           "#FF6692",
           "#B6E880",
           "#FF97FF",
           "#FECB52"
          ],
          "font": {
           "color": "#f2f5fa"
          },
          "geo": {
           "bgcolor": "rgb(17,17,17)",
           "lakecolor": "rgb(17,17,17)",
           "landcolor": "rgb(17,17,17)",
           "showlakes": true,
           "showland": true,
           "subunitcolor": "#506784"
          },
          "hoverlabel": {
           "align": "left"
          },
          "hovermode": "closest",
          "mapbox": {
           "style": "dark"
          },
          "paper_bgcolor": "rgb(17,17,17)",
          "plot_bgcolor": "rgb(17,17,17)",
          "polar": {
           "angularaxis": {
            "gridcolor": "#506784",
            "linecolor": "#506784",
            "ticks": ""
           },
           "bgcolor": "rgb(17,17,17)",
           "radialaxis": {
            "gridcolor": "#506784",
            "linecolor": "#506784",
            "ticks": ""
           }
          },
          "scene": {
           "xaxis": {
            "backgroundcolor": "rgb(17,17,17)",
            "gridcolor": "#506784",
            "gridwidth": 2,
            "linecolor": "#506784",
            "showbackground": true,
            "ticks": "",
            "zerolinecolor": "#C8D4E3"
           },
           "yaxis": {
            "backgroundcolor": "rgb(17,17,17)",
            "gridcolor": "#506784",
            "gridwidth": 2,
            "linecolor": "#506784",
            "showbackground": true,
            "ticks": "",
            "zerolinecolor": "#C8D4E3"
           },
           "zaxis": {
            "backgroundcolor": "rgb(17,17,17)",
            "gridcolor": "#506784",
            "gridwidth": 2,
            "linecolor": "#506784",
            "showbackground": true,
            "ticks": "",
            "zerolinecolor": "#C8D4E3"
           }
          },
          "shapedefaults": {
           "line": {
            "color": "#f2f5fa"
           }
          },
          "sliderdefaults": {
           "bgcolor": "#C8D4E3",
           "bordercolor": "rgb(17,17,17)",
           "borderwidth": 1,
           "tickwidth": 0
          },
          "ternary": {
           "aaxis": {
            "gridcolor": "#506784",
            "linecolor": "#506784",
            "ticks": ""
           },
           "baxis": {
            "gridcolor": "#506784",
            "linecolor": "#506784",
            "ticks": ""
           },
           "bgcolor": "rgb(17,17,17)",
           "caxis": {
            "gridcolor": "#506784",
            "linecolor": "#506784",
            "ticks": ""
           }
          },
          "title": {
           "x": 0.05
          },
          "updatemenudefaults": {
           "bgcolor": "#506784",
           "borderwidth": 0
          },
          "xaxis": {
           "automargin": true,
           "gridcolor": "#283442",
           "linecolor": "#506784",
           "ticks": "",
           "title": {
            "standoff": 15
           },
           "zerolinecolor": "#283442",
           "zerolinewidth": 2
          },
          "yaxis": {
           "automargin": true,
           "gridcolor": "#283442",
           "linecolor": "#506784",
           "ticks": "",
           "title": {
            "standoff": 15
           },
           "zerolinecolor": "#283442",
           "zerolinewidth": 2
          }
         }
        },
        "title": {
         "font": {
          "size": 24
         },
         "text": "Full-Time Employment Comparison by Work Model",
         "x": 0.5
        },
        "width": 1000,
        "xaxis": {
         "anchor": "y",
         "autorange": true,
         "domain": [
          0,
          1
         ],
         "range": [
          -0.5,
          3.5
         ],
         "tickangle": -45,
         "title": {
          "text": "Job Category"
         },
         "type": "category"
        },
        "yaxis": {
         "anchor": "x",
         "autorange": true,
         "domain": [
          0,
          1
         ],
         "range": [
          0,
          3675.7894736842104
         ],
         "title": {
          "text": "Number of Jobs"
         },
         "type": "linear"
        }
       }
      },
      "image/png": "[encoded data removed]"
     },
     "metadata": {},
     "output_type": "display_data"
    }
   ],
   "source": [
    "# Prepare data: Filter only 'full-time' employment type and group by job category and work model\n",
    "job_data_full_time = (\n",
    "    dfSalaries[dfSalaries['employment_type'] == 'Full-Time']\n",
    "    .groupby(['job_category', 'employment_model'])\n",
    "    .size()\n",
    "    .reset_index(name='count')\n",
    ")\n",
    "\n",
    "# Create the clustered bar chart\n",
    "fig = px.bar(\n",
    "    job_data_full_time, \n",
    "    x='job_category',  \n",
    "    y='count',  \n",
    "    color='employment_model',\n",
    "    barmode='group', \n",
    "    title='Full-Time Employment Comparison by Work Model', \n",
    "    labels={'count': 'Number of Jobs', 'job_category': 'Job Category'}, \n",
    "    width=1000, height=800,\n",
    "    template='plotly_dark'\n",
    ")\n",
    "\n",
    "# Update layout for better spacing and alignment\n",
    "fig.update_layout(\n",
    "    title=dict(x=0.5, font_size=24), \n",
    "    xaxis_tickangle=-45, \n",
    "    legend_title='Work Model', \n",
    "    margin=dict(l=50, r=50, t=50, b=100) \n",
    ")\n",
    "\n",
    "# Display job counts on top of the bars\n",
    "fig.update_traces(\n",
    "    texttemplate='%{y}', \n",
    "    textposition='outside', \n",
    "    textfont_size=14\n",
    ")\n",
    "\n",
    "# Display the chart\n",
    "fig.show()"
   ]
  },
  {
   "cell_type": "code",
   "execution_count": 113,
   "id": "46622b86-795e-4353-8712-d12b75c2d260",
   "metadata": {},
   "outputs": [
    {
     "data": {
      "application/vnd.plotly.v1+json": {
       "config": {
        "plotlyServerURL": "https://plot.ly"
       },
       "data": [
        {
         "branchvalues": "total",
         "customdata": [
          [
           970,
           6.66
          ],
          [
           13418,
           92.11
          ],
          [
           180,
           1.24
          ]
         ],
         "domain": {
          "x": [
           0,
           1
          ],
          "y": [
           0,
           1
          ]
         },
         "hovertemplate": "<b>%{label}</b><br>Number of Jobs: %{customdata[0]}<br>Percentage: %{customdata[1]}%",
         "ids": [
          "L",
          "M",
          "S"
         ],
         "labels": [
          "L",
          "M",
          "S"
         ],
         "marker": {
          "coloraxis": "coloraxis",
          "colors": [
           136439.90412371134,
           146882.59815173649,
           84784.65
          ]
         },
         "name": "",
         "parents": [
          "",
          "",
          ""
         ],
         "textinfo": "label+text+percent entry",
         "type": "sunburst",
         "values": [
          970,
          13418,
          180
         ]
        }
       ],
       "layout": {
        "coloraxis": {
         "colorbar": {
          "title": {
           "text": "Average Salary (USD)"
          }
         },
         "colorscale": [
          [
           0,
           "rgb(247,251,255)"
          ],
          [
           0.125,
           "rgb(222,235,247)"
          ],
          [
           0.25,
           "rgb(198,219,239)"
          ],
          [
           0.375,
           "rgb(158,202,225)"
          ],
          [
           0.5,
           "rgb(107,174,214)"
          ],
          [
           0.625,
           "rgb(66,146,198)"
          ],
          [
           0.75,
           "rgb(33,113,181)"
          ],
          [
           0.875,
           "rgb(8,81,156)"
          ],
          [
           1,
           "rgb(8,48,107)"
          ]
         ]
        },
        "height": 800,
        "legend": {
         "tracegroupgap": 0
        },
        "template": {
         "data": {
          "bar": [
           {
            "error_x": {
             "color": "#f2f5fa"
            },
            "error_y": {
             "color": "#f2f5fa"
            },
            "marker": {
             "line": {
              "color": "rgb(17,17,17)",
              "width": 0.5
             },
             "pattern": {
              "fillmode": "overlay",
              "size": 10,
              "solidity": 0.2
             }
            },
            "type": "bar"
           }
          ],
          "barpolar": [
           {
            "marker": {
             "line": {
              "color": "rgb(17,17,17)",
              "width": 0.5
             },
             "pattern": {
              "fillmode": "overlay",
              "size": 10,
              "solidity": 0.2
             }
            },
            "type": "barpolar"
           }
          ],
          "carpet": [
           {
            "aaxis": {
             "endlinecolor": "#A2B1C6",
             "gridcolor": "#506784",
             "linecolor": "#506784",
             "minorgridcolor": "#506784",
             "startlinecolor": "#A2B1C6"
            },
            "baxis": {
             "endlinecolor": "#A2B1C6",
             "gridcolor": "#506784",
             "linecolor": "#506784",
             "minorgridcolor": "#506784",
             "startlinecolor": "#A2B1C6"
            },
            "type": "carpet"
           }
          ],
          "choropleth": [
           {
            "colorbar": {
             "outlinewidth": 0,
             "ticks": ""
            },
            "type": "choropleth"
           }
          ],
          "contour": [
           {
            "colorbar": {
             "outlinewidth": 0,
             "ticks": ""
            },
            "colorscale": [
             [
              0,
              "#0d0887"
             ],
             [
              0.1111111111111111,
              "#46039f"
             ],
             [
              0.2222222222222222,
              "#7201a8"
             ],
             [
              0.3333333333333333,
              "#9c179e"
             ],
             [
              0.4444444444444444,
              "#bd3786"
             ],
             [
              0.5555555555555556,
              "#d8576b"
             ],
             [
              0.6666666666666666,
              "#ed7953"
             ],
             [
              0.7777777777777778,
              "#fb9f3a"
             ],
             [
              0.8888888888888888,
              "#fdca26"
             ],
             [
              1,
              "#f0f921"
             ]
            ],
            "type": "contour"
           }
          ],
          "contourcarpet": [
           {
            "colorbar": {
             "outlinewidth": 0,
             "ticks": ""
            },
            "type": "contourcarpet"
           }
          ],
          "heatmap": [
           {
            "colorbar": {
             "outlinewidth": 0,
             "ticks": ""
            },
            "colorscale": [
             [
              0,
              "#0d0887"
             ],
             [
              0.1111111111111111,
              "#46039f"
             ],
             [
              0.2222222222222222,
              "#7201a8"
             ],
             [
              0.3333333333333333,
              "#9c179e"
             ],
             [
              0.4444444444444444,
              "#bd3786"
             ],
             [
              0.5555555555555556,
              "#d8576b"
             ],
             [
              0.6666666666666666,
              "#ed7953"
             ],
             [
              0.7777777777777778,
              "#fb9f3a"
             ],
             [
              0.8888888888888888,
              "#fdca26"
             ],
             [
              1,
              "#f0f921"
             ]
            ],
            "type": "heatmap"
           }
          ],
          "heatmapgl": [
           {
            "colorbar": {
             "outlinewidth": 0,
             "ticks": ""
            },
            "colorscale": [
             [
              0,
              "#0d0887"
             ],
             [
              0.1111111111111111,
              "#46039f"
             ],
             [
              0.2222222222222222,
              "#7201a8"
             ],
             [
              0.3333333333333333,
              "#9c179e"
             ],
             [
              0.4444444444444444,
              "#bd3786"
             ],
             [
              0.5555555555555556,
              "#d8576b"
             ],
             [
              0.6666666666666666,
              "#ed7953"
             ],
             [
              0.7777777777777778,
              "#fb9f3a"
             ],
             [
              0.8888888888888888,
              "#fdca26"
             ],
             [
              1,
              "#f0f921"
             ]
            ],
            "type": "heatmapgl"
           }
          ],
          "histogram": [
           {
            "marker": {
             "pattern": {
              "fillmode": "overlay",
              "size": 10,
              "solidity": 0.2
             }
            },
            "type": "histogram"
           }
          ],
          "histogram2d": [
           {
            "colorbar": {
             "outlinewidth": 0,
             "ticks": ""
            },
            "colorscale": [
             [
              0,
              "#0d0887"
             ],
             [
              0.1111111111111111,
              "#46039f"
             ],
             [
              0.2222222222222222,
              "#7201a8"
             ],
             [
              0.3333333333333333,
              "#9c179e"
             ],
             [
              0.4444444444444444,
              "#bd3786"
             ],
             [
              0.5555555555555556,
              "#d8576b"
             ],
             [
              0.6666666666666666,
              "#ed7953"
             ],
             [
              0.7777777777777778,
              "#fb9f3a"
             ],
             [
              0.8888888888888888,
              "#fdca26"
             ],
             [
              1,
              "#f0f921"
             ]
            ],
            "type": "histogram2d"
           }
          ],
          "histogram2dcontour": [
           {
            "colorbar": {
             "outlinewidth": 0,
             "ticks": ""
            },
            "colorscale": [
             [
              0,
              "#0d0887"
             ],
             [
              0.1111111111111111,
              "#46039f"
             ],
             [
              0.2222222222222222,
              "#7201a8"
             ],
             [
              0.3333333333333333,
              "#9c179e"
             ],
             [
              0.4444444444444444,
              "#bd3786"
             ],
             [
              0.5555555555555556,
              "#d8576b"
             ],
             [
              0.6666666666666666,
              "#ed7953"
             ],
             [
              0.7777777777777778,
              "#fb9f3a"
             ],
             [
              0.8888888888888888,
              "#fdca26"
             ],
             [
              1,
              "#f0f921"
             ]
            ],
            "type": "histogram2dcontour"
           }
          ],
          "mesh3d": [
           {
            "colorbar": {
             "outlinewidth": 0,
             "ticks": ""
            },
            "type": "mesh3d"
           }
          ],
          "parcoords": [
           {
            "line": {
             "colorbar": {
              "outlinewidth": 0,
              "ticks": ""
             }
            },
            "type": "parcoords"
           }
          ],
          "pie": [
           {
            "automargin": true,
            "type": "pie"
           }
          ],
          "scatter": [
           {
            "marker": {
             "line": {
              "color": "#283442"
             }
            },
            "type": "scatter"
           }
          ],
          "scatter3d": [
           {
            "line": {
             "colorbar": {
              "outlinewidth": 0,
              "ticks": ""
             }
            },
            "marker": {
             "colorbar": {
              "outlinewidth": 0,
              "ticks": ""
             }
            },
            "type": "scatter3d"
           }
          ],
          "scattercarpet": [
           {
            "marker": {
             "colorbar": {
              "outlinewidth": 0,
              "ticks": ""
             }
            },
            "type": "scattercarpet"
           }
          ],
          "scattergeo": [
           {
            "marker": {
             "colorbar": {
              "outlinewidth": 0,
              "ticks": ""
             }
            },
            "type": "scattergeo"
           }
          ],
          "scattergl": [
           {
            "marker": {
             "line": {
              "color": "#283442"
             }
            },
            "type": "scattergl"
           }
          ],
          "scattermapbox": [
           {
            "marker": {
             "colorbar": {
              "outlinewidth": 0,
              "ticks": ""
             }
            },
            "type": "scattermapbox"
           }
          ],
          "scatterpolar": [
           {
            "marker": {
             "colorbar": {
              "outlinewidth": 0,
              "ticks": ""
             }
            },
            "type": "scatterpolar"
           }
          ],
          "scatterpolargl": [
           {
            "marker": {
             "colorbar": {
              "outlinewidth": 0,
              "ticks": ""
             }
            },
            "type": "scatterpolargl"
           }
          ],
          "scatterternary": [
           {
            "marker": {
             "colorbar": {
              "outlinewidth": 0,
              "ticks": ""
             }
            },
            "type": "scatterternary"
           }
          ],
          "surface": [
           {
            "colorbar": {
             "outlinewidth": 0,
             "ticks": ""
            },
            "colorscale": [
             [
              0,
              "#0d0887"
             ],
             [
              0.1111111111111111,
              "#46039f"
             ],
             [
              0.2222222222222222,
              "#7201a8"
             ],
             [
              0.3333333333333333,
              "#9c179e"
             ],
             [
              0.4444444444444444,
              "#bd3786"
             ],
             [
              0.5555555555555556,
              "#d8576b"
             ],
             [
              0.6666666666666666,
              "#ed7953"
             ],
             [
              0.7777777777777778,
              "#fb9f3a"
             ],
             [
              0.8888888888888888,
              "#fdca26"
             ],
             [
              1,
              "#f0f921"
             ]
            ],
            "type": "surface"
           }
          ],
          "table": [
           {
            "cells": {
             "fill": {
              "color": "#506784"
             },
             "line": {
              "color": "rgb(17,17,17)"
             }
            },
            "header": {
             "fill": {
              "color": "#2a3f5f"
             },
             "line": {
              "color": "rgb(17,17,17)"
             }
            },
            "type": "table"
           }
          ]
         },
         "layout": {
          "annotationdefaults": {
           "arrowcolor": "#f2f5fa",
           "arrowhead": 0,
           "arrowwidth": 1
          },
          "autotypenumbers": "strict",
          "coloraxis": {
           "colorbar": {
            "outlinewidth": 0,
            "ticks": ""
           }
          },
          "colorscale": {
           "diverging": [
            [
             0,
             "#8e0152"
            ],
            [
             0.1,
             "#c51b7d"
            ],
            [
             0.2,
             "#de77ae"
            ],
            [
             0.3,
             "#f1b6da"
            ],
            [
             0.4,
             "#fde0ef"
            ],
            [
             0.5,
             "#f7f7f7"
            ],
            [
             0.6,
             "#e6f5d0"
            ],
            [
             0.7,
             "#b8e186"
            ],
            [
             0.8,
             "#7fbc41"
            ],
            [
             0.9,
             "#4d9221"
            ],
            [
             1,
             "#276419"
            ]
           ],
           "sequential": [
            [
             0,
             "#0d0887"
            ],
            [
             0.1111111111111111,
             "#46039f"
            ],
            [
             0.2222222222222222,
             "#7201a8"
            ],
            [
             0.3333333333333333,
             "#9c179e"
            ],
            [
             0.4444444444444444,
             "#bd3786"
            ],
            [
             0.5555555555555556,
             "#d8576b"
            ],
            [
             0.6666666666666666,
             "#ed7953"
            ],
            [
             0.7777777777777778,
             "#fb9f3a"
            ],
            [
             0.8888888888888888,
             "#fdca26"
            ],
            [
             1,
             "#f0f921"
            ]
           ],
           "sequentialminus": [
            [
             0,
             "#0d0887"
            ],
            [
             0.1111111111111111,
             "#46039f"
            ],
            [
             0.2222222222222222,
             "#7201a8"
            ],
            [
             0.3333333333333333,
             "#9c179e"
            ],
            [
             0.4444444444444444,
             "#bd3786"
            ],
            [
             0.5555555555555556,
             "#d8576b"
            ],
            [
             0.6666666666666666,
             "#ed7953"
            ],
            [
             0.7777777777777778,
             "#fb9f3a"
            ],
            [
             0.8888888888888888,
             "#fdca26"
            ],
            [
             1,
             "#f0f921"
            ]
           ]
          },
          "colorway": [
           "#636efa",
           "#EF553B",
           "#00cc96",
           "#ab63fa",
           "#FFA15A",
           "#19d3f3",
           "#FF6692",
           "#B6E880",
           "#FF97FF",
           "#FECB52"
          ],
          "font": {
           "color": "#f2f5fa"
          },
          "geo": {
           "bgcolor": "rgb(17,17,17)",
           "lakecolor": "rgb(17,17,17)",
           "landcolor": "rgb(17,17,17)",
           "showlakes": true,
           "showland": true,
           "subunitcolor": "#506784"
          },
          "hoverlabel": {
           "align": "left"
          },
          "hovermode": "closest",
          "mapbox": {
           "style": "dark"
          },
          "paper_bgcolor": "rgb(17,17,17)",
          "plot_bgcolor": "rgb(17,17,17)",
          "polar": {
           "angularaxis": {
            "gridcolor": "#506784",
            "linecolor": "#506784",
            "ticks": ""
           },
           "bgcolor": "rgb(17,17,17)",
           "radialaxis": {
            "gridcolor": "#506784",
            "linecolor": "#506784",
            "ticks": ""
           }
          },
          "scene": {
           "xaxis": {
            "backgroundcolor": "rgb(17,17,17)",
            "gridcolor": "#506784",
            "gridwidth": 2,
            "linecolor": "#506784",
            "showbackground": true,
            "ticks": "",
            "zerolinecolor": "#C8D4E3"
           },
           "yaxis": {
            "backgroundcolor": "rgb(17,17,17)",
            "gridcolor": "#506784",
            "gridwidth": 2,
            "linecolor": "#506784",
            "showbackground": true,
            "ticks": "",
            "zerolinecolor": "#C8D4E3"
           },
           "zaxis": {
            "backgroundcolor": "rgb(17,17,17)",
            "gridcolor": "#506784",
            "gridwidth": 2,
            "linecolor": "#506784",
            "showbackground": true,
            "ticks": "",
            "zerolinecolor": "#C8D4E3"
           }
          },
          "shapedefaults": {
           "line": {
            "color": "#f2f5fa"
           }
          },
          "sliderdefaults": {
           "bgcolor": "#C8D4E3",
           "bordercolor": "rgb(17,17,17)",
           "borderwidth": 1,
           "tickwidth": 0
          },
          "ternary": {
           "aaxis": {
            "gridcolor": "#506784",
            "linecolor": "#506784",
            "ticks": ""
           },
           "baxis": {
            "gridcolor": "#506784",
            "linecolor": "#506784",
            "ticks": ""
           },
           "bgcolor": "rgb(17,17,17)",
           "caxis": {
            "gridcolor": "#506784",
            "linecolor": "#506784",
            "ticks": ""
           }
          },
          "title": {
           "x": 0.05
          },
          "updatemenudefaults": {
           "bgcolor": "#506784",
           "borderwidth": 0
          },
          "xaxis": {
           "automargin": true,
           "gridcolor": "#283442",
           "linecolor": "#506784",
           "ticks": "",
           "title": {
            "standoff": 15
           },
           "zerolinecolor": "#283442",
           "zerolinewidth": 2
          },
          "yaxis": {
           "automargin": true,
           "gridcolor": "#283442",
           "linecolor": "#506784",
           "ticks": "",
           "title": {
            "standoff": 15
           },
           "zerolinecolor": "#283442",
           "zerolinewidth": 2
          }
         }
        },
        "title": {
         "font": {
          "size": 24
         },
         "text": "Jobs by Company Size",
         "x": 0.5
        },
        "width": 800
       }
      },
      "image/png": "[encoded data removed]"
     },
     "metadata": {},
     "output_type": "display_data"
    }
   ],
   "source": [
    "# Data preparation: Calculate the number of postings and average salary by Company Size\n",
    "job_postings_and_salary = (\n",
    "    dfSalaries.groupby('company_size')\n",
    "    .agg(\n",
    "        job_posting_count=('company_size', 'size'),\n",
    "        avg_salary=('salary_in_usd', 'mean')\n",
    "    )\n",
    "    .reset_index()\n",
    ")\n",
    "\n",
    "# Calculate percentage of job postings\n",
    "total_postings = job_postings_and_salary['job_posting_count'].sum()\n",
    "job_postings_and_salary['percentage'] = (\n",
    "    job_postings_and_salary['job_posting_count'] / total_postings * 100\n",
    ").round(2)\n",
    "\n",
    "# Create the Sunburst chart\n",
    "fig = px.sunburst(\n",
    "    job_postings_and_salary,\n",
    "    path=['company_size'],\n",
    "    values='job_posting_count',\n",
    "    color='avg_salary',\n",
    "    color_continuous_scale='Blues',\n",
    "    title='Jobs by Company Size',  \n",
    "    labels={\n",
    "        'job_posting_count': 'Number of Job',\n",
    "        'avg_salary': 'Average Salary (USD)'\n",
    "    },\n",
    "    width=800, height=800,  \n",
    "    template='plotly_dark' \n",
    ")\n",
    "\n",
    "# Layout settings: Center the title and adjust font size\n",
    "fig.update_layout(\n",
    "    title={'x': 0.5, 'font_size': 24},\n",
    ")\n",
    "\n",
    "# Add custom data to display number of postings and percentage in each slice\n",
    "fig.update_traces(\n",
    "    textinfo='label+text+percent entry', \n",
    "    customdata=job_postings_and_salary[['job_posting_count', 'percentage']],  \n",
    "    hovertemplate=(\n",
    "        '<b>%{label}</b><br>'\n",
    "        'Number of Jobs: %{customdata[0]}<br>' \n",
    "        'Percentage: %{customdata[1]}%' \n",
    "    )\n",
    ")\n",
    "\n",
    "# Display the chart\n",
    "fig.show()"
   ]
  },
  {
   "cell_type": "code",
   "execution_count": 107,
   "id": "6d0c46dd-0d0d-4a48-b929-0d7b8c6c4381",
   "metadata": {},
   "outputs": [
    {
     "data": {
      "application/vnd.plotly.v1+json": {
       "config": {
        "plotlyServerURL": "https://plot.ly"
       },
       "data": [
        {
         "alignmentgroup": "True",
         "hovertemplate": "company_size=L<br>Job Category=%{x}<br>Average Salary (USD)=%{y}<extra></extra>",
         "legendgroup": "L",
         "marker": {
          "color": "#007acc",
          "pattern": {
           "shape": ""
          }
         },
         "name": "L",
         "offsetgroup": "L",
         "orientation": "v",
         "showlegend": true,
         "textposition": "auto",
         "type": "bar",
         "visible": true,
         "x": [
          "Data Analyst",
          "Data Engineer",
          "Data Scientist",
          "ML Engineer"
         ],
         "xaxis": "x",
         "y": [
          109109.66666666667,
          131294.3354037267,
          153664.85062240664,
          121613.94017094017
         ],
         "yaxis": "y"
        },
        {
         "alignmentgroup": "True",
         "hovertemplate": "company_size=M<br>Job Category=%{x}<br>Average Salary (USD)=%{y}<extra></extra>",
         "legendgroup": "M",
         "marker": {
          "color": "#4199d1",
          "pattern": {
           "shape": ""
          }
         },
         "name": "M",
         "offsetgroup": "M",
         "orientation": "v",
         "showlegend": true,
         "textposition": "auto",
         "type": "bar",
         "x": [
          "Data Analyst",
          "Data Engineer",
          "Data Scientist",
          "ML Engineer"
         ],
         "xaxis": "x",
         "y": [
          115948.70040235222,
          145649.27955830866,
          155686.28881578948,
          180519.95768025078
         ],
         "yaxis": "y"
        },
        {
         "alignmentgroup": "True",
         "hovertemplate": "company_size=S<br>Job Category=%{x}<br>Average Salary (USD)=%{y}<extra></extra>",
         "legendgroup": "S",
         "marker": {
          "color": "#66b3d6",
          "pattern": {
           "shape": ""
          }
         },
         "name": "S",
         "offsetgroup": "S",
         "orientation": "v",
         "showlegend": true,
         "textposition": "auto",
         "type": "bar",
         "visible": true,
         "x": [
          "Data Analyst",
          "Data Engineer",
          "Data Scientist",
          "ML Engineer"
         ],
         "xaxis": "x",
         "y": [
          73722.51351351352,
          81060.81818181818,
          82649.98305084746,
          94738.98387096774
         ],
         "yaxis": "y"
        }
       ],
       "layout": {
        "barmode": "group",
        "font": {
         "size": 14
        },
        "height": 800,
        "legend": {
         "title": {
          "text": "Company Size"
         },
         "tracegroupgap": 0
        },
        "template": {
         "data": {
          "bar": [
           {
            "error_x": {
             "color": "#f2f5fa"
            },
            "error_y": {
             "color": "#f2f5fa"
            },
            "marker": {
             "line": {
              "color": "rgb(17,17,17)",
              "width": 0.5
             },
             "pattern": {
              "fillmode": "overlay",
              "size": 10,
              "solidity": 0.2
             }
            },
            "type": "bar"
           }
          ],
          "barpolar": [
           {
            "marker": {
             "line": {
              "color": "rgb(17,17,17)",
              "width": 0.5
             },
             "pattern": {
              "fillmode": "overlay",
              "size": 10,
              "solidity": 0.2
             }
            },
            "type": "barpolar"
           }
          ],
          "carpet": [
           {
            "aaxis": {
             "endlinecolor": "#A2B1C6",
             "gridcolor": "#506784",
             "linecolor": "#506784",
             "minorgridcolor": "#506784",
             "startlinecolor": "#A2B1C6"
            },
            "baxis": {
             "endlinecolor": "#A2B1C6",
             "gridcolor": "#506784",
             "linecolor": "#506784",
             "minorgridcolor": "#506784",
             "startlinecolor": "#A2B1C6"
            },
            "type": "carpet"
           }
          ],
          "choropleth": [
           {
            "colorbar": {
             "outlinewidth": 0,
             "ticks": ""
            },
            "type": "choropleth"
           }
          ],
          "contour": [
           {
            "colorbar": {
             "outlinewidth": 0,
             "ticks": ""
            },
            "colorscale": [
             [
              0,
              "#0d0887"
             ],
             [
              0.1111111111111111,
              "#46039f"
             ],
             [
              0.2222222222222222,
              "#7201a8"
             ],
             [
              0.3333333333333333,
              "#9c179e"
             ],
             [
              0.4444444444444444,
              "#bd3786"
             ],
             [
              0.5555555555555556,
              "#d8576b"
             ],
             [
              0.6666666666666666,
              "#ed7953"
             ],
             [
              0.7777777777777778,
              "#fb9f3a"
             ],
             [
              0.8888888888888888,
              "#fdca26"
             ],
             [
              1,
              "#f0f921"
             ]
            ],
            "type": "contour"
           }
          ],
          "contourcarpet": [
           {
            "colorbar": {
             "outlinewidth": 0,
             "ticks": ""
            },
            "type": "contourcarpet"
           }
          ],
          "heatmap": [
           {
            "colorbar": {
             "outlinewidth": 0,
             "ticks": ""
            },
            "colorscale": [
             [
              0,
              "#0d0887"
             ],
             [
              0.1111111111111111,
              "#46039f"
             ],
             [
              0.2222222222222222,
              "#7201a8"
             ],
             [
              0.3333333333333333,
              "#9c179e"
             ],
             [
              0.4444444444444444,
              "#bd3786"
             ],
             [
              0.5555555555555556,
              "#d8576b"
             ],
             [
              0.6666666666666666,
              "#ed7953"
             ],
             [
              0.7777777777777778,
              "#fb9f3a"
             ],
             [
              0.8888888888888888,
              "#fdca26"
             ],
             [
              1,
              "#f0f921"
             ]
            ],
            "type": "heatmap"
           }
          ],
          "heatmapgl": [
           {
            "colorbar": {
             "outlinewidth": 0,
             "ticks": ""
            },
            "colorscale": [
             [
              0,
              "#0d0887"
             ],
             [
              0.1111111111111111,
              "#46039f"
             ],
             [
              0.2222222222222222,
              "#7201a8"
             ],
             [
              0.3333333333333333,
              "#9c179e"
             ],
             [
              0.4444444444444444,
              "#bd3786"
             ],
             [
              0.5555555555555556,
              "#d8576b"
             ],
             [
              0.6666666666666666,
              "#ed7953"
             ],
             [
              0.7777777777777778,
              "#fb9f3a"
             ],
             [
              0.8888888888888888,
              "#fdca26"
             ],
             [
              1,
              "#f0f921"
             ]
            ],
            "type": "heatmapgl"
           }
          ],
          "histogram": [
           {
            "marker": {
             "pattern": {
              "fillmode": "overlay",
              "size": 10,
              "solidity": 0.2
             }
            },
            "type": "histogram"
           }
          ],
          "histogram2d": [
           {
            "colorbar": {
             "outlinewidth": 0,
             "ticks": ""
            },
            "colorscale": [
             [
              0,
              "#0d0887"
             ],
             [
              0.1111111111111111,
              "#46039f"
             ],
             [
              0.2222222222222222,
              "#7201a8"
             ],
             [
              0.3333333333333333,
              "#9c179e"
             ],
             [
              0.4444444444444444,
              "#bd3786"
             ],
             [
              0.5555555555555556,
              "#d8576b"
             ],
             [
              0.6666666666666666,
              "#ed7953"
             ],
             [
              0.7777777777777778,
              "#fb9f3a"
             ],
             [
              0.8888888888888888,
              "#fdca26"
             ],
             [
              1,
              "#f0f921"
             ]
            ],
            "type": "histogram2d"
           }
          ],
          "histogram2dcontour": [
           {
            "colorbar": {
             "outlinewidth": 0,
             "ticks": ""
            },
            "colorscale": [
             [
              0,
              "#0d0887"
             ],
             [
              0.1111111111111111,
              "#46039f"
             ],
             [
              0.2222222222222222,
              "#7201a8"
             ],
             [
              0.3333333333333333,
              "#9c179e"
             ],
             [
              0.4444444444444444,
              "#bd3786"
             ],
             [
              0.5555555555555556,
              "#d8576b"
             ],
             [
              0.6666666666666666,
              "#ed7953"
             ],
             [
              0.7777777777777778,
              "#fb9f3a"
             ],
             [
              0.8888888888888888,
              "#fdca26"
             ],
             [
              1,
              "#f0f921"
             ]
            ],
            "type": "histogram2dcontour"
           }
          ],
          "mesh3d": [
           {
            "colorbar": {
             "outlinewidth": 0,
             "ticks": ""
            },
            "type": "mesh3d"
           }
          ],
          "parcoords": [
           {
            "line": {
             "colorbar": {
              "outlinewidth": 0,
              "ticks": ""
             }
            },
            "type": "parcoords"
           }
          ],
          "pie": [
           {
            "automargin": true,
            "type": "pie"
           }
          ],
          "scatter": [
           {
            "marker": {
             "line": {
              "color": "#283442"
             }
            },
            "type": "scatter"
           }
          ],
          "scatter3d": [
           {
            "line": {
             "colorbar": {
              "outlinewidth": 0,
              "ticks": ""
             }
            },
            "marker": {
             "colorbar": {
              "outlinewidth": 0,
              "ticks": ""
             }
            },
            "type": "scatter3d"
           }
          ],
          "scattercarpet": [
           {
            "marker": {
             "colorbar": {
              "outlinewidth": 0,
              "ticks": ""
             }
            },
            "type": "scattercarpet"
           }
          ],
          "scattergeo": [
           {
            "marker": {
             "colorbar": {
              "outlinewidth": 0,
              "ticks": ""
             }
            },
            "type": "scattergeo"
           }
          ],
          "scattergl": [
           {
            "marker": {
             "line": {
              "color": "#283442"
             }
            },
            "type": "scattergl"
           }
          ],
          "scattermapbox": [
           {
            "marker": {
             "colorbar": {
              "outlinewidth": 0,
              "ticks": ""
             }
            },
            "type": "scattermapbox"
           }
          ],
          "scatterpolar": [
           {
            "marker": {
             "colorbar": {
              "outlinewidth": 0,
              "ticks": ""
             }
            },
            "type": "scatterpolar"
           }
          ],
          "scatterpolargl": [
           {
            "marker": {
             "colorbar": {
              "outlinewidth": 0,
              "ticks": ""
             }
            },
            "type": "scatterpolargl"
           }
          ],
          "scatterternary": [
           {
            "marker": {
             "colorbar": {
              "outlinewidth": 0,
              "ticks": ""
             }
            },
            "type": "scatterternary"
           }
          ],
          "surface": [
           {
            "colorbar": {
             "outlinewidth": 0,
             "ticks": ""
            },
            "colorscale": [
             [
              0,
              "#0d0887"
             ],
             [
              0.1111111111111111,
              "#46039f"
             ],
             [
              0.2222222222222222,
              "#7201a8"
             ],
             [
              0.3333333333333333,
              "#9c179e"
             ],
             [
              0.4444444444444444,
              "#bd3786"
             ],
             [
              0.5555555555555556,
              "#d8576b"
             ],
             [
              0.6666666666666666,
              "#ed7953"
             ],
             [
              0.7777777777777778,
              "#fb9f3a"
             ],
             [
              0.8888888888888888,
              "#fdca26"
             ],
             [
              1,
              "#f0f921"
             ]
            ],
            "type": "surface"
           }
          ],
          "table": [
           {
            "cells": {
             "fill": {
              "color": "#506784"
             },
             "line": {
              "color": "rgb(17,17,17)"
             }
            },
            "header": {
             "fill": {
              "color": "#2a3f5f"
             },
             "line": {
              "color": "rgb(17,17,17)"
             }
            },
            "type": "table"
           }
          ]
         },
         "layout": {
          "annotationdefaults": {
           "arrowcolor": "#f2f5fa",
           "arrowhead": 0,
           "arrowwidth": 1
          },
          "autotypenumbers": "strict",
          "coloraxis": {
           "colorbar": {
            "outlinewidth": 0,
            "ticks": ""
           }
          },
          "colorscale": {
           "diverging": [
            [
             0,
             "#8e0152"
            ],
            [
             0.1,
             "#c51b7d"
            ],
            [
             0.2,
             "#de77ae"
            ],
            [
             0.3,
             "#f1b6da"
            ],
            [
             0.4,
             "#fde0ef"
            ],
            [
             0.5,
             "#f7f7f7"
            ],
            [
             0.6,
             "#e6f5d0"
            ],
            [
             0.7,
             "#b8e186"
            ],
            [
             0.8,
             "#7fbc41"
            ],
            [
             0.9,
             "#4d9221"
            ],
            [
             1,
             "#276419"
            ]
           ],
           "sequential": [
            [
             0,
             "#0d0887"
            ],
            [
             0.1111111111111111,
             "#46039f"
            ],
            [
             0.2222222222222222,
             "#7201a8"
            ],
            [
             0.3333333333333333,
             "#9c179e"
            ],
            [
             0.4444444444444444,
             "#bd3786"
            ],
            [
             0.5555555555555556,
             "#d8576b"
            ],
            [
             0.6666666666666666,
             "#ed7953"
            ],
            [
             0.7777777777777778,
             "#fb9f3a"
            ],
            [
             0.8888888888888888,
             "#fdca26"
            ],
            [
             1,
             "#f0f921"
            ]
           ],
           "sequentialminus": [
            [
             0,
             "#0d0887"
            ],
            [
             0.1111111111111111,
             "#46039f"
            ],
            [
             0.2222222222222222,
             "#7201a8"
            ],
            [
             0.3333333333333333,
             "#9c179e"
            ],
            [
             0.4444444444444444,
             "#bd3786"
            ],
            [
             0.5555555555555556,
             "#d8576b"
            ],
            [
             0.6666666666666666,
             "#ed7953"
            ],
            [
             0.7777777777777778,
             "#fb9f3a"
            ],
            [
             0.8888888888888888,
             "#fdca26"
            ],
            [
             1,
             "#f0f921"
            ]
           ]
          },
          "colorway": [
           "#636efa",
           "#EF553B",
           "#00cc96",
           "#ab63fa",
           "#FFA15A",
           "#19d3f3",
           "#FF6692",
           "#B6E880",
           "#FF97FF",
           "#FECB52"
          ],
          "font": {
           "color": "#f2f5fa"
          },
          "geo": {
           "bgcolor": "rgb(17,17,17)",
           "lakecolor": "rgb(17,17,17)",
           "landcolor": "rgb(17,17,17)",
           "showlakes": true,
           "showland": true,
           "subunitcolor": "#506784"
          },
          "hoverlabel": {
           "align": "left"
          },
          "hovermode": "closest",
          "mapbox": {
           "style": "dark"
          },
          "paper_bgcolor": "rgb(17,17,17)",
          "plot_bgcolor": "rgb(17,17,17)",
          "polar": {
           "angularaxis": {
            "gridcolor": "#506784",
            "linecolor": "#506784",
            "ticks": ""
           },
           "bgcolor": "rgb(17,17,17)",
           "radialaxis": {
            "gridcolor": "#506784",
            "linecolor": "#506784",
            "ticks": ""
           }
          },
          "scene": {
           "xaxis": {
            "backgroundcolor": "rgb(17,17,17)",
            "gridcolor": "#506784",
            "gridwidth": 2,
            "linecolor": "#506784",
            "showbackground": true,
            "ticks": "",
            "zerolinecolor": "#C8D4E3"
           },
           "yaxis": {
            "backgroundcolor": "rgb(17,17,17)",
            "gridcolor": "#506784",
            "gridwidth": 2,
            "linecolor": "#506784",
            "showbackground": true,
            "ticks": "",
            "zerolinecolor": "#C8D4E3"
           },
           "zaxis": {
            "backgroundcolor": "rgb(17,17,17)",
            "gridcolor": "#506784",
            "gridwidth": 2,
            "linecolor": "#506784",
            "showbackground": true,
            "ticks": "",
            "zerolinecolor": "#C8D4E3"
           }
          },
          "shapedefaults": {
           "line": {
            "color": "#f2f5fa"
           }
          },
          "sliderdefaults": {
           "bgcolor": "#C8D4E3",
           "bordercolor": "rgb(17,17,17)",
           "borderwidth": 1,
           "tickwidth": 0
          },
          "ternary": {
           "aaxis": {
            "gridcolor": "#506784",
            "linecolor": "#506784",
            "ticks": ""
           },
           "baxis": {
            "gridcolor": "#506784",
            "linecolor": "#506784",
            "ticks": ""
           },
           "bgcolor": "rgb(17,17,17)",
           "caxis": {
            "gridcolor": "#506784",
            "linecolor": "#506784",
            "ticks": ""
           }
          },
          "title": {
           "x": 0.05
          },
          "updatemenudefaults": {
           "bgcolor": "#506784",
           "borderwidth": 0
          },
          "xaxis": {
           "automargin": true,
           "gridcolor": "#283442",
           "linecolor": "#506784",
           "ticks": "",
           "title": {
            "standoff": 15
           },
           "zerolinecolor": "#283442",
           "zerolinewidth": 2
          },
          "yaxis": {
           "automargin": true,
           "gridcolor": "#283442",
           "linecolor": "#506784",
           "ticks": "",
           "title": {
            "standoff": 15
           },
           "zerolinecolor": "#283442",
           "zerolinewidth": 2
          }
         }
        },
        "title": {
         "text": "Average Salary Comparison by Company Size & Job Category"
        },
        "width": 1000,
        "xaxis": {
         "anchor": "y",
         "autorange": true,
         "domain": [
          0,
          1
         ],
         "range": [
          -0.5,
          3.5
         ],
         "tickangle": -45,
         "title": {
          "text": "Job Category"
         },
         "type": "category"
        },
        "yaxis": {
         "anchor": "x",
         "autorange": true,
         "domain": [
          0,
          1
         ],
         "range": [
          0,
          190021.0080844745
         ],
         "title": {
          "text": "Average Salary (USD)"
         },
         "type": "linear"
        }
       }
      },
      "image/png": "[encoded data removed]"
     },
     "metadata": {},
     "output_type": "display_data"
    }
   ],
   "source": [
    "# Grouping by company_size, job_category, and salary_in_usd to calculate average salary\n",
    "dfSalaries_grouped = dfSalaries.groupby(['company_size', 'job_category'])['salary_in_usd'].mean().reset_index()\n",
    "\n",
    "# Create the bar chart (average salaries by company_size for each job_category)\n",
    "fig = px.bar(\n",
    "    dfSalaries_grouped, \n",
    "    x='job_category',  \n",
    "    y='salary_in_usd', \n",
    "    color='company_size', \n",
    "    barmode='group', \n",
    "    title='Average Salary Comparison by Company Size & Job Category',  \n",
    "    labels={\n",
    "        'salary_in_usd': 'Average Salary (USD)', \n",
    "        'job_category': 'Job Category'\n",
    "    },\n",
    "    template='plotly_dark', \n",
    "    color_discrete_sequence=['#007acc', '#4199d1', '#66b3d6', '#8ccc9d'],  \n",
    "    width=1000, height=800,  \n",
    ")\n",
    "\n",
    "# Customize the layout\n",
    "fig.update_layout(\n",
    "    xaxis_title='Job Category', \n",
    "    yaxis_title='Average Salary (USD)',  \n",
    "    legend_title='Company Size',  \n",
    "    font=dict(size=14),  \n",
    "    xaxis_tickangle=-45  \n",
    ")\n",
    "\n",
    "# Display the chart\n",
    "fig.show()"
   ]
  },
  {
   "cell_type": "code",
   "execution_count": 108,
   "id": "3ae80afd-5f22-4d21-b16c-d4dca50db1f2",
   "metadata": {},
   "outputs": [
    {
     "data": {
      "application/vnd.plotly.v1+json": {
       "config": {
        "plotlyServerURL": "https://plot.ly"
       },
       "data": [
        {
         "alignmentgroup": "True",
         "hovertemplate": "color=US<br>x=%{x}<br>y=%{y}<br>text=%{text}<extra></extra>",
         "legendgroup": "US",
         "marker": {
          "color": "rgb(41, 24, 107)",
          "pattern": {
           "shape": ""
          }
         },
         "name": "US",
         "offsetgroup": "US",
         "orientation": "v",
         "showlegend": true,
         "text": [
          12670
         ],
         "textposition": "auto",
         "type": "bar",
         "x": [
          "US"
         ],
         "xaxis": "x",
         "y": [
          12670
         ],
         "yaxis": "y"
        },
        {
         "alignmentgroup": "True",
         "hovertemplate": "color=GB<br>x=%{x}<br>y=%{y}<br>text=%{text}<extra></extra>",
         "legendgroup": "GB",
         "marker": {
          "color": "rgb(42, 35, 160)",
          "pattern": {
           "shape": ""
          }
         },
         "name": "GB",
         "offsetgroup": "GB",
         "orientation": "v",
         "showlegend": true,
         "text": [
          641
         ],
         "textposition": "auto",
         "type": "bar",
         "x": [
          "GB"
         ],
         "xaxis": "x",
         "y": [
          641
         ],
         "yaxis": "y"
        },
        {
         "alignmentgroup": "True",
         "hovertemplate": "color=CA<br>x=%{x}<br>y=%{y}<br>text=%{text}<extra></extra>",
         "legendgroup": "CA",
         "marker": {
          "color": "rgb(15, 71, 153)",
          "pattern": {
           "shape": ""
          }
         },
         "name": "CA",
         "offsetgroup": "CA",
         "orientation": "v",
         "showlegend": true,
         "text": [
          386
         ],
         "textposition": "auto",
         "type": "bar",
         "x": [
          "CA"
         ],
         "xaxis": "x",
         "y": [
          386
         ],
         "yaxis": "y"
        },
        {
         "alignmentgroup": "True",
         "hovertemplate": "color=ES<br>x=%{x}<br>y=%{y}<br>text=%{text}<extra></extra>",
         "legendgroup": "ES",
         "marker": {
          "color": "rgb(18, 95, 142)",
          "pattern": {
           "shape": ""
          }
         },
         "name": "ES",
         "offsetgroup": "ES",
         "orientation": "v",
         "showlegend": true,
         "text": [
          131
         ],
         "textposition": "auto",
         "type": "bar",
         "x": [
          "ES"
         ],
         "xaxis": "x",
         "y": [
          131
         ],
         "yaxis": "y"
        },
        {
         "alignmentgroup": "True",
         "hovertemplate": "color=DE<br>x=%{x}<br>y=%{y}<br>text=%{text}<extra></extra>",
         "legendgroup": "DE",
         "marker": {
          "color": "rgb(38, 116, 137)",
          "pattern": {
           "shape": ""
          }
         },
         "name": "DE",
         "offsetgroup": "DE",
         "orientation": "v",
         "showlegend": true,
         "text": [
          91
         ],
         "textposition": "auto",
         "type": "bar",
         "x": [
          "DE"
         ],
         "xaxis": "x",
         "y": [
          91
         ],
         "yaxis": "y"
        },
        {
         "alignmentgroup": "True",
         "hovertemplate": "color=IN<br>x=%{x}<br>y=%{y}<br>text=%{text}<extra></extra>",
         "legendgroup": "IN",
         "marker": {
          "color": "rgb(53, 136, 136)",
          "pattern": {
           "shape": ""
          }
         },
         "name": "IN",
         "offsetgroup": "IN",
         "orientation": "v",
         "showlegend": true,
         "text": [
          74
         ],
         "textposition": "auto",
         "type": "bar",
         "visible": true,
         "x": [
          "IN"
         ],
         "xaxis": "x",
         "y": [
          74
         ],
         "yaxis": "y"
        },
        {
         "alignmentgroup": "True",
         "hovertemplate": "color=FR<br>x=%{x}<br>y=%{y}<br>text=%{text}<extra></extra>",
         "legendgroup": "FR",
         "marker": {
          "color": "rgb(65, 157, 133)",
          "pattern": {
           "shape": ""
          }
         },
         "name": "FR",
         "offsetgroup": "FR",
         "orientation": "v",
         "showlegend": true,
         "text": [
          64
         ],
         "textposition": "auto",
         "type": "bar",
         "x": [
          "FR"
         ],
         "xaxis": "x",
         "y": [
          64
         ],
         "yaxis": "y"
        },
        {
         "alignmentgroup": "True",
         "hovertemplate": "color=AU<br>x=%{x}<br>y=%{y}<br>text=%{text}<extra></extra>",
         "legendgroup": "AU",
         "marker": {
          "color": "rgb(81, 178, 124)",
          "pattern": {
           "shape": ""
          }
         },
         "name": "AU",
         "offsetgroup": "AU",
         "orientation": "v",
         "showlegend": true,
         "text": [
          50
         ],
         "textposition": "auto",
         "type": "bar",
         "x": [
          "AU"
         ],
         "xaxis": "x",
         "y": [
          50
         ],
         "yaxis": "y"
        },
        {
         "alignmentgroup": "True",
         "hovertemplate": "color=PT<br>x=%{x}<br>y=%{y}<br>text=%{text}<extra></extra>",
         "legendgroup": "PT",
         "marker": {
          "color": "rgb(111, 198, 107)",
          "pattern": {
           "shape": ""
          }
         },
         "name": "PT",
         "offsetgroup": "PT",
         "orientation": "v",
         "showlegend": true,
         "text": [
          30
         ],
         "textposition": "auto",
         "type": "bar",
         "x": [
          "PT"
         ],
         "xaxis": "x",
         "y": [
          30
         ],
         "yaxis": "y"
        },
        {
         "alignmentgroup": "True",
         "hovertemplate": "color=NL<br>x=%{x}<br>y=%{y}<br>text=%{text}<extra></extra>",
         "legendgroup": "NL",
         "marker": {
          "color": "rgb(160, 214, 91)",
          "pattern": {
           "shape": ""
          }
         },
         "name": "NL",
         "offsetgroup": "NL",
         "orientation": "v",
         "showlegend": true,
         "text": [
          28
         ],
         "textposition": "auto",
         "type": "bar",
         "x": [
          "NL"
         ],
         "xaxis": "x",
         "y": [
          28
         ],
         "yaxis": "y"
        }
       ],
       "layout": {
        "barmode": "relative",
        "font": {
         "family": "Franklin Gothic",
         "size": 17
        },
        "height": 800,
        "legend": {
         "title": {
          "text": "color"
         },
         "tracegroupgap": 0
        },
        "template": {
         "data": {
          "bar": [
           {
            "error_x": {
             "color": "#f2f5fa"
            },
            "error_y": {
             "color": "#f2f5fa"
            },
            "marker": {
             "line": {
              "color": "rgb(17,17,17)",
              "width": 0.5
             },
             "pattern": {
              "fillmode": "overlay",
              "size": 10,
              "solidity": 0.2
             }
            },
            "type": "bar"
           }
          ],
          "barpolar": [
           {
            "marker": {
             "line": {
              "color": "rgb(17,17,17)",
              "width": 0.5
             },
             "pattern": {
              "fillmode": "overlay",
              "size": 10,
              "solidity": 0.2
             }
            },
            "type": "barpolar"
           }
          ],
          "carpet": [
           {
            "aaxis": {
             "endlinecolor": "#A2B1C6",
             "gridcolor": "#506784",
             "linecolor": "#506784",
             "minorgridcolor": "#506784",
             "startlinecolor": "#A2B1C6"
            },
            "baxis": {
             "endlinecolor": "#A2B1C6",
             "gridcolor": "#506784",
             "linecolor": "#506784",
             "minorgridcolor": "#506784",
             "startlinecolor": "#A2B1C6"
            },
            "type": "carpet"
           }
          ],
          "choropleth": [
           {
            "colorbar": {
             "outlinewidth": 0,
             "ticks": ""
            },
            "type": "choropleth"
           }
          ],
          "contour": [
           {
            "colorbar": {
             "outlinewidth": 0,
             "ticks": ""
            },
            "colorscale": [
             [
              0,
              "#0d0887"
             ],
             [
              0.1111111111111111,
              "#46039f"
             ],
             [
              0.2222222222222222,
              "#7201a8"
             ],
             [
              0.3333333333333333,
              "#9c179e"
             ],
             [
              0.4444444444444444,
              "#bd3786"
             ],
             [
              0.5555555555555556,
              "#d8576b"
             ],
             [
              0.6666666666666666,
              "#ed7953"
             ],
             [
              0.7777777777777778,
              "#fb9f3a"
             ],
             [
              0.8888888888888888,
              "#fdca26"
             ],
             [
              1,
              "#f0f921"
             ]
            ],
            "type": "contour"
           }
          ],
          "contourcarpet": [
           {
            "colorbar": {
             "outlinewidth": 0,
             "ticks": ""
            },
            "type": "contourcarpet"
           }
          ],
          "heatmap": [
           {
            "colorbar": {
             "outlinewidth": 0,
             "ticks": ""
            },
            "colorscale": [
             [
              0,
              "#0d0887"
             ],
             [
              0.1111111111111111,
              "#46039f"
             ],
             [
              0.2222222222222222,
              "#7201a8"
             ],
             [
              0.3333333333333333,
              "#9c179e"
             ],
             [
              0.4444444444444444,
              "#bd3786"
             ],
             [
              0.5555555555555556,
              "#d8576b"
             ],
             [
              0.6666666666666666,
              "#ed7953"
             ],
             [
              0.7777777777777778,
              "#fb9f3a"
             ],
             [
              0.8888888888888888,
              "#fdca26"
             ],
             [
              1,
              "#f0f921"
             ]
            ],
            "type": "heatmap"
           }
          ],
          "heatmapgl": [
           {
            "colorbar": {
             "outlinewidth": 0,
             "ticks": ""
            },
            "colorscale": [
             [
              0,
              "#0d0887"
             ],
             [
              0.1111111111111111,
              "#46039f"
             ],
             [
              0.2222222222222222,
              "#7201a8"
             ],
             [
              0.3333333333333333,
              "#9c179e"
             ],
             [
              0.4444444444444444,
              "#bd3786"
             ],
             [
              0.5555555555555556,
              "#d8576b"
             ],
             [
              0.6666666666666666,
              "#ed7953"
             ],
             [
              0.7777777777777778,
              "#fb9f3a"
             ],
             [
              0.8888888888888888,
              "#fdca26"
             ],
             [
              1,
              "#f0f921"
             ]
            ],
            "type": "heatmapgl"
           }
          ],
          "histogram": [
           {
            "marker": {
             "pattern": {
              "fillmode": "overlay",
              "size": 10,
              "solidity": 0.2
             }
            },
            "type": "histogram"
           }
          ],
          "histogram2d": [
           {
            "colorbar": {
             "outlinewidth": 0,
             "ticks": ""
            },
            "colorscale": [
             [
              0,
              "#0d0887"
             ],
             [
              0.1111111111111111,
              "#46039f"
             ],
             [
              0.2222222222222222,
              "#7201a8"
             ],
             [
              0.3333333333333333,
              "#9c179e"
             ],
             [
              0.4444444444444444,
              "#bd3786"
             ],
             [
              0.5555555555555556,
              "#d8576b"
             ],
             [
              0.6666666666666666,
              "#ed7953"
             ],
             [
              0.7777777777777778,
              "#fb9f3a"
             ],
             [
              0.8888888888888888,
              "#fdca26"
             ],
             [
              1,
              "#f0f921"
             ]
            ],
            "type": "histogram2d"
           }
          ],
          "histogram2dcontour": [
           {
            "colorbar": {
             "outlinewidth": 0,
             "ticks": ""
            },
            "colorscale": [
             [
              0,
              "#0d0887"
             ],
             [
              0.1111111111111111,
              "#46039f"
             ],
             [
              0.2222222222222222,
              "#7201a8"
             ],
             [
              0.3333333333333333,
              "#9c179e"
             ],
             [
              0.4444444444444444,
              "#bd3786"
             ],
             [
              0.5555555555555556,
              "#d8576b"
             ],
             [
              0.6666666666666666,
              "#ed7953"
             ],
             [
              0.7777777777777778,
              "#fb9f3a"
             ],
             [
              0.8888888888888888,
              "#fdca26"
             ],
             [
              1,
              "#f0f921"
             ]
            ],
            "type": "histogram2dcontour"
           }
          ],
          "mesh3d": [
           {
            "colorbar": {
             "outlinewidth": 0,
             "ticks": ""
            },
            "type": "mesh3d"
           }
          ],
          "parcoords": [
           {
            "line": {
             "colorbar": {
              "outlinewidth": 0,
              "ticks": ""
             }
            },
            "type": "parcoords"
           }
          ],
          "pie": [
           {
            "automargin": true,
            "type": "pie"
           }
          ],
          "scatter": [
           {
            "marker": {
             "line": {
              "color": "#283442"
             }
            },
            "type": "scatter"
           }
          ],
          "scatter3d": [
           {
            "line": {
             "colorbar": {
              "outlinewidth": 0,
              "ticks": ""
             }
            },
            "marker": {
             "colorbar": {
              "outlinewidth": 0,
              "ticks": ""
             }
            },
            "type": "scatter3d"
           }
          ],
          "scattercarpet": [
           {
            "marker": {
             "colorbar": {
              "outlinewidth": 0,
              "ticks": ""
             }
            },
            "type": "scattercarpet"
           }
          ],
          "scattergeo": [
           {
            "marker": {
             "colorbar": {
              "outlinewidth": 0,
              "ticks": ""
             }
            },
            "type": "scattergeo"
           }
          ],
          "scattergl": [
           {
            "marker": {
             "line": {
              "color": "#283442"
             }
            },
            "type": "scattergl"
           }
          ],
          "scattermapbox": [
           {
            "marker": {
             "colorbar": {
              "outlinewidth": 0,
              "ticks": ""
             }
            },
            "type": "scattermapbox"
           }
          ],
          "scatterpolar": [
           {
            "marker": {
             "colorbar": {
              "outlinewidth": 0,
              "ticks": ""
             }
            },
            "type": "scatterpolar"
           }
          ],
          "scatterpolargl": [
           {
            "marker": {
             "colorbar": {
              "outlinewidth": 0,
              "ticks": ""
             }
            },
            "type": "scatterpolargl"
           }
          ],
          "scatterternary": [
           {
            "marker": {
             "colorbar": {
              "outlinewidth": 0,
              "ticks": ""
             }
            },
            "type": "scatterternary"
           }
          ],
          "surface": [
           {
            "colorbar": {
             "outlinewidth": 0,
             "ticks": ""
            },
            "colorscale": [
             [
              0,
              "#0d0887"
             ],
             [
              0.1111111111111111,
              "#46039f"
             ],
             [
              0.2222222222222222,
              "#7201a8"
             ],
             [
              0.3333333333333333,
              "#9c179e"
             ],
             [
              0.4444444444444444,
              "#bd3786"
             ],
             [
              0.5555555555555556,
              "#d8576b"
             ],
             [
              0.6666666666666666,
              "#ed7953"
             ],
             [
              0.7777777777777778,
              "#fb9f3a"
             ],
             [
              0.8888888888888888,
              "#fdca26"
             ],
             [
              1,
              "#f0f921"
             ]
            ],
            "type": "surface"
           }
          ],
          "table": [
           {
            "cells": {
             "fill": {
              "color": "#506784"
             },
             "line": {
              "color": "rgb(17,17,17)"
             }
            },
            "header": {
             "fill": {
              "color": "#2a3f5f"
             },
             "line": {
              "color": "rgb(17,17,17)"
             }
            },
            "type": "table"
           }
          ]
         },
         "layout": {
          "annotationdefaults": {
           "arrowcolor": "#f2f5fa",
           "arrowhead": 0,
           "arrowwidth": 1
          },
          "autotypenumbers": "strict",
          "coloraxis": {
           "colorbar": {
            "outlinewidth": 0,
            "ticks": ""
           }
          },
          "colorscale": {
           "diverging": [
            [
             0,
             "#8e0152"
            ],
            [
             0.1,
             "#c51b7d"
            ],
            [
             0.2,
             "#de77ae"
            ],
            [
             0.3,
             "#f1b6da"
            ],
            [
             0.4,
             "#fde0ef"
            ],
            [
             0.5,
             "#f7f7f7"
            ],
            [
             0.6,
             "#e6f5d0"
            ],
            [
             0.7,
             "#b8e186"
            ],
            [
             0.8,
             "#7fbc41"
            ],
            [
             0.9,
             "#4d9221"
            ],
            [
             1,
             "#276419"
            ]
           ],
           "sequential": [
            [
             0,
             "#0d0887"
            ],
            [
             0.1111111111111111,
             "#46039f"
            ],
            [
             0.2222222222222222,
             "#7201a8"
            ],
            [
             0.3333333333333333,
             "#9c179e"
            ],
            [
             0.4444444444444444,
             "#bd3786"
            ],
            [
             0.5555555555555556,
             "#d8576b"
            ],
            [
             0.6666666666666666,
             "#ed7953"
            ],
            [
             0.7777777777777778,
             "#fb9f3a"
            ],
            [
             0.8888888888888888,
             "#fdca26"
            ],
            [
             1,
             "#f0f921"
            ]
           ],
           "sequentialminus": [
            [
             0,
             "#0d0887"
            ],
            [
             0.1111111111111111,
             "#46039f"
            ],
            [
             0.2222222222222222,
             "#7201a8"
            ],
            [
             0.3333333333333333,
             "#9c179e"
            ],
            [
             0.4444444444444444,
             "#bd3786"
            ],
            [
             0.5555555555555556,
             "#d8576b"
            ],
            [
             0.6666666666666666,
             "#ed7953"
            ],
            [
             0.7777777777777778,
             "#fb9f3a"
            ],
            [
             0.8888888888888888,
             "#fdca26"
            ],
            [
             1,
             "#f0f921"
            ]
           ]
          },
          "colorway": [
           "#636efa",
           "#EF553B",
           "#00cc96",
           "#ab63fa",
           "#FFA15A",
           "#19d3f3",
           "#FF6692",
           "#B6E880",
           "#FF97FF",
           "#FECB52"
          ],
          "font": {
           "color": "#f2f5fa"
          },
          "geo": {
           "bgcolor": "rgb(17,17,17)",
           "lakecolor": "rgb(17,17,17)",
           "landcolor": "rgb(17,17,17)",
           "showlakes": true,
           "showland": true,
           "subunitcolor": "#506784"
          },
          "hoverlabel": {
           "align": "left"
          },
          "hovermode": "closest",
          "mapbox": {
           "style": "dark"
          },
          "paper_bgcolor": "rgb(17,17,17)",
          "plot_bgcolor": "rgb(17,17,17)",
          "polar": {
           "angularaxis": {
            "gridcolor": "#506784",
            "linecolor": "#506784",
            "ticks": ""
           },
           "bgcolor": "rgb(17,17,17)",
           "radialaxis": {
            "gridcolor": "#506784",
            "linecolor": "#506784",
            "ticks": ""
           }
          },
          "scene": {
           "xaxis": {
            "backgroundcolor": "rgb(17,17,17)",
            "gridcolor": "#506784",
            "gridwidth": 2,
            "linecolor": "#506784",
            "showbackground": true,
            "ticks": "",
            "zerolinecolor": "#C8D4E3"
           },
           "yaxis": {
            "backgroundcolor": "rgb(17,17,17)",
            "gridcolor": "#506784",
            "gridwidth": 2,
            "linecolor": "#506784",
            "showbackground": true,
            "ticks": "",
            "zerolinecolor": "#C8D4E3"
           },
           "zaxis": {
            "backgroundcolor": "rgb(17,17,17)",
            "gridcolor": "#506784",
            "gridwidth": 2,
            "linecolor": "#506784",
            "showbackground": true,
            "ticks": "",
            "zerolinecolor": "#C8D4E3"
           }
          },
          "shapedefaults": {
           "line": {
            "color": "#f2f5fa"
           }
          },
          "sliderdefaults": {
           "bgcolor": "#C8D4E3",
           "bordercolor": "rgb(17,17,17)",
           "borderwidth": 1,
           "tickwidth": 0
          },
          "ternary": {
           "aaxis": {
            "gridcolor": "#506784",
            "linecolor": "#506784",
            "ticks": ""
           },
           "baxis": {
            "gridcolor": "#506784",
            "linecolor": "#506784",
            "ticks": ""
           },
           "bgcolor": "rgb(17,17,17)",
           "caxis": {
            "gridcolor": "#506784",
            "linecolor": "#506784",
            "ticks": ""
           }
          },
          "title": {
           "x": 0.05
          },
          "updatemenudefaults": {
           "bgcolor": "#506784",
           "borderwidth": 0
          },
          "xaxis": {
           "automargin": true,
           "gridcolor": "#283442",
           "linecolor": "#506784",
           "ticks": "",
           "title": {
            "standoff": 15
           },
           "zerolinecolor": "#283442",
           "zerolinewidth": 2
          },
          "yaxis": {
           "automargin": true,
           "gridcolor": "#283442",
           "linecolor": "#506784",
           "ticks": "",
           "title": {
            "standoff": 15
           },
           "zerolinecolor": "#283442",
           "zerolinewidth": 2
          }
         }
        },
        "title": {
         "text": "Top 10 Location of Employee"
        },
        "width": 1000,
        "xaxis": {
         "anchor": "y",
         "autorange": true,
         "domain": [
          0,
          1
         ],
         "range": [
          -0.5,
          9.5
         ],
         "title": {
          "text": "Location of Employee"
         },
         "type": "category"
        },
        "yaxis": {
         "anchor": "x",
         "autorange": true,
         "domain": [
          0,
          1
         ],
         "range": [
          0,
          13336.842105263158
         ],
         "title": {
          "text": "count"
         },
         "type": "linear"
        }
       }
      },
      "image/png": "[encoded data removed]"
     },
     "metadata": {},
     "output_type": "display_data"
    }
   ],
   "source": [
    "# Bar Chart: Job Postings by Top 10 Location of Employee\n",
    "\n",
    "residence = dfSalaries['employee_residence'].value_counts()\n",
    "\n",
    "top10_employee_location = residence[:10]\n",
    "\n",
    "fig = px.bar(\n",
    "    y=top10_employee_location.values,\n",
    "    x=top10_employee_location.index,\n",
    "    color = top10_employee_location.index,\n",
    "    color_discrete_sequence=px.colors.sequential.haline,\n",
    "    text=top10_employee_location.values,\n",
    "    title= 'Top 10 Location of Employee',\n",
    "    template= 'plotly_dark',\n",
    "    width=1000, height=800, \n",
    ")\n",
    "\n",
    "fig.update_layout(\n",
    "    xaxis_title=\"Location of Employee\",\n",
    "    yaxis_title=\"count\",\n",
    "    font = dict(size=17,family=\"Franklin Gothic\"))\n",
    "\n",
    "fig.show()"
   ]
  },
  {
   "cell_type": "code",
   "execution_count": 115,
   "id": "da96388b-fb03-4697-beba-3ad961338348",
   "metadata": {},
   "outputs": [
    {
     "data": {
      "application/vnd.plotly.v1+json": {
       "config": {
        "plotlyServerURL": "https://plot.ly"
       },
       "data": [
        {
         "alignmentgroup": "True",
         "hovertemplate": "color=Data Engineer<br>x=%{x}<br>y=%{y}<br>text=%{text}<extra></extra>",
         "legendgroup": "Data Engineer",
         "marker": {
          "color": "rgb(41, 24, 107)",
          "pattern": {
           "shape": ""
          }
         },
         "name": "Data Engineer",
         "offsetgroup": "Data Engineer",
         "orientation": "v",
         "showlegend": true,
         "text": [
          3141
         ],
         "textposition": "auto",
         "type": "bar",
         "visible": true,
         "x": [
          "Data Engineer"
         ],
         "xaxis": "x",
         "y": [
          3141
         ],
         "yaxis": "y"
        },
        {
         "alignmentgroup": "True",
         "hovertemplate": "color=Data Scientist<br>x=%{x}<br>y=%{y}<br>text=%{text}<extra></extra>",
         "legendgroup": "Data Scientist",
         "marker": {
          "color": "rgb(42, 35, 160)",
          "pattern": {
           "shape": ""
          }
         },
         "name": "Data Scientist",
         "offsetgroup": "Data Scientist",
         "orientation": "v",
         "showlegend": true,
         "text": [
          2982
         ],
         "textposition": "auto",
         "type": "bar",
         "visible": true,
         "x": [
          "Data Scientist"
         ],
         "xaxis": "x",
         "y": [
          2982
         ],
         "yaxis": "y"
        },
        {
         "alignmentgroup": "True",
         "hovertemplate": "color=Data Analyst<br>x=%{x}<br>y=%{y}<br>text=%{text}<extra></extra>",
         "legendgroup": "Data Analyst",
         "marker": {
          "color": "rgb(15, 71, 153)",
          "pattern": {
           "shape": ""
          }
         },
         "name": "Data Analyst",
         "offsetgroup": "Data Analyst",
         "orientation": "v",
         "showlegend": true,
         "text": [
          2183
         ],
         "textposition": "auto",
         "type": "bar",
         "visible": true,
         "x": [
          "Data Analyst"
         ],
         "xaxis": "x",
         "y": [
          2183
         ],
         "yaxis": "y"
        },
        {
         "alignmentgroup": "True",
         "hovertemplate": "color=Machine Learning Engineer<br>x=%{x}<br>y=%{y}<br>text=%{text}<extra></extra>",
         "legendgroup": "Machine Learning Engineer",
         "marker": {
          "color": "rgb(18, 95, 142)",
          "pattern": {
           "shape": ""
          }
         },
         "name": "Machine Learning Engineer",
         "offsetgroup": "Machine Learning Engineer",
         "orientation": "v",
         "showlegend": true,
         "text": [
          1482
         ],
         "textposition": "auto",
         "type": "bar",
         "visible": true,
         "x": [
          "Machine Learning Engineer"
         ],
         "xaxis": "x",
         "y": [
          1482
         ],
         "yaxis": "y"
        },
        {
         "alignmentgroup": "True",
         "hovertemplate": "color=Research Scientist<br>x=%{x}<br>y=%{y}<br>text=%{text}<extra></extra>",
         "legendgroup": "Research Scientist",
         "marker": {
          "color": "rgb(38, 116, 137)",
          "pattern": {
           "shape": ""
          }
         },
         "name": "Research Scientist",
         "offsetgroup": "Research Scientist",
         "orientation": "v",
         "showlegend": true,
         "text": [
          440
         ],
         "textposition": "auto",
         "type": "bar",
         "x": [
          "Research Scientist"
         ],
         "xaxis": "x",
         "y": [
          440
         ],
         "yaxis": "y"
        },
        {
         "alignmentgroup": "True",
         "hovertemplate": "color=Analytics Engineer<br>x=%{x}<br>y=%{y}<br>text=%{text}<extra></extra>",
         "legendgroup": "Analytics Engineer",
         "marker": {
          "color": "rgb(53, 136, 136)",
          "pattern": {
           "shape": ""
          }
         },
         "name": "Analytics Engineer",
         "offsetgroup": "Analytics Engineer",
         "orientation": "v",
         "showlegend": true,
         "text": [
          394
         ],
         "textposition": "auto",
         "type": "bar",
         "visible": true,
         "x": [
          "Analytics Engineer"
         ],
         "xaxis": "x",
         "y": [
          394
         ],
         "yaxis": "y"
        },
        {
         "alignmentgroup": "True",
         "hovertemplate": "color=Applied Scientist<br>x=%{x}<br>y=%{y}<br>text=%{text}<extra></extra>",
         "legendgroup": "Applied Scientist",
         "marker": {
          "color": "rgb(65, 157, 133)",
          "pattern": {
           "shape": ""
          }
         },
         "name": "Applied Scientist",
         "offsetgroup": "Applied Scientist",
         "orientation": "v",
         "showlegend": true,
         "text": [
          381
         ],
         "textposition": "auto",
         "type": "bar",
         "visible": true,
         "x": [
          "Applied Scientist"
         ],
         "xaxis": "x",
         "y": [
          381
         ],
         "yaxis": "y"
        },
        {
         "alignmentgroup": "True",
         "hovertemplate": "color=Data Architect<br>x=%{x}<br>y=%{y}<br>text=%{text}<extra></extra>",
         "legendgroup": "Data Architect",
         "marker": {
          "color": "rgb(81, 178, 124)",
          "pattern": {
           "shape": ""
          }
         },
         "name": "Data Architect",
         "offsetgroup": "Data Architect",
         "orientation": "v",
         "showlegend": true,
         "text": [
          362
         ],
         "textposition": "auto",
         "type": "bar",
         "visible": true,
         "x": [
          "Data Architect"
         ],
         "xaxis": "x",
         "y": [
          362
         ],
         "yaxis": "y"
        },
        {
         "alignmentgroup": "True",
         "hovertemplate": "color=Research Engineer<br>x=%{x}<br>y=%{y}<br>text=%{text}<extra></extra>",
         "legendgroup": "Research Engineer",
         "marker": {
          "color": "rgb(111, 198, 107)",
          "pattern": {
           "shape": ""
          }
         },
         "name": "Research Engineer",
         "offsetgroup": "Research Engineer",
         "orientation": "v",
         "showlegend": true,
         "text": [
          254
         ],
         "textposition": "auto",
         "type": "bar",
         "visible": true,
         "x": [
          "Research Engineer"
         ],
         "xaxis": "x",
         "y": [
          254
         ],
         "yaxis": "y"
        },
        {
         "alignmentgroup": "True",
         "hovertemplate": "color=Business Intelligence Engineer<br>x=%{x}<br>y=%{y}<br>text=%{text}<extra></extra>",
         "legendgroup": "Business Intelligence Engineer",
         "marker": {
          "color": "rgb(160, 214, 91)",
          "pattern": {
           "shape": ""
          }
         },
         "name": "Business Intelligence Engineer",
         "offsetgroup": "Business Intelligence Engineer",
         "orientation": "v",
         "showlegend": true,
         "text": [
          230
         ],
         "textposition": "auto",
         "type": "bar",
         "visible": true,
         "x": [
          "Business Intelligence Engineer"
         ],
         "xaxis": "x",
         "y": [
          230
         ],
         "yaxis": "y"
        }
       ],
       "layout": {
        "barmode": "relative",
        "font": {
         "family": "Franklin Gothic",
         "size": 17
        },
        "height": 800,
        "legend": {
         "title": {
          "text": "color"
         },
         "tracegroupgap": 0
        },
        "template": {
         "data": {
          "bar": [
           {
            "error_x": {
             "color": "#f2f5fa"
            },
            "error_y": {
             "color": "#f2f5fa"
            },
            "marker": {
             "line": {
              "color": "rgb(17,17,17)",
              "width": 0.5
             },
             "pattern": {
              "fillmode": "overlay",
              "size": 10,
              "solidity": 0.2
             }
            },
            "type": "bar"
           }
          ],
          "barpolar": [
           {
            "marker": {
             "line": {
              "color": "rgb(17,17,17)",
              "width": 0.5
             },
             "pattern": {
              "fillmode": "overlay",
              "size": 10,
              "solidity": 0.2
             }
            },
            "type": "barpolar"
           }
          ],
          "carpet": [
           {
            "aaxis": {
             "endlinecolor": "#A2B1C6",
             "gridcolor": "#506784",
             "linecolor": "#506784",
             "minorgridcolor": "#506784",
             "startlinecolor": "#A2B1C6"
            },
            "baxis": {
             "endlinecolor": "#A2B1C6",
             "gridcolor": "#506784",
             "linecolor": "#506784",
             "minorgridcolor": "#506784",
             "startlinecolor": "#A2B1C6"
            },
            "type": "carpet"
           }
          ],
          "choropleth": [
           {
            "colorbar": {
             "outlinewidth": 0,
             "ticks": ""
            },
            "type": "choropleth"
           }
          ],
          "contour": [
           {
            "colorbar": {
             "outlinewidth": 0,
             "ticks": ""
            },
            "colorscale": [
             [
              0,
              "#0d0887"
             ],
             [
              0.1111111111111111,
              "#46039f"
             ],
             [
              0.2222222222222222,
              "#7201a8"
             ],
             [
              0.3333333333333333,
              "#9c179e"
             ],
             [
              0.4444444444444444,
              "#bd3786"
             ],
             [
              0.5555555555555556,
              "#d8576b"
             ],
             [
              0.6666666666666666,
              "#ed7953"
             ],
             [
              0.7777777777777778,
              "#fb9f3a"
             ],
             [
              0.8888888888888888,
              "#fdca26"
             ],
             [
              1,
              "#f0f921"
             ]
            ],
            "type": "contour"
           }
          ],
          "contourcarpet": [
           {
            "colorbar": {
             "outlinewidth": 0,
             "ticks": ""
            },
            "type": "contourcarpet"
           }
          ],
          "heatmap": [
           {
            "colorbar": {
             "outlinewidth": 0,
             "ticks": ""
            },
            "colorscale": [
             [
              0,
              "#0d0887"
             ],
             [
              0.1111111111111111,
              "#46039f"
             ],
             [
              0.2222222222222222,
              "#7201a8"
             ],
             [
              0.3333333333333333,
              "#9c179e"
             ],
             [
              0.4444444444444444,
              "#bd3786"
             ],
             [
              0.5555555555555556,
              "#d8576b"
             ],
             [
              0.6666666666666666,
              "#ed7953"
             ],
             [
              0.7777777777777778,
              "#fb9f3a"
             ],
             [
              0.8888888888888888,
              "#fdca26"
             ],
             [
              1,
              "#f0f921"
             ]
            ],
            "type": "heatmap"
           }
          ],
          "heatmapgl": [
           {
            "colorbar": {
             "outlinewidth": 0,
             "ticks": ""
            },
            "colorscale": [
             [
              0,
              "#0d0887"
             ],
             [
              0.1111111111111111,
              "#46039f"
             ],
             [
              0.2222222222222222,
              "#7201a8"
             ],
             [
              0.3333333333333333,
              "#9c179e"
             ],
             [
              0.4444444444444444,
              "#bd3786"
             ],
             [
              0.5555555555555556,
              "#d8576b"
             ],
             [
              0.6666666666666666,
              "#ed7953"
             ],
             [
              0.7777777777777778,
              "#fb9f3a"
             ],
             [
              0.8888888888888888,
              "#fdca26"
             ],
             [
              1,
              "#f0f921"
             ]
            ],
            "type": "heatmapgl"
           }
          ],
          "histogram": [
           {
            "marker": {
             "pattern": {
              "fillmode": "overlay",
              "size": 10,
              "solidity": 0.2
             }
            },
            "type": "histogram"
           }
          ],
          "histogram2d": [
           {
            "colorbar": {
             "outlinewidth": 0,
             "ticks": ""
            },
            "colorscale": [
             [
              0,
              "#0d0887"
             ],
             [
              0.1111111111111111,
              "#46039f"
             ],
             [
              0.2222222222222222,
              "#7201a8"
             ],
             [
              0.3333333333333333,
              "#9c179e"
             ],
             [
              0.4444444444444444,
              "#bd3786"
             ],
             [
              0.5555555555555556,
              "#d8576b"
             ],
             [
              0.6666666666666666,
              "#ed7953"
             ],
             [
              0.7777777777777778,
              "#fb9f3a"
             ],
             [
              0.8888888888888888,
              "#fdca26"
             ],
             [
              1,
              "#f0f921"
             ]
            ],
            "type": "histogram2d"
           }
          ],
          "histogram2dcontour": [
           {
            "colorbar": {
             "outlinewidth": 0,
             "ticks": ""
            },
            "colorscale": [
             [
              0,
              "#0d0887"
             ],
             [
              0.1111111111111111,
              "#46039f"
             ],
             [
              0.2222222222222222,
              "#7201a8"
             ],
             [
              0.3333333333333333,
              "#9c179e"
             ],
             [
              0.4444444444444444,
              "#bd3786"
             ],
             [
              0.5555555555555556,
              "#d8576b"
             ],
             [
              0.6666666666666666,
              "#ed7953"
             ],
             [
              0.7777777777777778,
              "#fb9f3a"
             ],
             [
              0.8888888888888888,
              "#fdca26"
             ],
             [
              1,
              "#f0f921"
             ]
            ],
            "type": "histogram2dcontour"
           }
          ],
          "mesh3d": [
           {
            "colorbar": {
             "outlinewidth": 0,
             "ticks": ""
            },
            "type": "mesh3d"
           }
          ],
          "parcoords": [
           {
            "line": {
             "colorbar": {
              "outlinewidth": 0,
              "ticks": ""
             }
            },
            "type": "parcoords"
           }
          ],
          "pie": [
           {
            "automargin": true,
            "type": "pie"
           }
          ],
          "scatter": [
           {
            "marker": {
             "line": {
              "color": "#283442"
             }
            },
            "type": "scatter"
           }
          ],
          "scatter3d": [
           {
            "line": {
             "colorbar": {
              "outlinewidth": 0,
              "ticks": ""
             }
            },
            "marker": {
             "colorbar": {
              "outlinewidth": 0,
              "ticks": ""
             }
            },
            "type": "scatter3d"
           }
          ],
          "scattercarpet": [
           {
            "marker": {
             "colorbar": {
              "outlinewidth": 0,
              "ticks": ""
             }
            },
            "type": "scattercarpet"
           }
          ],
          "scattergeo": [
           {
            "marker": {
             "colorbar": {
              "outlinewidth": 0,
              "ticks": ""
             }
            },
            "type": "scattergeo"
           }
          ],
          "scattergl": [
           {
            "marker": {
             "line": {
              "color": "#283442"
             }
            },
            "type": "scattergl"
           }
          ],
          "scattermapbox": [
           {
            "marker": {
             "colorbar": {
              "outlinewidth": 0,
              "ticks": ""
             }
            },
            "type": "scattermapbox"
           }
          ],
          "scatterpolar": [
           {
            "marker": {
             "colorbar": {
              "outlinewidth": 0,
              "ticks": ""
             }
            },
            "type": "scatterpolar"
           }
          ],
          "scatterpolargl": [
           {
            "marker": {
             "colorbar": {
              "outlinewidth": 0,
              "ticks": ""
             }
            },
            "type": "scatterpolargl"
           }
          ],
          "scatterternary": [
           {
            "marker": {
             "colorbar": {
              "outlinewidth": 0,
              "ticks": ""
             }
            },
            "type": "scatterternary"
           }
          ],
          "surface": [
           {
            "colorbar": {
             "outlinewidth": 0,
             "ticks": ""
            },
            "colorscale": [
             [
              0,
              "#0d0887"
             ],
             [
              0.1111111111111111,
              "#46039f"
             ],
             [
              0.2222222222222222,
              "#7201a8"
             ],
             [
              0.3333333333333333,
              "#9c179e"
             ],
             [
              0.4444444444444444,
              "#bd3786"
             ],
             [
              0.5555555555555556,
              "#d8576b"
             ],
             [
              0.6666666666666666,
              "#ed7953"
             ],
             [
              0.7777777777777778,
              "#fb9f3a"
             ],
             [
              0.8888888888888888,
              "#fdca26"
             ],
             [
              1,
              "#f0f921"
             ]
            ],
            "type": "surface"
           }
          ],
          "table": [
           {
            "cells": {
             "fill": {
              "color": "#506784"
             },
             "line": {
              "color": "rgb(17,17,17)"
             }
            },
            "header": {
             "fill": {
              "color": "#2a3f5f"
             },
             "line": {
              "color": "rgb(17,17,17)"
             }
            },
            "type": "table"
           }
          ]
         },
         "layout": {
          "annotationdefaults": {
           "arrowcolor": "#f2f5fa",
           "arrowhead": 0,
           "arrowwidth": 1
          },
          "autotypenumbers": "strict",
          "coloraxis": {
           "colorbar": {
            "outlinewidth": 0,
            "ticks": ""
           }
          },
          "colorscale": {
           "diverging": [
            [
             0,
             "#8e0152"
            ],
            [
             0.1,
             "#c51b7d"
            ],
            [
             0.2,
             "#de77ae"
            ],
            [
             0.3,
             "#f1b6da"
            ],
            [
             0.4,
             "#fde0ef"
            ],
            [
             0.5,
             "#f7f7f7"
            ],
            [
             0.6,
             "#e6f5d0"
            ],
            [
             0.7,
             "#b8e186"
            ],
            [
             0.8,
             "#7fbc41"
            ],
            [
             0.9,
             "#4d9221"
            ],
            [
             1,
             "#276419"
            ]
           ],
           "sequential": [
            [
             0,
             "#0d0887"
            ],
            [
             0.1111111111111111,
             "#46039f"
            ],
            [
             0.2222222222222222,
             "#7201a8"
            ],
            [
             0.3333333333333333,
             "#9c179e"
            ],
            [
             0.4444444444444444,
             "#bd3786"
            ],
            [
             0.5555555555555556,
             "#d8576b"
            ],
            [
             0.6666666666666666,
             "#ed7953"
            ],
            [
             0.7777777777777778,
             "#fb9f3a"
            ],
            [
             0.8888888888888888,
             "#fdca26"
            ],
            [
             1,
             "#f0f921"
            ]
           ],
           "sequentialminus": [
            [
             0,
             "#0d0887"
            ],
            [
             0.1111111111111111,
             "#46039f"
            ],
            [
             0.2222222222222222,
             "#7201a8"
            ],
            [
             0.3333333333333333,
             "#9c179e"
            ],
            [
             0.4444444444444444,
             "#bd3786"
            ],
            [
             0.5555555555555556,
             "#d8576b"
            ],
            [
             0.6666666666666666,
             "#ed7953"
            ],
            [
             0.7777777777777778,
             "#fb9f3a"
            ],
            [
             0.8888888888888888,
             "#fdca26"
            ],
            [
             1,
             "#f0f921"
            ]
           ]
          },
          "colorway": [
           "#636efa",
           "#EF553B",
           "#00cc96",
           "#ab63fa",
           "#FFA15A",
           "#19d3f3",
           "#FF6692",
           "#B6E880",
           "#FF97FF",
           "#FECB52"
          ],
          "font": {
           "color": "#f2f5fa"
          },
          "geo": {
           "bgcolor": "rgb(17,17,17)",
           "lakecolor": "rgb(17,17,17)",
           "landcolor": "rgb(17,17,17)",
           "showlakes": true,
           "showland": true,
           "subunitcolor": "#506784"
          },
          "hoverlabel": {
           "align": "left"
          },
          "hovermode": "closest",
          "mapbox": {
           "style": "dark"
          },
          "paper_bgcolor": "rgb(17,17,17)",
          "plot_bgcolor": "rgb(17,17,17)",
          "polar": {
           "angularaxis": {
            "gridcolor": "#506784",
            "linecolor": "#506784",
            "ticks": ""
           },
           "bgcolor": "rgb(17,17,17)",
           "radialaxis": {
            "gridcolor": "#506784",
            "linecolor": "#506784",
            "ticks": ""
           }
          },
          "scene": {
           "xaxis": {
            "backgroundcolor": "rgb(17,17,17)",
            "gridcolor": "#506784",
            "gridwidth": 2,
            "linecolor": "#506784",
            "showbackground": true,
            "ticks": "",
            "zerolinecolor": "#C8D4E3"
           },
           "yaxis": {
            "backgroundcolor": "rgb(17,17,17)",
            "gridcolor": "#506784",
            "gridwidth": 2,
            "linecolor": "#506784",
            "showbackground": true,
            "ticks": "",
            "zerolinecolor": "#C8D4E3"
           },
           "zaxis": {
            "backgroundcolor": "rgb(17,17,17)",
            "gridcolor": "#506784",
            "gridwidth": 2,
            "linecolor": "#506784",
            "showbackground": true,
            "ticks": "",
            "zerolinecolor": "#C8D4E3"
           }
          },
          "shapedefaults": {
           "line": {
            "color": "#f2f5fa"
           }
          },
          "sliderdefaults": {
           "bgcolor": "#C8D4E3",
           "bordercolor": "rgb(17,17,17)",
           "borderwidth": 1,
           "tickwidth": 0
          },
          "ternary": {
           "aaxis": {
            "gridcolor": "#506784",
            "linecolor": "#506784",
            "ticks": ""
           },
           "baxis": {
            "gridcolor": "#506784",
            "linecolor": "#506784",
            "ticks": ""
           },
           "bgcolor": "rgb(17,17,17)",
           "caxis": {
            "gridcolor": "#506784",
            "linecolor": "#506784",
            "ticks": ""
           }
          },
          "title": {
           "x": 0.05
          },
          "updatemenudefaults": {
           "bgcolor": "#506784",
           "borderwidth": 0
          },
          "xaxis": {
           "automargin": true,
           "gridcolor": "#283442",
           "linecolor": "#506784",
           "ticks": "",
           "title": {
            "standoff": 15
           },
           "zerolinecolor": "#283442",
           "zerolinewidth": 2
          },
          "yaxis": {
           "automargin": true,
           "gridcolor": "#283442",
           "linecolor": "#506784",
           "ticks": "",
           "title": {
            "standoff": 15
           },
           "zerolinecolor": "#283442",
           "zerolinewidth": 2
          }
         }
        },
        "title": {
         "text": "Job Postings by Top 10 Job Titles"
        },
        "width": 1000,
        "xaxis": {
         "anchor": "y",
         "autorange": true,
         "domain": [
          0,
          1
         ],
         "range": [
          -0.5,
          9.5
         ],
         "title": {
          "text": "Job Titles"
         },
         "type": "category"
        },
        "yaxis": {
         "anchor": "x",
         "autorange": true,
         "domain": [
          0,
          1
         ],
         "range": [
          0,
          3306.315789473684
         ],
         "title": {
          "text": "Job Postings"
         },
         "type": "linear"
        }
       }
      },
      "image/png": "[encoded data removed]"
     },
     "metadata": {},
     "output_type": "display_data"
    }
   ],
   "source": [
    "# Bar Chart: Job Postings by Top 10 Job Titles\n",
    "\n",
    "top10_job_title = dfSalaries['job_title'].value_counts()[:10]\n",
    "\n",
    "fig = px.bar(\n",
    "    y=top10_job_title.values,\n",
    "    x=top10_job_title.index,\n",
    "    color = top10_job_title.index,\n",
    "    color_discrete_sequence=px.colors.sequential.haline,\n",
    "    text=top10_job_title.values,\n",
    "    title= 'Job Postings by Top 10 Job Titles',\n",
    "    template= 'plotly_dark',\n",
    "    width=1000, height=800,  # Width and height\n",
    ")\n",
    "\n",
    "fig.update_layout(\n",
    "    xaxis_title=\"Job Titles\",\n",
    "    yaxis_title=\"Job Postings\",\n",
    "    font = dict(size=17,family=\"Franklin Gothic\"))\n",
    "\n",
    "fig.show()"
   ]
  }
 ],
 "metadata": {
  "kernelspec": {
   "display_name": "Python 3 (ipykernel)",
   "language": "python",
   "name": "python3"
  },
  "language_info": {
   "codemirror_mode": {
    "name": "ipython",
    "version": 3
   },
   "file_extension": ".py",
   "mimetype": "text/x-python",
   "name": "python",
   "nbconvert_exporter": "python",
   "pygments_lexer": "ipython3",
   "version": "3.12.4"
  }
 },
 "nbformat": 4,
 "nbformat_minor": 5
}
